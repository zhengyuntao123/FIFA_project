{
 "cells": [
  {
   "cell_type": "markdown",
   "id": "c9ec86c5",
   "metadata": {},
   "source": [
    "## Data Engineering"
   ]
  },
  {
   "cell_type": "code",
   "execution_count": 1,
   "id": "4a16ca8a",
   "metadata": {},
   "outputs": [],
   "source": [
    "import os\n",
    "import findspark\n",
    "findspark.init()\n",
    "findspark.find()\n",
    "from pyspark.sql.functions import lit\n",
    "import pyspark\n",
    "from pyspark.sql import SparkSession\n",
    "from pyspark import SparkContext, SQLContext\n",
    "from pyspark.sql.functions import monotonically_increasing_id\n",
    "import matplotlib.pyplot as plt\n",
    "import seaborn as sb\n",
    "from pyspark.sql.types import FloatType,IntegerType\n",
    "from pyspark.sql.functions import *"
   ]
  },
  {
   "cell_type": "code",
   "execution_count": 2,
   "id": "7c6a5e05",
   "metadata": {},
   "outputs": [
    {
     "name": "stderr",
     "output_type": "stream",
     "text": [
      "C:\\Spark\\python\\pyspark\\sql\\context.py:112: FutureWarning: Deprecated in 3.0.0. Use SparkSession.builder.getOrCreate() instead.\n",
      "  warnings.warn(\n"
     ]
    }
   ],
   "source": [
    "# connect spark to PostgreSQL\n",
    "appName = \"Big Data Analytics\"\n",
    "master = \"local\"\n",
    "\n",
    "# Create Configuration object for Spark.\n",
    "#\n",
    "conf = pyspark.SparkConf()\\\n",
    "    .set('spark.driver.host','127.0.0.1')\\\n",
    "    .setAppName(appName)\\\n",
    "    .setMaster(master) \n",
    "\n",
    "# Create Spark Context with the new configurations rather than relying on the default one\n",
    "sc = SparkContext.getOrCreate(conf=conf)\n",
    "\n",
    "# You need to create SQL Context to conduct some database operations like what we will see later.\n",
    "sqlContext = SQLContext(sc)\n",
    "\n",
    "# If you have SQL context, you create the session from the Spark Context\n",
    "spark = sqlContext.sparkSession.builder.getOrCreate()"
   ]
  },
  {
   "cell_type": "code",
   "execution_count": 3,
   "id": "b38dabc0",
   "metadata": {},
   "outputs": [
    {
     "name": "stdout",
     "output_type": "stream",
     "text": [
      "-RECORD 0-------------------------------------------\n",
      " sofifa_id                   | 158023               \n",
      " player_url                  | https://sofifa.co... \n",
      " short_name                  | L. Messi             \n",
      " long_name                   | Lionel Andrés Mes... \n",
      " player_positions            | CF                   \n",
      " overall                     | 93                   \n",
      " potential                   | 95                   \n",
      " value_eur                   | 1.005E8              \n",
      " wage_eur                    | 550000.0             \n",
      " age                         | 27                   \n",
      " dob                         | 1987-06-24           \n",
      " height_cm                   | 169                  \n",
      " weight_kg                   | 67                   \n",
      " club_team_id                | 241.0                \n",
      " club_name                   | FC Barcelona         \n",
      " league_name                 | Spain Primera Div... \n",
      " league_level                | 1                    \n",
      " club_position               | CF                   \n",
      " club_jersey_number          | 10                   \n",
      " club_loaned_from            | null                 \n",
      " club_joined                 | 2004-07-01           \n",
      " club_contract_valid_until   | 2018                 \n",
      " nationality_id              | 52                   \n",
      " nationality_name            | Argentina            \n",
      " nation_team_id              | 1369.0               \n",
      " nation_position             | CF                   \n",
      " nation_jersey_number        | 10                   \n",
      " preferred_foot              | Left                 \n",
      " weak_foot                   | 3                    \n",
      " skill_moves                 | 4                    \n",
      " international_reputation    | 5                    \n",
      " work_rate                   | Medium/Low           \n",
      " body_type                   | Normal (170-)        \n",
      " real_face                   | Yes                  \n",
      " release_clause_eur          | null                 \n",
      " player_tags                 | #Speedster, #Drib... \n",
      " player_traits               | Finesse Shot, Spe... \n",
      " pace                        | 93                   \n",
      " shooting                    | 89                   \n",
      " passing                     | 86                   \n",
      " dribbling                   | 96                   \n",
      " defending                   | 27                   \n",
      " physic                      | 63                   \n",
      " attacking_crossing          | 84                   \n",
      " attacking_finishing         | 94                   \n",
      " attacking_heading_accuracy  | 71                   \n",
      " attacking_short_passing     | 89                   \n",
      " attacking_volleys           | 85                   \n",
      " skill_dribbling             | 96                   \n",
      " skill_curve                 | 89                   \n",
      " skill_fk_accuracy           | 90                   \n",
      " skill_long_passing          | 76                   \n",
      " skill_ball_control          | 96                   \n",
      " movement_acceleration       | 96                   \n",
      " movement_sprint_speed       | 90                   \n",
      " movement_agility            | 94                   \n",
      " movement_reactions          | 94                   \n",
      " movement_balance            | 95                   \n",
      " power_shot_power            | 80                   \n",
      " power_jumping               | 73                   \n",
      " power_stamina               | 77                   \n",
      " power_strength              | 60                   \n",
      " power_long_shots            | 88                   \n",
      " mentality_aggression        | 48                   \n",
      " mentality_interceptions     | 22                   \n",
      " mentality_positioning       | 92                   \n",
      " mentality_vision            | 90                   \n",
      " mentality_penalties         | 76                   \n",
      " mentality_composure         | null                 \n",
      " defending_marking_awareness | 25                   \n",
      " defending_standing_tackle   | 21                   \n",
      " defending_sliding_tackle    | 20                   \n",
      " goalkeeping_diving          | 6                    \n",
      " goalkeeping_handling        | 11                   \n",
      " goalkeeping_kicking         | 15                   \n",
      " goalkeeping_positioning     | 14                   \n",
      " goalkeeping_reflexes        | 8                    \n",
      " goalkeeping_speed           | null                 \n",
      " ls                          | 89+3                 \n",
      " st                          | 89+3                 \n",
      " rs                          | 89+3                 \n",
      " lw                          | 92+3                 \n",
      " lf                          | 90+3                 \n",
      " cf                          | 90+3                 \n",
      " rf                          | 90+3                 \n",
      " rw                          | 92+3                 \n",
      " lam                         | 92+3                 \n",
      " cam                         | 92+3                 \n",
      " ram                         | 92+3                 \n",
      " lm                          | 90+3                 \n",
      " lcm                         | 79+3                 \n",
      " cm                          | 79+3                 \n",
      " rcm                         | 79+3                 \n",
      " rm                          | 90+3                 \n",
      " lwb                         | 62+3                 \n",
      " ldm                         | 62+3                 \n",
      " cdm                         | 62+3                 \n",
      " rdm                         | 62+3                 \n",
      " rwb                         | 62+3                 \n",
      " lb                          | 54+3                 \n",
      " lcb                         | 45+3                 \n",
      " cb                          | 45+3                 \n",
      " rcb                         | 45+3                 \n",
      " rb                          | 54+3                 \n",
      " gk                          | 15+3                 \n",
      " player_face_url             | https://cdn.sofif... \n",
      " club_logo_url               | https://cdn.sofif... \n",
      " club_flag_url               | https://cdn.sofif... \n",
      " nation_logo_url             | https://cdn.sofif... \n",
      " nation_flag_url             | https://cdn.sofif... \n",
      " year                        | 2015                 \n",
      "only showing top 1 row\n",
      "\n",
      "root\n",
      " |-- sofifa_id: integer (nullable = true)\n",
      " |-- player_url: string (nullable = true)\n",
      " |-- short_name: string (nullable = true)\n",
      " |-- long_name: string (nullable = true)\n",
      " |-- player_positions: string (nullable = true)\n",
      " |-- overall: integer (nullable = true)\n",
      " |-- potential: integer (nullable = true)\n",
      " |-- value_eur: float (nullable = true)\n",
      " |-- wage_eur: float (nullable = true)\n",
      " |-- age: integer (nullable = true)\n",
      " |-- dob: date (nullable = true)\n",
      " |-- height_cm: integer (nullable = true)\n",
      " |-- weight_kg: integer (nullable = true)\n",
      " |-- club_team_id: float (nullable = true)\n",
      " |-- club_name: string (nullable = true)\n",
      " |-- league_name: string (nullable = true)\n",
      " |-- league_level: integer (nullable = true)\n",
      " |-- club_position: string (nullable = true)\n",
      " |-- club_jersey_number: integer (nullable = true)\n",
      " |-- club_loaned_from: string (nullable = true)\n",
      " |-- club_joined: date (nullable = true)\n",
      " |-- club_contract_valid_until: integer (nullable = true)\n",
      " |-- nationality_id: integer (nullable = true)\n",
      " |-- nationality_name: string (nullable = true)\n",
      " |-- nation_team_id: float (nullable = true)\n",
      " |-- nation_position: string (nullable = true)\n",
      " |-- nation_jersey_number: integer (nullable = true)\n",
      " |-- preferred_foot: string (nullable = true)\n",
      " |-- weak_foot: integer (nullable = true)\n",
      " |-- skill_moves: integer (nullable = true)\n",
      " |-- international_reputation: integer (nullable = true)\n",
      " |-- work_rate: string (nullable = true)\n",
      " |-- body_type: string (nullable = true)\n",
      " |-- real_face: string (nullable = true)\n",
      " |-- release_clause_eur: float (nullable = true)\n",
      " |-- player_tags: string (nullable = true)\n",
      " |-- player_traits: string (nullable = true)\n",
      " |-- pace: integer (nullable = true)\n",
      " |-- shooting: integer (nullable = true)\n",
      " |-- passing: integer (nullable = true)\n",
      " |-- dribbling: integer (nullable = true)\n",
      " |-- defending: integer (nullable = true)\n",
      " |-- physic: integer (nullable = true)\n",
      " |-- attacking_crossing: integer (nullable = true)\n",
      " |-- attacking_finishing: integer (nullable = true)\n",
      " |-- attacking_heading_accuracy: integer (nullable = true)\n",
      " |-- attacking_short_passing: integer (nullable = true)\n",
      " |-- attacking_volleys: integer (nullable = true)\n",
      " |-- skill_dribbling: integer (nullable = true)\n",
      " |-- skill_curve: integer (nullable = true)\n",
      " |-- skill_fk_accuracy: integer (nullable = true)\n",
      " |-- skill_long_passing: integer (nullable = true)\n",
      " |-- skill_ball_control: integer (nullable = true)\n",
      " |-- movement_acceleration: integer (nullable = true)\n",
      " |-- movement_sprint_speed: integer (nullable = true)\n",
      " |-- movement_agility: integer (nullable = true)\n",
      " |-- movement_reactions: integer (nullable = true)\n",
      " |-- movement_balance: integer (nullable = true)\n",
      " |-- power_shot_power: integer (nullable = true)\n",
      " |-- power_jumping: integer (nullable = true)\n",
      " |-- power_stamina: integer (nullable = true)\n",
      " |-- power_strength: integer (nullable = true)\n",
      " |-- power_long_shots: integer (nullable = true)\n",
      " |-- mentality_aggression: integer (nullable = true)\n",
      " |-- mentality_interceptions: integer (nullable = true)\n",
      " |-- mentality_positioning: integer (nullable = true)\n",
      " |-- mentality_vision: integer (nullable = true)\n",
      " |-- mentality_penalties: integer (nullable = true)\n",
      " |-- mentality_composure: integer (nullable = true)\n",
      " |-- defending_marking_awareness: integer (nullable = true)\n",
      " |-- defending_standing_tackle: integer (nullable = true)\n",
      " |-- defending_sliding_tackle: integer (nullable = true)\n",
      " |-- goalkeeping_diving: integer (nullable = true)\n",
      " |-- goalkeeping_handling: integer (nullable = true)\n",
      " |-- goalkeeping_kicking: integer (nullable = true)\n",
      " |-- goalkeeping_positioning: integer (nullable = true)\n",
      " |-- goalkeeping_reflexes: integer (nullable = true)\n",
      " |-- goalkeeping_speed: integer (nullable = true)\n",
      " |-- ls: string (nullable = true)\n",
      " |-- st: string (nullable = true)\n",
      " |-- rs: string (nullable = true)\n",
      " |-- lw: string (nullable = true)\n",
      " |-- lf: string (nullable = true)\n",
      " |-- cf: string (nullable = true)\n",
      " |-- rf: string (nullable = true)\n",
      " |-- rw: string (nullable = true)\n",
      " |-- lam: string (nullable = true)\n",
      " |-- cam: string (nullable = true)\n",
      " |-- ram: string (nullable = true)\n",
      " |-- lm: string (nullable = true)\n",
      " |-- lcm: string (nullable = true)\n",
      " |-- cm: string (nullable = true)\n",
      " |-- rcm: string (nullable = true)\n",
      " |-- rm: string (nullable = true)\n",
      " |-- lwb: string (nullable = true)\n",
      " |-- ldm: string (nullable = true)\n",
      " |-- cdm: string (nullable = true)\n",
      " |-- rdm: string (nullable = true)\n",
      " |-- rwb: string (nullable = true)\n",
      " |-- lb: string (nullable = true)\n",
      " |-- lcb: string (nullable = true)\n",
      " |-- cb: string (nullable = true)\n",
      " |-- rcb: string (nullable = true)\n",
      " |-- rb: string (nullable = true)\n",
      " |-- gk: string (nullable = true)\n",
      " |-- player_face_url: string (nullable = true)\n",
      " |-- club_logo_url: string (nullable = true)\n",
      " |-- club_flag_url: string (nullable = true)\n",
      " |-- nation_logo_url: string (nullable = true)\n",
      " |-- nation_flag_url: string (nullable = true)\n",
      " |-- year: integer (nullable = true)\n",
      "\n"
     ]
    }
   ],
   "source": [
    "db_properties={}\n",
    "db_properties['username']=\"postgres\"\n",
    "db_properties['password']=\"200042\"\n",
    "db_properties['url']= \"jdbc:postgresql://localhost:5432/postgres\"\n",
    "db_properties['table']=\"fifa\"\n",
    "db_properties['driver']=\"org.postgresql.Driver\"\n",
    "df_read = sqlContext.read.format(\"jdbc\")\\\n",
    "    .option(\"url\", db_properties['url'])\\\n",
    "    .option(\"dbtable\", db_properties['table'])\\\n",
    "    .option(\"user\", db_properties['username'])\\\n",
    "    .option(\"password\", db_properties['password'])\\\n",
    "    .option(\"Driver\", db_properties['driver'])\\\n",
    "    .load()\n",
    "\n",
    "df_read.show(1, vertical=True)\n",
    "df_read.printSchema()"
   ]
  },
  {
   "cell_type": "code",
   "execution_count": 4,
   "id": "d808f19b",
   "metadata": {},
   "outputs": [],
   "source": [
    "df=df_read"
   ]
  },
  {
   "cell_type": "code",
   "execution_count": 5,
   "id": "2f5471c6",
   "metadata": {},
   "outputs": [],
   "source": [
    "#here comes a problem,['ls', 'st', 'rs', 'lw', 'lf', 'cf', 'rf', 'rw', 'lam', 'cam', 'ram', 'lm', 'lcm', \n",
    "#'cm', 'rcm', 'rm', 'lwb', 'ldm', 'cdm', 'rdm', 'rwb', 'lb', 'lcb', 'cb', 'rcb', 'rb', 'gk'] actually should not be category_features\n",
    "#We need to change each of this into two columns,which are 'potential' and 'original'\n",
    "columns_modify=['ls', 'st', 'rs', 'lw', 'lf', 'cf', 'rf', 'rw', 'lam', 'cam', 'ram', 'lm', 'lcm', 'cm', 'rcm', 'rm', 'lwb', 'ldm', 'cdm', 'rdm', 'rwb', 'lb', 'lcb', 'cb', 'rcb', 'rb', 'gk']"
   ]
  },
  {
   "cell_type": "code",
   "execution_count": 6,
   "id": "715c1e84",
   "metadata": {},
   "outputs": [],
   "source": [
    "def get_potential_udf(value):\n",
    "    operator_pos1 = value.find('+')\n",
    "    operator_pos2 = value.find('-')\n",
    "    \n",
    "    if operator_pos1 != -1:\n",
    "        result = int(value[:operator_pos1]) + int(value[operator_pos1+1:]) \n",
    "    elif operator_pos2 != -1:\n",
    "        result = int(value[:operator_pos2]) - int(value[operator_pos2+1:])\n",
    "    else:\n",
    "        result = int(value)  \n",
    "\n",
    "    return result\n",
    "\n",
    "def get_original_udf(value):\n",
    "    operator_pos1 = value.find('+')\n",
    "    operator_pos2 = value.find('-')\n",
    "    \n",
    "    if operator_pos1 != -1:\n",
    "        result = int(value[:operator_pos1])\n",
    "    elif operator_pos2 != -1:\n",
    "        result = int(value[:operator_pos2])\n",
    "    else:\n",
    "        result = int(value)  \n",
    "\n",
    "    return result"
   ]
  },
  {
   "cell_type": "code",
   "execution_count": 7,
   "id": "a7c14956",
   "metadata": {},
   "outputs": [],
   "source": [
    "get_potential = udf(get_potential_udf, IntegerType())\n",
    "get_original = udf(get_original_udf,IntegerType())"
   ]
  },
  {
   "cell_type": "code",
   "execution_count": 8,
   "id": "ca4cfb80",
   "metadata": {},
   "outputs": [],
   "source": [
    "for column in columns_modify:\n",
    "    column_potential=f'{column}_potential'\n",
    "    column_original=f'{column}_original'\n",
    "    df = df.withColumn(column_potential, get_potential(col(column)))\n",
    "    df =df.withColumn(column_original,get_original(col(column))).drop(column)  "
   ]
  },
  {
   "cell_type": "code",
   "execution_count": 9,
   "id": "a03925cc",
   "metadata": {},
   "outputs": [
    {
     "name": "stdout",
     "output_type": "stream",
     "text": [
      "['player_url', 'short_name', 'long_name', 'player_positions', 'club_name', 'league_name', 'club_position', 'club_loaned_from', 'nationality_name', 'nation_position', 'preferred_foot', 'work_rate', 'body_type', 'real_face', 'player_tags', 'player_traits', 'player_face_url', 'club_logo_url', 'club_flag_url', 'nation_logo_url', 'nation_flag_url']\n"
     ]
    }
   ],
   "source": [
    "string_features=[feature[0] for feature in df.dtypes if feature[1] in ('string')]\n",
    "print(string_features)"
   ]
  },
  {
   "cell_type": "code",
   "execution_count": 10,
   "id": "5a31722b",
   "metadata": {},
   "outputs": [],
   "source": [
    "#drop all string_features\n",
    "#Because these nominal features will increase the burden of memory and don't really play an important role in prediction.\n",
    "for col in string_features:\n",
    "    df=df.drop(col)"
   ]
  },
  {
   "cell_type": "code",
   "execution_count": 11,
   "id": "49c91475",
   "metadata": {},
   "outputs": [],
   "source": [
    "#drop 'dob' beacuase we already have 'age'\n",
    "# In adiition, 'dob' and 'club_joined' are date column\n",
    "df=df.drop('dob','club_joined')\n",
    "#'sofifa_id' should be dropped, because id should not be an index for predicting overall value\n",
    "df=df.drop('sofifa_id')"
   ]
  },
  {
   "cell_type": "code",
   "execution_count": 12,
   "id": "12c825df",
   "metadata": {},
   "outputs": [],
   "source": [
    "def get_null(df):\n",
    "    null_counts_df = df.select([count(when(isnan(c) | col(c).isNull(),c)).alias(c) for c in df.columns])\n",
    "\n",
    "    first_row_dict = null_counts_df.first().asDict()\n",
    "\n",
    "    filtered_data = {key: value for key, value in first_row_dict.items() if value != 0}\n",
    "    return filtered_data"
   ]
  },
  {
   "cell_type": "code",
   "execution_count": 13,
   "id": "95359dc6",
   "metadata": {},
   "outputs": [
    {
     "data": {
      "text/plain": [
       "{'value_eur': 1897,\n",
       " 'wage_eur': 1622,\n",
       " 'club_team_id': 1630,\n",
       " 'league_level': 2015,\n",
       " 'club_jersey_number': 1630,\n",
       " 'club_contract_valid_until': 1630,\n",
       " 'nation_team_id': 133635,\n",
       " 'nation_jersey_number': 133635,\n",
       " 'release_clause_eur': 55582,\n",
       " 'pace': 15791,\n",
       " 'shooting': 15791,\n",
       " 'passing': 15791,\n",
       " 'dribbling': 15791,\n",
       " 'defending': 15791,\n",
       " 'physic': 15791,\n",
       " 'mentality_composure': 31778,\n",
       " 'goalkeeping_speed': 126288}"
      ]
     },
     "execution_count": 13,
     "metadata": {},
     "output_type": "execute_result"
    }
   ],
   "source": [
    "# I don't know why if I don't import repeatedly, there will be an error occured\n",
    "from pyspark.sql.functions import *\n",
    "null_columns=get_null(df)\n",
    "null_columns"
   ]
  },
  {
   "cell_type": "code",
   "execution_count": 14,
   "id": "f0d62c70",
   "metadata": {},
   "outputs": [],
   "source": [
    "#drop columns that have more than half null values\n",
    "#'release_clause_eur' also need to be dropped, although it has less than half null values\n",
    "#We can see from above that, all goalkeepers don't have 'pace','shooting','passing','dribbling','defending'\n",
    "#And all players who are not goalkeeper don't have 'goalkeeping_speed'\n",
    "#In this case, I believe we should not drop  'goalkeeping_speed' because it's a very important index for goalkeepers.\n",
    "df=df.drop('release_clause_eur','nation_team_id','nation_jersey_number')"
   ]
  },
  {
   "cell_type": "code",
   "execution_count": 15,
   "id": "56d3369e",
   "metadata": {},
   "outputs": [
    {
     "data": {
      "text/plain": [
       "{'value_eur': 1897,\n",
       " 'wage_eur': 1622,\n",
       " 'club_team_id': 1630,\n",
       " 'league_level': 2015,\n",
       " 'club_jersey_number': 1630,\n",
       " 'club_contract_valid_until': 1630,\n",
       " 'pace': 15791,\n",
       " 'shooting': 15791,\n",
       " 'passing': 15791,\n",
       " 'dribbling': 15791,\n",
       " 'defending': 15791,\n",
       " 'physic': 15791,\n",
       " 'mentality_composure': 31778,\n",
       " 'goalkeeping_speed': 126288}"
      ]
     },
     "execution_count": 15,
     "metadata": {},
     "output_type": "execute_result"
    }
   ],
   "source": [
    "from pyspark.sql.functions import *\n",
    "null_columns=get_null(df)\n",
    "null_columns"
   ]
  },
  {
   "cell_type": "code",
   "execution_count": 16,
   "id": "8c8de2f2",
   "metadata": {},
   "outputs": [],
   "source": [
    "# These features are missing for those players who are not in a club\n",
    "# It's only a very small number, so we drop those rows.\n",
    "df=df.na.drop(subset=[\"value_eur\",'wage_eur', 'club_team_id','league_level','club_jersey_number','club_contract_valid_until'])"
   ]
  },
  {
   "cell_type": "code",
   "execution_count": 17,
   "id": "8604c838",
   "metadata": {},
   "outputs": [
    {
     "data": {
      "text/plain": [
       "{'pace': 15502,\n",
       " 'shooting': 15502,\n",
       " 'passing': 15502,\n",
       " 'dribbling': 15502,\n",
       " 'defending': 15502,\n",
       " 'physic': 15502,\n",
       " 'mentality_composure': 31226,\n",
       " 'goalkeeping_speed': 124287}"
      ]
     },
     "execution_count": 17,
     "metadata": {},
     "output_type": "execute_result"
    }
   ],
   "source": [
    "from pyspark.sql.functions import *\n",
    "null_columns=get_null(df)\n",
    "null_columns"
   ]
  },
  {
   "cell_type": "code",
   "execution_count": 18,
   "id": "ab9c3a8b",
   "metadata": {},
   "outputs": [],
   "source": [
    "# imputation for 'pace','shooting','passing','dribbling','defending','physic','mentality_composure','goalkeeping_speed'\n",
    "# When it comes to numeric featurs，\n",
    "# we can transform numeric features that are None into median of that feature\n",
    "from pyspark.ml.feature import Imputer\n",
    "\n",
    "imputed_cols=['pace','shooting','passing','dribbling','defending','physic','mentality_composure','goalkeeping_speed']\n",
    "\n",
    "imputer = Imputer (\n",
    "            inputCols=imputed_cols,\n",
    "            outputCols=[\"{}_imputed\".format(c) for c in imputed_cols])\\\n",
    "            .setStrategy(\"median\").setMissingValue(None)\n",
    "\n",
    "df_imputed = imputer.fit(df).transform(df)\n",
    "\n",
    "# drop and rename new column as original column names\n",
    "for col in imputed_cols:\n",
    "    df_imputed = df_imputed.drop(col)\n",
    "    df_imputed = df_imputed.withColumnRenamed(\"{}_imputed\".format(col),col)\n",
    "df=df_imputed"
   ]
  },
  {
   "cell_type": "code",
   "execution_count": 19,
   "id": "fea13ad6",
   "metadata": {},
   "outputs": [
    {
     "data": {
      "text/plain": [
       "{}"
      ]
     },
     "execution_count": 19,
     "metadata": {},
     "output_type": "execute_result"
    }
   ],
   "source": [
    "from pyspark.sql.functions import *\n",
    "null_columns=get_null(df)\n",
    "null_columns"
   ]
  },
  {
   "cell_type": "code",
   "execution_count": 20,
   "id": "14838302",
   "metadata": {},
   "outputs": [],
   "source": [
    "# from my perspective, club_contract_valid_until-year=club_contract_valid_last is better\n",
    "df=df.withColumn('club_contract_valid_last',col('club_contract_valid_until')-col('year')).drop('club_contract_valid_until').drop('year')"
   ]
  },
  {
   "cell_type": "code",
   "execution_count": 21,
   "id": "83411c1c",
   "metadata": {},
   "outputs": [
    {
     "data": {
      "text/plain": [
       "['overall',\n",
       " 'potential',\n",
       " 'value_eur',\n",
       " 'wage_eur',\n",
       " 'age',\n",
       " 'height_cm',\n",
       " 'weight_kg',\n",
       " 'club_team_id',\n",
       " 'league_level',\n",
       " 'club_jersey_number',\n",
       " 'nationality_id',\n",
       " 'weak_foot',\n",
       " 'skill_moves',\n",
       " 'international_reputation',\n",
       " 'attacking_crossing',\n",
       " 'attacking_finishing',\n",
       " 'attacking_heading_accuracy',\n",
       " 'attacking_short_passing',\n",
       " 'attacking_volleys',\n",
       " 'skill_dribbling',\n",
       " 'skill_curve',\n",
       " 'skill_fk_accuracy',\n",
       " 'skill_long_passing',\n",
       " 'skill_ball_control',\n",
       " 'movement_acceleration',\n",
       " 'movement_sprint_speed',\n",
       " 'movement_agility',\n",
       " 'movement_reactions',\n",
       " 'movement_balance',\n",
       " 'power_shot_power',\n",
       " 'power_jumping',\n",
       " 'power_stamina',\n",
       " 'power_strength',\n",
       " 'power_long_shots',\n",
       " 'mentality_aggression',\n",
       " 'mentality_interceptions',\n",
       " 'mentality_positioning',\n",
       " 'mentality_vision',\n",
       " 'mentality_penalties',\n",
       " 'defending_marking_awareness',\n",
       " 'defending_standing_tackle',\n",
       " 'defending_sliding_tackle',\n",
       " 'goalkeeping_diving',\n",
       " 'goalkeeping_handling',\n",
       " 'goalkeeping_kicking',\n",
       " 'goalkeeping_positioning',\n",
       " 'goalkeeping_reflexes',\n",
       " 'ls_potential',\n",
       " 'ls_original',\n",
       " 'st_potential',\n",
       " 'st_original',\n",
       " 'rs_potential',\n",
       " 'rs_original',\n",
       " 'lw_potential',\n",
       " 'lw_original',\n",
       " 'lf_potential',\n",
       " 'lf_original',\n",
       " 'cf_potential',\n",
       " 'cf_original',\n",
       " 'rf_potential',\n",
       " 'rf_original',\n",
       " 'rw_potential',\n",
       " 'rw_original',\n",
       " 'lam_potential',\n",
       " 'lam_original',\n",
       " 'cam_potential',\n",
       " 'cam_original',\n",
       " 'ram_potential',\n",
       " 'ram_original',\n",
       " 'lm_potential',\n",
       " 'lm_original',\n",
       " 'lcm_potential',\n",
       " 'lcm_original',\n",
       " 'cm_potential',\n",
       " 'cm_original',\n",
       " 'rcm_potential',\n",
       " 'rcm_original',\n",
       " 'rm_potential',\n",
       " 'rm_original',\n",
       " 'lwb_potential',\n",
       " 'lwb_original',\n",
       " 'ldm_potential',\n",
       " 'ldm_original',\n",
       " 'cdm_potential',\n",
       " 'cdm_original',\n",
       " 'rdm_potential',\n",
       " 'rdm_original',\n",
       " 'rwb_potential',\n",
       " 'rwb_original',\n",
       " 'lb_potential',\n",
       " 'lb_original',\n",
       " 'lcb_potential',\n",
       " 'lcb_original',\n",
       " 'cb_potential',\n",
       " 'cb_original',\n",
       " 'rcb_potential',\n",
       " 'rcb_original',\n",
       " 'rb_potential',\n",
       " 'rb_original',\n",
       " 'gk_potential',\n",
       " 'gk_original',\n",
       " 'pace',\n",
       " 'shooting',\n",
       " 'passing',\n",
       " 'dribbling',\n",
       " 'defending',\n",
       " 'physic',\n",
       " 'mentality_composure',\n",
       " 'goalkeeping_speed',\n",
       " 'club_contract_valid_last']"
      ]
     },
     "execution_count": 21,
     "metadata": {},
     "output_type": "execute_result"
    }
   ],
   "source": [
    "df.columns"
   ]
  },
  {
   "cell_type": "code",
   "execution_count": 22,
   "id": "4a7d237d",
   "metadata": {},
   "outputs": [
    {
     "name": "stdout",
     "output_type": "stream",
     "text": [
      "['overall', 'potential', 'value_eur', 'wage_eur', 'age', 'height_cm', 'weight_kg', 'club_team_id', 'league_level', 'club_jersey_number', 'nationality_id', 'weak_foot', 'skill_moves', 'international_reputation', 'attacking_crossing', 'attacking_finishing', 'attacking_heading_accuracy', 'attacking_short_passing', 'attacking_volleys', 'skill_dribbling', 'skill_curve', 'skill_fk_accuracy', 'skill_long_passing', 'skill_ball_control', 'movement_acceleration', 'movement_sprint_speed', 'movement_agility', 'movement_reactions', 'movement_balance', 'power_shot_power', 'power_jumping', 'power_stamina', 'power_strength', 'power_long_shots', 'mentality_aggression', 'mentality_interceptions', 'mentality_positioning', 'mentality_vision', 'mentality_penalties', 'defending_marking_awareness', 'defending_standing_tackle', 'defending_sliding_tackle', 'goalkeeping_diving', 'goalkeeping_handling', 'goalkeeping_kicking', 'goalkeeping_positioning', 'goalkeeping_reflexes', 'ls_potential', 'ls_original', 'st_potential', 'st_original', 'rs_potential', 'rs_original', 'lw_potential', 'lw_original', 'lf_potential', 'lf_original', 'cf_potential', 'cf_original', 'rf_potential', 'rf_original', 'rw_potential', 'rw_original', 'lam_potential', 'lam_original', 'cam_potential', 'cam_original', 'ram_potential', 'ram_original', 'lm_potential', 'lm_original', 'lcm_potential', 'lcm_original', 'cm_potential', 'cm_original', 'rcm_potential', 'rcm_original', 'rm_potential', 'rm_original', 'lwb_potential', 'lwb_original', 'ldm_potential', 'ldm_original', 'cdm_potential', 'cdm_original', 'rdm_potential', 'rdm_original', 'rwb_potential', 'rwb_original', 'lb_potential', 'lb_original', 'lcb_potential', 'lcb_original', 'cb_potential', 'cb_original', 'rcb_potential', 'rcb_original', 'rb_potential', 'rb_original', 'gk_potential', 'gk_original', 'pace', 'shooting', 'passing', 'dribbling', 'defending', 'physic', 'mentality_composure', 'goalkeeping_speed', 'club_contract_valid_last']\n",
      "[]\n"
     ]
    }
   ],
   "source": [
    "numeric_features = [feature[0] for feature in df.dtypes if feature[1] in ('int','float')]\n",
    "print(numeric_features)\n",
    "category_features= [feature[0] for feature in df.dtypes if feature[1] not in ('int','float','timestamp')]\n",
    "print(category_features)"
   ]
  },
  {
   "cell_type": "markdown",
   "id": "f124d35f",
   "metadata": {},
   "source": [
    "## Spark Pipeline"
   ]
  },
  {
   "cell_type": "code",
   "execution_count": 23,
   "id": "aff55508",
   "metadata": {},
   "outputs": [],
   "source": [
    "import pyspark\n",
    "from pyspark.sql import SparkSession, SQLContext\n",
    "from pyspark.ml import Pipeline,Transformer\n",
    "from pyspark.ml.feature import Imputer,StandardScaler,StringIndexer,OneHotEncoder, VectorAssembler\n",
    "\n",
    "from pyspark.sql.functions import *\n",
    "from pyspark.sql.types import *\n",
    "import numpy as np\n",
    "\n",
    "col_names = ['overall', 'potential', 'value_eur', 'wage_eur', 'age', 'height_cm', 'weight_kg', 'club_team_id', 'league_level',\n",
    "             'club_jersey_number', 'nationality_id', 'weak_foot', 'skill_moves', 'international_reputation', 'attacking_crossing',\n",
    "             'attacking_finishing', 'attacking_heading_accuracy', 'attacking_short_passing', 'attacking_volleys', 'skill_dribbling',\n",
    "             'skill_curve', 'skill_fk_accuracy', 'skill_long_passing', 'skill_ball_control', 'movement_acceleration',\n",
    "             'movement_sprint_speed', 'movement_agility', 'movement_reactions', 'movement_balance', 'power_shot_power',\n",
    "             'power_jumping', 'power_stamina', 'power_strength', 'power_long_shots', 'mentality_aggression', 'mentality_interceptions',\n",
    "             'mentality_positioning', 'mentality_vision', 'mentality_penalties', 'defending_marking_awareness', 'defending_standing_tackle',\n",
    "             'defending_sliding_tackle', 'goalkeeping_diving', 'goalkeeping_handling', 'goalkeeping_kicking', 'goalkeeping_positioning',\n",
    "             'goalkeeping_reflexes', 'ls_potential', 'ls_original', 'st_potential', 'st_original', 'rs_potential', 'rs_original',\n",
    "             'lw_potential', 'lw_original', 'lf_potential', 'lf_original', 'cf_potential', 'cf_original', 'rf_potential', 'rf_original',\n",
    "             'rw_potential', 'rw_original', 'lam_potential', 'lam_original', 'cam_potential', 'cam_original', 'ram_potential',\n",
    "             'ram_original', 'lm_potential', 'lm_original', 'lcm_potential', 'lcm_original', 'cm_potential', 'cm_original',\n",
    "             'rcm_potential', 'rcm_original', 'rm_potential', 'rm_original', 'lwb_potential', 'lwb_original', 'ldm_potential',\n",
    "             'ldm_original', 'cdm_potential', 'cdm_original', 'rdm_potential', 'rdm_original', 'rwb_potential', 'rwb_original', \n",
    "             'lb_potential', 'lb_original', 'lcb_potential', 'lcb_original', 'cb_potential', 'cb_original', 'rcb_potential', \n",
    "             'rcb_original', 'rb_potential', 'rb_original', 'gk_potential', 'gk_original', 'pace', 'shooting', 'passing',\n",
    "             'dribbling', 'defending', 'physic', 'mentality_composure', 'goalkeeping_speed', 'club_contract_valid_last']\n",
    "\n",
    "#we don't have nominal_cols or binary cols here\n",
    "nominal_cols = []\n",
    "\n",
    "#'value_eur' should not be included, because it's outcome\n",
    "continuous_cols =['overall', 'potential', 'wage_eur', 'age', 'height_cm', 'weight_kg', 'club_team_id', 'league_level',\n",
    "             'club_jersey_number', 'nationality_id', 'weak_foot', 'skill_moves', 'international_reputation', 'attacking_crossing',\n",
    "             'attacking_finishing', 'attacking_heading_accuracy', 'attacking_short_passing', 'attacking_volleys', 'skill_dribbling',\n",
    "             'skill_curve', 'skill_fk_accuracy', 'skill_long_passing', 'skill_ball_control', 'movement_acceleration',\n",
    "             'movement_sprint_speed', 'movement_agility', 'movement_reactions', 'movement_balance', 'power_shot_power',\n",
    "             'power_jumping', 'power_stamina', 'power_strength', 'power_long_shots', 'mentality_aggression', 'mentality_interceptions',\n",
    "             'mentality_positioning', 'mentality_vision', 'mentality_penalties', 'defending_marking_awareness', 'defending_standing_tackle',\n",
    "             'defending_sliding_tackle', 'goalkeeping_diving', 'goalkeeping_handling', 'goalkeeping_kicking', 'goalkeeping_positioning',\n",
    "             'goalkeeping_reflexes', 'ls_potential', 'ls_original', 'st_potential', 'st_original', 'rs_potential', 'rs_original',\n",
    "             'lw_potential', 'lw_original', 'lf_potential', 'lf_original', 'cf_potential', 'cf_original', 'rf_potential', 'rf_original',\n",
    "             'rw_potential', 'rw_original', 'lam_potential', 'lam_original', 'cam_potential', 'cam_original', 'ram_potential',\n",
    "             'ram_original', 'lm_potential', 'lm_original', 'lcm_potential', 'lcm_original', 'cm_potential', 'cm_original',\n",
    "             'rcm_potential', 'rcm_original', 'rm_potential', 'rm_original', 'lwb_potential', 'lwb_original', 'ldm_potential',\n",
    "             'ldm_original', 'cdm_potential', 'cdm_original', 'rdm_potential', 'rdm_original', 'rwb_potential', 'rwb_original', \n",
    "             'lb_potential', 'lb_original', 'lcb_potential', 'lcb_original', 'cb_potential', 'cb_original', 'rcb_potential', \n",
    "             'rcb_original', 'rb_potential', 'rb_original', 'gk_potential', 'gk_original', 'pace', 'shooting', 'passing',\n",
    "             'dribbling', 'defending', 'physic', 'mentality_composure', 'goalkeeping_speed', 'club_contract_valid_last']\n",
    "\n",
    "drop1_cols=['player_url', 'short_name', 'long_name', 'player_positions', 'club_name', 'league_name', 'club_position',\n",
    "            'club_loaned_from', 'nationality_name', 'nation_position', 'preferred_foot', 'work_rate', 'body_type', \n",
    "            'real_face', 'player_tags', 'player_traits', 'player_face_url', 'club_logo_url', 'club_flag_url', 'nation_logo_url', \n",
    "            'nation_flag_url','dob','club_joined','sofifa_id','release_clause_eur','nation_team_id','nation_jersey_number']\n",
    "\n",
    "drop_na_cols=[\"value_eur\",'wage_eur', 'club_team_id','league_level','club_jersey_number','club_contract_valid_until']\n",
    "\n",
    "imputed_cols=['pace','shooting','passing','dribbling','defending','physic','mentality_composure','goalkeeping_speed']\n",
    "\n",
    "modify_cols=['ls', 'st', 'rs', 'lw', 'lf', 'cf', 'rf', 'rw', 'lam', 'cam', 'ram', 'lm',\n",
    "                'lcm', 'cm', 'rcm', 'rm', 'lwb', 'ldm', 'cdm', 'rdm', 'rwb', 'lb', 'lcb','cb', 'rcb', 'rb', 'gk']\n",
    "\n",
    "\n",
    "class OutcomeCreater(Transformer): # this defines a transformer that creates the outcome column\n",
    "    \n",
    "    def __init__(self):\n",
    "        super().__init__()\n",
    "\n",
    "    def _transform(self, dataset):\n",
    "        output_df=dataset\n",
    "        output_df = output_df.withColumn('outcome', col('value_eur').cast(DoubleType())).drop('value_eur')\n",
    "        return output_df\n",
    "\n",
    "class FeatureTypeCaster(Transformer): # this transformer will cast the columns as appropriate types  \n",
    "    def __init__(self):\n",
    "        super().__init__()\n",
    "\n",
    "    def _transform(self, dataset):\n",
    "        output_df = dataset\n",
    "        for col_name in continuous_cols:\n",
    "            output_df = output_df.withColumn(col_name,col(col_name).cast(DoubleType()))\n",
    "\n",
    "        return output_df\n",
    "class ColumnDropper(Transformer): # this transformer drops unnecessary columns\n",
    "    def __init__(self, columns_to_drop = None):\n",
    "        super().__init__()\n",
    "        self.columns_to_drop=columns_to_drop\n",
    "    def _transform(self, dataset):\n",
    "        output_df = dataset\n",
    "        for col in self.columns_to_drop:\n",
    "            output_df = output_df.drop(col)\n",
    "        return output_df\n",
    "\n",
    "class NaDropper(Transformer):\n",
    "    def __init__(self, columns_to_dropna = None):\n",
    "        super().__init__()\n",
    "        self.columns_to_dropna=columns_to_dropna\n",
    "    def _transform(self, dataset):\n",
    "        output_df = dataset\n",
    "        output_df = output_df.na.drop(subset=self.columns_to_dropna)\n",
    "        return output_df\n",
    "\n",
    "class Imputation(Transformer):\n",
    "    def __init__(self, imputed_cols = None):\n",
    "        super().__init__()\n",
    "        self.imputed_cols=imputed_cols\n",
    "    def _transform(self, dataset):\n",
    "        imputer = Imputer (\n",
    "                    inputCols=self.imputed_cols,\n",
    "                    outputCols=[\"{}_imputed\".format(c) for c in self.imputed_cols])\\\n",
    "                    .setStrategy(\"median\").setMissingValue(None)\n",
    "        output_df = dataset\n",
    "        output_df = imputer.fit(output_df).transform(output_df)\n",
    "        for col in self.imputed_cols:\n",
    "            output_df = output_df.drop(col)\n",
    "            output_df = output_df.withColumnRenamed(\"{}_imputed\".format(col),col)\n",
    "        return output_df\n",
    "\n",
    "class Modifier(Transformer):\n",
    "    def __init__(self, modify_cols = None):\n",
    "        super().__init__()\n",
    "        self.modify_cols=modify_cols\n",
    "    def _transform(self, dataset):\n",
    "        output_df = dataset\n",
    "        for column in self.modify_cols:\n",
    "            column_potential=f'{column}_potential'\n",
    "            column_original=f'{column}_original'\n",
    "            output_df = output_df.withColumn(column_potential, get_potential(col(column)))\n",
    "            output_df =output_df.withColumn(column_original,get_original(col(column))).drop(column)   \n",
    "        return output_df\n",
    "\n",
    "\n",
    "\n",
    "class GetClubContractValidLast(Transformer):\n",
    "    def __init__(self, modify_cols = None):\n",
    "        super().__init__()\n",
    "    def _transform(self, dataset):\n",
    "        output_df = dataset\n",
    "        output_df=output_df.withColumn('club_contract_valid_last',col('club_contract_valid_until')-col('year')).drop('club_contract_valid_until').drop('year')\n",
    "        return output_df\n",
    "    \n",
    "def get_preprocess_pipeline():\n",
    "    \n",
    "    stage_column_dropper1 = ColumnDropper(columns_to_drop = drop1_cols)\n",
    "    \n",
    "    stage_column_dropper2=NaDropper(columns_to_dropna=drop_na_cols)\n",
    "    \n",
    "    stage_imputation=Imputation(imputed_cols)\n",
    "    \n",
    "    stage_column_modify1=Modifier(modify_cols)\n",
    "    \n",
    "    stage_column_modify2=GetClubContractValidLast()\n",
    "    \n",
    "    # Stage where columns are casted as appropriate types\n",
    "    stage_typecaster = FeatureTypeCaster()\n",
    "\n",
    "    # Stage where nominal columns are transformed to index columns using StringIndexer\n",
    "    nominal_id_cols = [x+\"_index\" for x in nominal_cols]\n",
    "    nominal_onehot_cols = [x+\"_encoded\" for x in nominal_cols]\n",
    "    \n",
    "#     #We don't have nominal features here\n",
    "#     stage_nominal_indexer = StringIndexer(inputCols = nominal_cols, outputCols = nominal_id_cols,handleInvalid='keep' )\n",
    "\n",
    "#     # Stage where the index columns are further transformed using OneHotEncoder\n",
    "#     stage_nominal_onehot_encoder = OneHotEncoder(inputCols=nominal_id_cols, outputCols=nominal_onehot_cols)\n",
    "\n",
    "    # Stage where all relevant features are assembled into a vector (and dropping a few)\n",
    "    feature_cols = continuous_cols\n",
    "    \n",
    "#     corelated_cols_to_remove = [\"dst_host_serror_rate\",\"srv_serror_rate\",\"dst_host_srv_serror_rate\",\n",
    "#                      \"srv_rerror_rate\",\"dst_host_rerror_rate\",\"dst_host_srv_rerror_rate\"]\n",
    "#     for col_name in corelated_cols_to_remove:\n",
    "#         feature_cols.remove(col_name)\n",
    "\n",
    "    stage_vector_assembler = VectorAssembler(inputCols=feature_cols, outputCol=\"vectorized_features\")\n",
    "\n",
    "    # Stage where we scale the columns\n",
    "    stage_scaler = StandardScaler(inputCol= 'vectorized_features', outputCol= 'features')\n",
    "    \n",
    "\n",
    "    # Stage for creating the outcome column representing whether there is attack \n",
    "    stage_outcome = OutcomeCreater()\n",
    "\n",
    "    # Removing all unnecessary columbs, only keeping the 'features' and 'outcome' columns\n",
    "    stage_column_dropper3 = ColumnDropper(columns_to_drop = nominal_cols+nominal_id_cols+\n",
    "        nominal_onehot_cols+  continuous_cols + ['vectorized_features'])\n",
    "    # Connect the columns into a pipeline\n",
    "    pipeline = Pipeline(stages=[stage_column_dropper1,stage_column_dropper2,stage_imputation,stage_column_modify1,stage_column_modify2,\\\n",
    "                                stage_typecaster,stage_vector_assembler,stage_scaler,stage_outcome,stage_column_dropper3])\n",
    "    return pipeline "
   ]
  },
  {
   "cell_type": "code",
   "execution_count": 24,
   "id": "9e8954ab",
   "metadata": {},
   "outputs": [
    {
     "data": {
      "text/plain": [
       "142079"
      ]
     },
     "execution_count": 24,
     "metadata": {},
     "output_type": "execute_result"
    }
   ],
   "source": [
    "df_raw=sqlContext.read.format(\"jdbc\")\\\n",
    "    .option(\"url\", db_properties['url'])\\\n",
    "    .option(\"dbtable\", db_properties['table'])\\\n",
    "    .option(\"user\", db_properties['username'])\\\n",
    "    .option(\"password\", db_properties['password'])\\\n",
    "    .option(\"Driver\", db_properties['driver'])\\\n",
    "    .load()\n",
    "df_raw.count()"
   ]
  },
  {
   "cell_type": "code",
   "execution_count": 25,
   "id": "7757a441",
   "metadata": {},
   "outputs": [
    {
     "name": "stdout",
     "output_type": "stream",
     "text": [
      "113663 28416\n"
     ]
    }
   ],
   "source": [
    "# split dataset into train,test dataset by order\n",
    "total_rows = df_raw.count()\n",
    "\n",
    "split_point = int(total_rows * 0.8)\n",
    "\n",
    "train_df_raw = df_raw.limit(split_point)\n",
    "test_df_raw = df_raw.subtract(train_df_raw)\n",
    "\n",
    "# # 使用randomSplit方法划分train dataset和test dataset\n",
    "# weights = [0.8,0.2]\n",
    "\n",
    "# train_df_raw, test_df_raw= train_df_raw.randomSplit(weights, seed=42)\n",
    "print(train_df_raw.count(),test_df_raw.count())"
   ]
  },
  {
   "cell_type": "code",
   "execution_count": 26,
   "id": "4b85dc1d",
   "metadata": {},
   "outputs": [],
   "source": [
    "preprocess_pipeline = get_preprocess_pipeline()\n",
    "preprocess_pipeline_model = preprocess_pipeline.fit(train_df_raw)\n",
    "\n",
    "train_df = preprocess_pipeline_model.transform(train_df_raw)\n",
    "test_df = preprocess_pipeline_model.transform(test_df_raw)"
   ]
  },
  {
   "cell_type": "code",
   "execution_count": 27,
   "id": "f12d1977",
   "metadata": {},
   "outputs": [
    {
     "data": {
      "text/html": [
       "<div>\n",
       "<style scoped>\n",
       "    .dataframe tbody tr th:only-of-type {\n",
       "        vertical-align: middle;\n",
       "    }\n",
       "\n",
       "    .dataframe tbody tr th {\n",
       "        vertical-align: top;\n",
       "    }\n",
       "\n",
       "    .dataframe thead th {\n",
       "        text-align: right;\n",
       "    }\n",
       "</style>\n",
       "<table border=\"1\" class=\"dataframe\">\n",
       "  <thead>\n",
       "    <tr style=\"text-align: right;\">\n",
       "      <th></th>\n",
       "      <th>features</th>\n",
       "      <th>outcome</th>\n",
       "    </tr>\n",
       "  </thead>\n",
       "  <tbody>\n",
       "    <tr>\n",
       "      <th>0</th>\n",
       "      <td>[13.10387599928444, 15.017210893685483, 23.484...</td>\n",
       "      <td>100500000.0</td>\n",
       "    </tr>\n",
       "    <tr>\n",
       "      <th>1</th>\n",
       "      <td>[12.962974106819017, 14.54298318125331, 16.011...</td>\n",
       "      <td>79000000.0</td>\n",
       "    </tr>\n",
       "    <tr>\n",
       "      <th>2</th>\n",
       "      <td>[12.681170321888168, 14.226831372965195, 11.74...</td>\n",
       "      <td>54500000.0</td>\n",
       "    </tr>\n",
       "    <tr>\n",
       "      <th>3</th>\n",
       "      <td>[12.681170321888168, 14.226831372965195, 11.74...</td>\n",
       "      <td>52500000.0</td>\n",
       "    </tr>\n",
       "    <tr>\n",
       "      <th>4</th>\n",
       "      <td>[12.681170321888168, 14.226831372965195, 12.80...</td>\n",
       "      <td>63500000.0</td>\n",
       "    </tr>\n",
       "    <tr>\n",
       "      <th>...</th>\n",
       "      <td>...</td>\n",
       "      <td>...</td>\n",
       "    </tr>\n",
       "    <tr>\n",
       "      <th>111497</th>\n",
       "      <td>[9.158623010252565, 10.749161481795925, 0.0426...</td>\n",
       "      <td>800000.0</td>\n",
       "    </tr>\n",
       "    <tr>\n",
       "      <th>111498</th>\n",
       "      <td>[9.158623010252565, 10.43300967350781, 0.08539...</td>\n",
       "      <td>825000.0</td>\n",
       "    </tr>\n",
       "    <tr>\n",
       "      <th>111499</th>\n",
       "      <td>[9.158623010252565, 10.43300967350781, 0.12809...</td>\n",
       "      <td>825000.0</td>\n",
       "    </tr>\n",
       "    <tr>\n",
       "      <th>111500</th>\n",
       "      <td>[9.158623010252565, 10.274933769363752, 0.2561...</td>\n",
       "      <td>725000.0</td>\n",
       "    </tr>\n",
       "    <tr>\n",
       "      <th>111501</th>\n",
       "      <td>[9.158623010252565, 10.274933769363752, 0.0853...</td>\n",
       "      <td>600000.0</td>\n",
       "    </tr>\n",
       "  </tbody>\n",
       "</table>\n",
       "<p>111502 rows × 2 columns</p>\n",
       "</div>"
      ],
      "text/plain": [
       "                                                 features      outcome\n",
       "0       [13.10387599928444, 15.017210893685483, 23.484...  100500000.0\n",
       "1       [12.962974106819017, 14.54298318125331, 16.011...   79000000.0\n",
       "2       [12.681170321888168, 14.226831372965195, 11.74...   54500000.0\n",
       "3       [12.681170321888168, 14.226831372965195, 11.74...   52500000.0\n",
       "4       [12.681170321888168, 14.226831372965195, 12.80...   63500000.0\n",
       "...                                                   ...          ...\n",
       "111497  [9.158623010252565, 10.749161481795925, 0.0426...     800000.0\n",
       "111498  [9.158623010252565, 10.43300967350781, 0.08539...     825000.0\n",
       "111499  [9.158623010252565, 10.43300967350781, 0.12809...     825000.0\n",
       "111500  [9.158623010252565, 10.274933769363752, 0.2561...     725000.0\n",
       "111501  [9.158623010252565, 10.274933769363752, 0.0853...     600000.0\n",
       "\n",
       "[111502 rows x 2 columns]"
      ]
     },
     "execution_count": 27,
     "metadata": {},
     "output_type": "execute_result"
    }
   ],
   "source": [
    "pdf=train_df.toPandas()\n",
    "pdf"
   ]
  },
  {
   "cell_type": "markdown",
   "id": "ba83171b",
   "metadata": {},
   "source": [
    "## Spark Models"
   ]
  },
  {
   "cell_type": "markdown",
   "id": "071a5647",
   "metadata": {},
   "source": [
    "### GBT"
   ]
  },
  {
   "cell_type": "code",
   "execution_count": 28,
   "id": "9fa0598c",
   "metadata": {},
   "outputs": [],
   "source": [
    "from pyspark.ml.regression import GBTRegressor\n",
    "from pyspark.ml.evaluation import RegressionEvaluator\n",
    "from pyspark.ml.tuning import ParamGridBuilder, CrossValidator"
   ]
  },
  {
   "cell_type": "code",
   "execution_count": 29,
   "id": "b87394d3",
   "metadata": {},
   "outputs": [],
   "source": [
    "gbt = GBTRegressor(featuresCol=\"features\", labelCol=\"outcome\", maxIter=10)\n",
    "gbt_model = gbt.fit(train_df)"
   ]
  },
  {
   "cell_type": "code",
   "execution_count": 30,
   "id": "0f074304",
   "metadata": {},
   "outputs": [
    {
     "name": "stdout",
     "output_type": "stream",
     "text": [
      "-RECORD 0--------------------------\n",
      " features   | [10.5676419349068... \n",
      " outcome    | 2600000.0            \n",
      " prediction | 2812557.772889011    \n",
      "-RECORD 1--------------------------\n",
      " features   | [10.1449362575105... \n",
      " outcome    | 1000000.0            \n",
      " prediction | 903454.587649263     \n",
      "-RECORD 2--------------------------\n",
      " features   | [9.01772111778714... \n",
      " outcome    | 300000.0             \n",
      " prediction | 356564.1901262398    \n",
      "only showing top 3 rows\n",
      "\n"
     ]
    }
   ],
   "source": [
    "predictions = gbt_model.transform(test_df)\n",
    "predictions.show(3,vertical=True)"
   ]
  },
  {
   "cell_type": "code",
   "execution_count": 31,
   "id": "1127314f",
   "metadata": {},
   "outputs": [
    {
     "data": {
      "text/plain": [
       "2290082.663087436"
      ]
     },
     "execution_count": 31,
     "metadata": {},
     "output_type": "execute_result"
    }
   ],
   "source": [
    "# 评估模型性能\n",
    "evaluator = RegressionEvaluator(labelCol=\"outcome\", predictionCol=\"prediction\", metricName=\"rmse\")\n",
    "rmse = evaluator.evaluate(predictions)\n",
    "rmse"
   ]
  },
  {
   "cell_type": "markdown",
   "id": "190888fc",
   "metadata": {},
   "source": [
    "### To do: cross validation"
   ]
  },
  {
   "cell_type": "code",
   "execution_count": null,
   "id": "f15a72dd",
   "metadata": {},
   "outputs": [],
   "source": [
    "# # It's too slow to do cross validation\n",
    "# gbt_paramGrid = (ParamGridBuilder()\n",
    "#              .addGrid(gbt.maxDepth, [5, 10])\n",
    "#              .addGrid(gbt.maxIter,[10, 20])\n",
    "#              .build())\n",
    "\n",
    "# gbt_cv = CrossValidator(estimator=gbt, estimatorParamMaps=gbt_paramGrid, \n",
    "#                     evaluator=evaluator, numFolds=5)\n",
    "# gbt_cv_model = gbt_cv.fit(train_df)\n",
    "\n",
    "# gbt_cv_prediction_train = gbt_cv_model.transform(train_df)\n",
    "# gbt_cv_prediction_test = gbt_cv_model.transform(test_df)\n",
    "\n",
    "# gbt_cv_rmse_train = evaluator.evaluate(gbt_cv_prediction_train)\n",
    "# gbt_cv_rmse_test = evaluator.evaluate(gbt_cv_prediction_test)\n",
    "# print(f\"Train rmse = {gbt_cv_rmse_train}, test rmse = {gbt_cv_rmse_test}\")"
   ]
  },
  {
   "cell_type": "markdown",
   "id": "54eab051",
   "metadata": {},
   "source": [
    "### Linear Regression"
   ]
  },
  {
   "cell_type": "code",
   "execution_count": 32,
   "id": "e1b95e55",
   "metadata": {},
   "outputs": [],
   "source": [
    "from pyspark.ml.regression import LinearRegression\n",
    "\n",
    "lr = LinearRegression(featuresCol=\"features\", labelCol=\"outcome\")"
   ]
  },
  {
   "cell_type": "code",
   "execution_count": 33,
   "id": "7c6444e0",
   "metadata": {},
   "outputs": [],
   "source": [
    "lr_paramGrid = ParamGridBuilder() \\\n",
    "             .addGrid(lr.regParam, [0,0.01, 0.1, 1.0])\\\n",
    "             .addGrid(lr.maxIter, [10, 50, 100])\\\n",
    "             .build()\n",
    "\n",
    "lr_cv = CrossValidator(estimator=lr, estimatorParamMaps=lr_paramGrid, \n",
    "                    evaluator=evaluator, numFolds=5)\n",
    "\n",
    "lr_cv_model = lr_cv.fit(train_df)"
   ]
  },
  {
   "cell_type": "code",
   "execution_count": 34,
   "id": "0b33d19e",
   "metadata": {},
   "outputs": [],
   "source": [
    "lr_cv_prediction_train = lr_cv_model.transform(train_df)\n",
    "lr_cv_prediction_test = lr_cv_model.transform(test_df)"
   ]
  },
  {
   "cell_type": "code",
   "execution_count": 35,
   "id": "b0d58aba",
   "metadata": {},
   "outputs": [
    {
     "name": "stdout",
     "output_type": "stream",
     "text": [
      "Train rmse = 3019388.273786396, test rmse = 3874953.5489178137\n"
     ]
    }
   ],
   "source": [
    "lr_cv_rmse_train = evaluator.evaluate(lr_cv_prediction_train)\n",
    "lr_cv_rmse_test = evaluator.evaluate(lr_cv_prediction_test)\n",
    "print(f\"Train rmse = {lr_cv_rmse_train}, test rmse = {lr_cv_rmse_test}\")"
   ]
  },
  {
   "cell_type": "markdown",
   "id": "ba73f56f",
   "metadata": {},
   "source": [
    "## PyTorch Models"
   ]
  },
  {
   "cell_type": "code",
   "execution_count": 36,
   "id": "bba4854d",
   "metadata": {},
   "outputs": [],
   "source": [
    "from torch.utils.data import Dataset,DataLoader\n",
    "import torch\n",
    "from torch import nn"
   ]
  },
  {
   "cell_type": "code",
   "execution_count": 37,
   "id": "42adf5e6",
   "metadata": {},
   "outputs": [],
   "source": [
    "class MyDataset(Dataset):\n",
    "    def __init__(self,x,y):\n",
    "        self.x=x\n",
    "        self.y=y\n",
    "    def __len__(self):\n",
    "        return self.x.shape[0]\n",
    "    def __getitem__(self,idx):\n",
    "        return (self.x[idx],self.y[idx])"
   ]
  },
  {
   "cell_type": "code",
   "execution_count": 38,
   "id": "d9921c62",
   "metadata": {},
   "outputs": [],
   "source": [
    "x_train=torch.from_numpy(np.array(train_df.toPandas()['features'].values.tolist(),np.float32))\n",
    "y_train=torch.from_numpy(np.array(train_df.toPandas()['outcome'].values.tolist(),np.float32)) #Should be float32 instead of int64\n",
    "\n",
    "x_test=torch.from_numpy(np.array(test_df.toPandas()['features'].values.tolist(),np.float32))\n",
    "y_test=torch.from_numpy(np.array(test_df.toPandas()['outcome'].values.tolist(),np.float32))"
   ]
  },
  {
   "cell_type": "code",
   "execution_count": 39,
   "id": "9a048a40",
   "metadata": {},
   "outputs": [
    {
     "data": {
      "text/plain": [
       "torch.Size([111502, 109])"
      ]
     },
     "execution_count": 39,
     "metadata": {},
     "output_type": "execute_result"
    }
   ],
   "source": [
    "x_train.shape"
   ]
  },
  {
   "cell_type": "code",
   "execution_count": 40,
   "id": "1a4cd003",
   "metadata": {},
   "outputs": [],
   "source": [
    "train_dataset=MyDataset(x_train,y_train)\n",
    "middle_dataset=MyDataset(x_test,y_test)\n",
    "\n",
    "generator = torch.Generator().manual_seed(42)\n",
    "val_dataset,test_dataset=torch.utils.data.random_split(middle_dataset,[0.5,0.5],generator=generator)"
   ]
  },
  {
   "cell_type": "markdown",
   "id": "22b2bf2e",
   "metadata": {},
   "source": [
    "### DNN"
   ]
  },
  {
   "cell_type": "code",
   "execution_count": 41,
   "id": "7127bf1c",
   "metadata": {},
   "outputs": [],
   "source": [
    "class myModel(nn.Module):\n",
    "    def __init__(self,input_dim,output_dim):\n",
    "        super().__init__()\n",
    "        self.sequential=nn.Sequential(\n",
    "            nn.Linear(input_dim,128),\n",
    "#             nn.Dropout(0.5),\n",
    "#             nn.BatchNorm1d(128),\n",
    "            nn.ReLU(),\n",
    "            nn.Linear(128,64),\n",
    "            nn.ReLU(),\n",
    "            nn.Linear(64,32),\n",
    "            nn.ReLU(),\n",
    "            nn.Linear(32,16),\n",
    "            nn.ReLU(),\n",
    "            nn.Linear(16,output_dim)\n",
    "        )\n",
    "    def forward(self,x):\n",
    "        y=self.sequential(x)\n",
    "        return y"
   ]
  },
  {
   "cell_type": "code",
   "execution_count": 42,
   "id": "fa211174",
   "metadata": {},
   "outputs": [
    {
     "name": "stdout",
     "output_type": "stream",
     "text": [
      "myModel(\n",
      "  (sequential): Sequential(\n",
      "    (0): Linear(in_features=109, out_features=128, bias=True)\n",
      "    (1): ReLU()\n",
      "    (2): Linear(in_features=128, out_features=64, bias=True)\n",
      "    (3): ReLU()\n",
      "    (4): Linear(in_features=64, out_features=32, bias=True)\n",
      "    (5): ReLU()\n",
      "    (6): Linear(in_features=32, out_features=16, bias=True)\n",
      "    (7): ReLU()\n",
      "    (8): Linear(in_features=16, out_features=1, bias=True)\n",
      "  )\n",
      ")\n"
     ]
    }
   ],
   "source": [
    "mymodel=myModel(x_train.shape[1],1)\n",
    "if torch.cuda.is_available():\n",
    "    mymodel=mymodel.cuda()\n",
    "print(mymodel)"
   ]
  },
  {
   "cell_type": "code",
   "execution_count": 43,
   "id": "bfe14c7a",
   "metadata": {},
   "outputs": [],
   "source": [
    "#hyper parameter\n",
    "lr=0.001\n",
    "batch_size=64\n",
    "N_epochs=20"
   ]
  },
  {
   "cell_type": "code",
   "execution_count": 44,
   "id": "75f79d25",
   "metadata": {},
   "outputs": [],
   "source": [
    "#loss function\n",
    "loss_fun=nn.MSELoss()\n",
    "if torch.cuda.is_available():\n",
    "    loss_fun=loss_fun.cuda()"
   ]
  },
  {
   "cell_type": "code",
   "execution_count": 45,
   "id": "42de8fde",
   "metadata": {},
   "outputs": [
    {
     "data": {
      "text/plain": [
       "1742"
      ]
     },
     "execution_count": 45,
     "metadata": {},
     "output_type": "execute_result"
    }
   ],
   "source": [
    "#dataloader\n",
    "train_dataloader=DataLoader(train_dataset,batch_size=batch_size,shuffle=True,drop_last=True)\n",
    "val_dataloader=DataLoader(val_dataset,batch_size=batch_size,shuffle=True,drop_last=True)\n",
    "\n",
    "N_batches = len(train_dataloader)\n",
    "N_batches"
   ]
  },
  {
   "cell_type": "code",
   "execution_count": 46,
   "id": "d006cce0",
   "metadata": {},
   "outputs": [],
   "source": [
    "#optimizer\n",
    "optimizer=torch.optim.Adam(mymodel.parameters(),lr=lr)"
   ]
  },
  {
   "cell_type": "code",
   "execution_count": 47,
   "id": "e66eaa17",
   "metadata": {},
   "outputs": [],
   "source": [
    "#each epoch\n",
    "losses=[] \n",
    "val_losses=[]\n",
    "\n",
    "#each iteration\n",
    "adam_batch_loss=[]\n",
    "\n",
    "best_loss=1e9"
   ]
  },
  {
   "cell_type": "code",
   "execution_count": 48,
   "id": "298a2d0b",
   "metadata": {},
   "outputs": [
    {
     "data": {
      "text/plain": [
       "tensor([1.0050e+08, 7.9000e+07, 5.4500e+07,  ..., 8.2500e+05, 7.2500e+05,\n",
       "        6.0000e+05])"
      ]
     },
     "execution_count": 48,
     "metadata": {},
     "output_type": "execute_result"
    }
   ],
   "source": [
    "y_train"
   ]
  },
  {
   "cell_type": "code",
   "execution_count": 49,
   "id": "13c36ba8",
   "metadata": {},
   "outputs": [
    {
     "name": "stderr",
     "output_type": "stream",
     "text": [
      "C:\\anaconda3\\Lib\\site-packages\\torch\\nn\\modules\\loss.py:536: UserWarning: Using a target size (torch.Size([64])) that is different to the input size (torch.Size([64, 1])). This will likely lead to incorrect results due to broadcasting. Please ensure they have the same size.\n",
      "  return F.mse_loss(input, target, reduction=self.reduction)\n"
     ]
    },
    {
     "name": "stdout",
     "output_type": "stream",
     "text": [
      "Epoch=0,train_loss=5022100.5,val_loss=5538065.5\n",
      "current epoch is the best so far. Saving model...\n",
      "Epoch=1,train_loss=4965838.0,val_loss=5503712.5\n",
      "current epoch is the best so far. Saving model...\n",
      "Epoch=2,train_loss=4976494.0,val_loss=5516859.0\n",
      "Epoch=3,train_loss=4981493.0,val_loss=5614072.0\n",
      "Epoch=4,train_loss=4972015.0,val_loss=5578355.5\n",
      "Epoch=5,train_loss=4963797.5,val_loss=5615719.0\n",
      "Epoch=6,train_loss=4969085.0,val_loss=5510016.0\n",
      "Epoch=7,train_loss=4984711.5,val_loss=5595208.0\n",
      "Epoch=8,train_loss=4964227.5,val_loss=5588570.5\n",
      "Epoch=9,train_loss=4982630.0,val_loss=5537637.0\n",
      "Epoch=10,train_loss=4984714.0,val_loss=5591917.0\n",
      "Epoch=11,train_loss=4972382.0,val_loss=5503615.5\n",
      "current epoch is the best so far. Saving model...\n",
      "Epoch=12,train_loss=4980880.0,val_loss=5611285.0\n",
      "Epoch=13,train_loss=4976291.5,val_loss=5484409.0\n",
      "current epoch is the best so far. Saving model...\n",
      "Epoch=14,train_loss=4978896.0,val_loss=5509585.0\n",
      "Epoch=15,train_loss=4975319.0,val_loss=5513314.5\n",
      "Epoch=16,train_loss=4970085.5,val_loss=5525806.5\n",
      "Epoch=17,train_loss=4975358.0,val_loss=5543609.0\n",
      "Epoch=18,train_loss=4998573.0,val_loss=5564306.5\n",
      "Epoch=19,train_loss=4986985.0,val_loss=5519692.0\n"
     ]
    }
   ],
   "source": [
    "for epoch in range(N_epochs):\n",
    "    # train loop\n",
    "    batch_loss=[]\n",
    "    for x_batch,y_batch in train_dataloader:\n",
    "        if torch.cuda.is_available():\n",
    "            x_batch=x_batch.cuda()\n",
    "            y_batch=y_batch.cuda()\n",
    "        y_pred=mymodel(x_batch)\n",
    "        loss=loss_fun(y_pred,y_batch)\n",
    "        optimizer.zero_grad()\n",
    "        loss.backward()\n",
    "        optimizer.step()\n",
    "        # record result\n",
    "        adam_batch_loss.append(torch.sqrt(loss).detach().cpu().numpy())\n",
    "        batch_loss.append(torch.sqrt(loss).detach().cpu().numpy())\n",
    "        \n",
    "    # val loop    \n",
    "    val_batch_loss=[]\n",
    "    for x_batch,y_batch in val_dataloader:\n",
    "        if torch.cuda.is_available():\n",
    "            x_batch=x_batch.cuda()\n",
    "            y_batch=y_batch.cuda() \n",
    "        score_pred=mymodel(x_batch)\n",
    "        loss=loss_fun(score_pred,y_batch)\n",
    "        # record result\n",
    "        val_batch_loss.append(torch.sqrt(loss).detach().cpu().numpy())\n",
    "    \n",
    "    #post processing\n",
    "    losses.append(np.mean(np.array(batch_loss)))\n",
    "    val_losses.append(np.mean(np.array(val_batch_loss)))\n",
    "    \n",
    "    #print progress\n",
    "    print(f\"Epoch={epoch},train_loss={losses[-1]},val_loss={val_losses[-1]}\")\n",
    "    \n",
    "    #save best model\n",
    "    if (np.sqrt(val_losses[-1])<best_loss):\n",
    "        print(\"current epoch is the best so far. Saving model...\")\n",
    "        torch.save(mymodel.state_dict(),f'best_model_{batch_size}_{lr}')\n",
    "        best_loss=np.sqrt(val_losses[-1])"
   ]
  },
  {
   "cell_type": "code",
   "execution_count": 50,
   "id": "3486b5c7",
   "metadata": {},
   "outputs": [
    {
     "data": {
      "text/plain": [
       "<matplotlib.legend.Legend at 0x283f865ed10>"
      ]
     },
     "execution_count": 50,
     "metadata": {},
     "output_type": "execute_result"
    },
    {
     "data": {
      "image/png": "[encoded data removed]",
      "text/plain": [
       "<Figure size 1000x800 with 2 Axes>"
      ]
     },
     "metadata": {},
     "output_type": "display_data"
    }
   ],
   "source": [
    "# visualization\n",
    "fix,axes=plt.subplots(nrows=1,ncols=2,figsize=(10, 8))\n",
    "\n",
    "axes[0].plot(range(N_epochs*N_batches),adam_batch_loss,label=\"adam_batch_loss\")\n",
    "axes[0].set_xlabel('Iteration')\n",
    "axes[0].set_ylabel('Loss')\n",
    "\n",
    "axes[1].plot(range(N_epochs),losses,label=\"Train Loss\")\n",
    "axes[1].plot(range(N_epochs),val_losses,label=\"Validation Loss\")\n",
    "axes[1].set_xlabel('Epochs')\n",
    "axes[1].set_ylabel('Loss')\n",
    "axes[1].legend()"
   ]
  },
  {
   "cell_type": "code",
   "execution_count": 51,
   "id": "4a6e9100",
   "metadata": {},
   "outputs": [
    {
     "name": "stdout",
     "output_type": "stream",
     "text": [
      "Test rmse loss =6098054.5\n"
     ]
    }
   ],
   "source": [
    "mybestmodel=myModel(x_train.shape[1],1)\n",
    "\n",
    "if torch.cuda.is_available():\n",
    "    mybestmodel=mybestmodel.cuda()\n",
    "    \n",
    "#load best model\n",
    "mybestmodel.load_state_dict(torch.load(f\"best_model_64_0.001\"))\n",
    "\n",
    "#calculate test accuracy\n",
    "test_dataloader=DataLoader(test_dataset,batch_size=batch_size,shuffle=True,drop_last=True)\n",
    "test_batch_loss=[]\n",
    "\n",
    "for x_batch,y_batch in test_dataloader:\n",
    "    if torch.cuda.is_available():\n",
    "        x_batch=x_batch.cuda()\n",
    "        y_batch=y_batch.cuda()\n",
    "    y_pred=mybestmodel(x_batch)\n",
    "    test_batch_loss.append(loss_fun(y_pred,y_batch).detach().cpu().numpy())\n",
    "\n",
    "test_loss=np.sqrt(np.mean(np.array(test_batch_loss)))\n",
    "print(f\"Test rmse loss ={test_loss}\")"
   ]
  },
  {
   "cell_type": "markdown",
   "id": "fba1d4ca",
   "metadata": {},
   "source": [
    "### To do: grid search"
   ]
  },
  {
   "cell_type": "markdown",
   "id": "c94dd20a",
   "metadata": {},
   "source": [
    "## To do: CNN or other architectures"
   ]
  },
  {
   "cell_type": "code",
   "execution_count": null,
   "id": "7f913259",
   "metadata": {},
   "outputs": [],
   "source": []
  }
 ],
 "metadata": {
  "kernelspec": {
   "display_name": "Python 3 (ipykernel)",
   "language": "python",
   "name": "python3"
  },
  "language_info": {
   "codemirror_mode": {
    "name": "ipython",
    "version": 3
   },
   "file_extension": ".py",
   "mimetype": "text/x-python",
   "name": "python",
   "nbconvert_exporter": "python",
   "pygments_lexer": "ipython3",
   "version": "3.11.4"
  }
 },
 "nbformat": 4,
 "nbformat_minor": 5
}
