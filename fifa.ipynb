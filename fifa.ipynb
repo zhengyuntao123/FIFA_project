{
 "cells": [
  {
   "cell_type": "code",
   "execution_count": 1,
   "id": "8e39dee3",
   "metadata": {},
   "outputs": [],
   "source": [
    "import os\n",
    "import findspark\n",
    "findspark.init()\n",
    "findspark.find()\n",
    "from pyspark.sql.functions import lit\n",
    "import pyspark\n",
    "from pyspark.sql import SparkSession\n",
    "from pyspark import SparkContext, SQLContext\n",
    "from pyspark.sql.functions import monotonically_increasing_id\n",
    "import matplotlib.pyplot as plt\n",
    "import seaborn as sb\n",
    "from pyspark.sql.types import FloatType,IntegerType"
   ]
  },
  {
   "cell_type": "markdown",
   "id": "52aeafbe",
   "metadata": {},
   "source": [
    "# Task I"
   ]
  },
  {
   "cell_type": "code",
   "execution_count": 2,
   "id": "6c55b15e",
   "metadata": {},
   "outputs": [
    {
     "name": "stderr",
     "output_type": "stream",
     "text": [
      "C:\\Spark\\python\\pyspark\\sql\\context.py:112: FutureWarning: Deprecated in 3.0.0. Use SparkSession.builder.getOrCreate() instead.\n",
      "  warnings.warn(\n"
     ]
    }
   ],
   "source": [
    "# connect spark to PostgreSQL\n",
    "appName = \"Big Data Analytics\"\n",
    "master = \"local\"\n",
    "\n",
    "# Create Configuration object for Spark.\n",
    "#\n",
    "conf = pyspark.SparkConf()\\\n",
    "    .set('spark.driver.host','127.0.0.1')\\\n",
    "    .setAppName(appName)\\\n",
    "    .setMaster(master) \n",
    "\n",
    "# Create Spark Context with the new configurations rather than relying on the default one\n",
    "sc = SparkContext.getOrCreate(conf=conf)\n",
    "\n",
    "# You need to create SQL Context to conduct some database operations like what we will see later.\n",
    "sqlContext = SQLContext(sc)\n",
    "\n",
    "# If you have SQL context, you create the session from the Spark Context\n",
    "spark = sqlContext.sparkSession.builder.getOrCreate()"
   ]
  },
  {
   "cell_type": "code",
   "execution_count": 3,
   "id": "75d1692b",
   "metadata": {},
   "outputs": [],
   "source": [
    "#spark DataFrame Schema\n",
    "#We need both spark schema and postgres schema, because the datatypes of spark and postgresql don't match with each other\n",
    "\n",
    "#It's very strange for club_team_id and nation_team_id. \n",
    "#If I set tem to be int, all the club_team_id and nation_team_id read from the csv file will be null.\n",
    "#Therefore, I have to set them float\n",
    "fifa='''\n",
    "sofifa_id int NOT NULL,\n",
    "player_url string NOT NULL,\n",
    "short_name string NOT NULL,\n",
    "long_name string NOT NULL,\n",
    "player_positions string NOT NULL,\n",
    "overall int NOT NULL,\n",
    "potential int NOT NULL,\n",
    "value_eur float,\n",
    "wage_eur float,\n",
    "age int NOT NULL,\n",
    "dob date NOT NULL,\n",
    "height_cm int NOT NULL,\n",
    "weight_kg int NOT NULL,\n",
    "club_team_id float, \n",
    "club_name string,\n",
    "league_name string,\n",
    "league_level int,\n",
    "club_position string,\n",
    "club_jersey_number int,\n",
    "club_loaned_from string,\n",
    "club_joined date,\n",
    "club_contract_valid_until int,\n",
    "nationality_id int NOT NULL,\n",
    "nationality_name string NOT NULL,\n",
    "nation_team_id float,\n",
    "nation_position string,\n",
    "nation_jersey_number int,\n",
    "preferred_foot string NOT NULL,\n",
    "weak_foot int NOT NULL,\n",
    "skill_moves int NOT NULL,\n",
    "international_reputation int NOT NULL,\n",
    "work_rate string,body_type string NOT NULL,\n",
    "real_face string NOT NULL,\n",
    "release_clause_eur float,\n",
    "player_tags string,\n",
    "player_traits string,\n",
    "pace int,shooting int,\n",
    "passing int,dribbling int,\n",
    "defending int,physic int,\n",
    "attacking_crossing int NOT NULL,\n",
    "attacking_finishing int NOT NULL,\n",
    "attacking_heading_accuracy int NOT NULL,\n",
    "attacking_short_passing int NOT NULL,\n",
    "attacking_volleys int NOT NULL,\n",
    "skill_dribbling int NOT NULL,\n",
    "skill_curve int NOT NULL,\n",
    "skill_fk_accuracy int NOT NULL,\n",
    "skill_long_passing int NOT NULL,\n",
    "skill_ball_control int NOT NULL,\n",
    "movement_acceleration int NOT NULL,\n",
    "movement_sprint_speed int NOT NULL,\n",
    "movement_agility int NOT NULL,\n",
    "movement_reactions int NOT NULL,\n",
    "movement_balance int NOT NULL,\n",
    "power_shot_power int NOT NULL,\n",
    "power_jumping int NOT NULL,\n",
    "power_stamina int NOT NULL,\n",
    "power_strength int NOT NULL,\n",
    "power_long_shots int NOT NULL,\n",
    "mentality_aggression int NOT NULL,\n",
    "mentality_interceptions int NOT NULL,\n",
    "mentality_positioning int NOT NULL,\n",
    "mentality_vision int NOT NULL,\n",
    "mentality_penalties int NOT NULL,\n",
    "mentality_composure int,\n",
    "defending_marking_awareness int NOT NULL,\n",
    "defending_standing_tackle int NOT NULL,\n",
    "defending_sliding_tackle int NOT NULL,\n",
    "goalkeeping_diving int NOT NULL,\n",
    "goalkeeping_handling int NOT NULL,\n",
    "goalkeeping_kicking int NOT NULL,\n",
    "goalkeeping_positioning int NOT NULL,\n",
    "goalkeeping_reflexes int NOT NULL,\n",
    "goalkeeping_speed int,\n",
    "ls string NOT NULL,\n",
    "st string NOT NULL,\n",
    "rs string NOT NULL,\n",
    "lw string NOT NULL,\n",
    "lf string NOT NULL,\n",
    "cf string NOT NULL,\n",
    "rf string NOT NULL,\n",
    "rw string NOT NULL,\n",
    "lam string NOT NULL,\n",
    "cam string NOT NULL,\n",
    "ram string NOT NULL,\n",
    "lm string NOT NULL,\n",
    "lcm string NOT NULL,\n",
    "cm string NOT NULL,\n",
    "rcm string NOT NULL,\n",
    "rm string NOT NULL,\n",
    "lwb string NOT NULL,\n",
    "ldm string NOT NULL,\n",
    "cdm string NOT NULL,\n",
    "rdm string NOT NULL,\n",
    "rwb string NOT NULL,\n",
    "lb string NOT NULL,\n",
    "lcb string NOT NULL,\n",
    "cb string NOT NULL,\n",
    "rcb string NOT NULL,\n",
    "rb string NOT NULL,\n",
    "gk string NOT NULL,\n",
    "player_face_url string NOT NULL,\n",
    "club_logo_url string,\n",
    "club_flag_url string,\n",
    "nation_logo_url string NOT NULL,\n",
    "nation_flag_url string NOT NULL\n",
    "'''"
   ]
  },
  {
   "cell_type": "code",
   "execution_count": 4,
   "id": "4c73b186",
   "metadata": {},
   "outputs": [],
   "source": [
    "df = spark.read.csv(\"./data/players_15.csv\",header=True,schema=fifa)"
   ]
  },
  {
   "cell_type": "code",
   "execution_count": 5,
   "id": "f829fa3f",
   "metadata": {},
   "outputs": [
    {
     "name": "stdout",
     "output_type": "stream",
     "text": [
      "-RECORD 0-------------------------------------------\n",
      " sofifa_id                   | 158023               \n",
      " player_url                  | https://sofifa.co... \n",
      " short_name                  | L. Messi             \n",
      " long_name                   | Lionel Andrés Mes... \n",
      " player_positions            | CF                   \n",
      " overall                     | 93                   \n",
      " potential                   | 95                   \n",
      " value_eur                   | 1.005E8              \n",
      " wage_eur                    | 550000.0             \n",
      " age                         | 27                   \n",
      " dob                         | 1987-06-24           \n",
      " height_cm                   | 169                  \n",
      " weight_kg                   | 67                   \n",
      " club_team_id                | 241.0                \n",
      " club_name                   | FC Barcelona         \n",
      " league_name                 | Spain Primera Div... \n",
      " league_level                | 1                    \n",
      " club_position               | CF                   \n",
      " club_jersey_number          | 10                   \n",
      " club_loaned_from            | null                 \n",
      " club_joined                 | 2004-07-01           \n",
      " club_contract_valid_until   | 2018                 \n",
      " nationality_id              | 52                   \n",
      " nationality_name            | Argentina            \n",
      " nation_team_id              | 1369.0               \n",
      " nation_position             | CF                   \n",
      " nation_jersey_number        | 10                   \n",
      " preferred_foot              | Left                 \n",
      " weak_foot                   | 3                    \n",
      " skill_moves                 | 4                    \n",
      " international_reputation    | 5                    \n",
      " work_rate                   | Medium/Low           \n",
      " body_type                   | Normal (170-)        \n",
      " real_face                   | Yes                  \n",
      " release_clause_eur          | null                 \n",
      " player_tags                 | #Speedster, #Drib... \n",
      " player_traits               | Finesse Shot, Spe... \n",
      " pace                        | 93                   \n",
      " shooting                    | 89                   \n",
      " passing                     | 86                   \n",
      " dribbling                   | 96                   \n",
      " defending                   | 27                   \n",
      " physic                      | 63                   \n",
      " attacking_crossing          | 84                   \n",
      " attacking_finishing         | 94                   \n",
      " attacking_heading_accuracy  | 71                   \n",
      " attacking_short_passing     | 89                   \n",
      " attacking_volleys           | 85                   \n",
      " skill_dribbling             | 96                   \n",
      " skill_curve                 | 89                   \n",
      " skill_fk_accuracy           | 90                   \n",
      " skill_long_passing          | 76                   \n",
      " skill_ball_control          | 96                   \n",
      " movement_acceleration       | 96                   \n",
      " movement_sprint_speed       | 90                   \n",
      " movement_agility            | 94                   \n",
      " movement_reactions          | 94                   \n",
      " movement_balance            | 95                   \n",
      " power_shot_power            | 80                   \n",
      " power_jumping               | 73                   \n",
      " power_stamina               | 77                   \n",
      " power_strength              | 60                   \n",
      " power_long_shots            | 88                   \n",
      " mentality_aggression        | 48                   \n",
      " mentality_interceptions     | 22                   \n",
      " mentality_positioning       | 92                   \n",
      " mentality_vision            | 90                   \n",
      " mentality_penalties         | 76                   \n",
      " mentality_composure         | null                 \n",
      " defending_marking_awareness | 25                   \n",
      " defending_standing_tackle   | 21                   \n",
      " defending_sliding_tackle    | 20                   \n",
      " goalkeeping_diving          | 6                    \n",
      " goalkeeping_handling        | 11                   \n",
      " goalkeeping_kicking         | 15                   \n",
      " goalkeeping_positioning     | 14                   \n",
      " goalkeeping_reflexes        | 8                    \n",
      " goalkeeping_speed           | null                 \n",
      " ls                          | 89+3                 \n",
      " st                          | 89+3                 \n",
      " rs                          | 89+3                 \n",
      " lw                          | 92+3                 \n",
      " lf                          | 90+3                 \n",
      " cf                          | 90+3                 \n",
      " rf                          | 90+3                 \n",
      " rw                          | 92+3                 \n",
      " lam                         | 92+3                 \n",
      " cam                         | 92+3                 \n",
      " ram                         | 92+3                 \n",
      " lm                          | 90+3                 \n",
      " lcm                         | 79+3                 \n",
      " cm                          | 79+3                 \n",
      " rcm                         | 79+3                 \n",
      " rm                          | 90+3                 \n",
      " lwb                         | 62+3                 \n",
      " ldm                         | 62+3                 \n",
      " cdm                         | 62+3                 \n",
      " rdm                         | 62+3                 \n",
      " rwb                         | 62+3                 \n",
      " lb                          | 54+3                 \n",
      " lcb                         | 45+3                 \n",
      " cb                          | 45+3                 \n",
      " rcb                         | 45+3                 \n",
      " rb                          | 54+3                 \n",
      " gk                          | 15+3                 \n",
      " player_face_url             | https://cdn.sofif... \n",
      " club_logo_url               | https://cdn.sofif... \n",
      " club_flag_url               | https://cdn.sofif... \n",
      " nation_logo_url             | https://cdn.sofif... \n",
      " nation_flag_url             | https://cdn.sofif... \n",
      "only showing top 1 row\n",
      "\n"
     ]
    }
   ],
   "source": [
    "df.show(1,vertical=True)"
   ]
  },
  {
   "cell_type": "code",
   "execution_count": 6,
   "id": "ed9669db",
   "metadata": {},
   "outputs": [
    {
     "name": "stdout",
     "output_type": "stream",
     "text": [
      "root\n",
      " |-- sofifa_id: integer (nullable = true)\n",
      " |-- player_url: string (nullable = true)\n",
      " |-- short_name: string (nullable = true)\n",
      " |-- long_name: string (nullable = true)\n",
      " |-- player_positions: string (nullable = true)\n",
      " |-- overall: integer (nullable = true)\n",
      " |-- potential: integer (nullable = true)\n",
      " |-- value_eur: float (nullable = true)\n",
      " |-- wage_eur: float (nullable = true)\n",
      " |-- age: integer (nullable = true)\n",
      " |-- dob: date (nullable = true)\n",
      " |-- height_cm: integer (nullable = true)\n",
      " |-- weight_kg: integer (nullable = true)\n",
      " |-- club_team_id: float (nullable = true)\n",
      " |-- club_name: string (nullable = true)\n",
      " |-- league_name: string (nullable = true)\n",
      " |-- league_level: integer (nullable = true)\n",
      " |-- club_position: string (nullable = true)\n",
      " |-- club_jersey_number: integer (nullable = true)\n",
      " |-- club_loaned_from: string (nullable = true)\n",
      " |-- club_joined: date (nullable = true)\n",
      " |-- club_contract_valid_until: integer (nullable = true)\n",
      " |-- nationality_id: integer (nullable = true)\n",
      " |-- nationality_name: string (nullable = true)\n",
      " |-- nation_team_id: float (nullable = true)\n",
      " |-- nation_position: string (nullable = true)\n",
      " |-- nation_jersey_number: integer (nullable = true)\n",
      " |-- preferred_foot: string (nullable = true)\n",
      " |-- weak_foot: integer (nullable = true)\n",
      " |-- skill_moves: integer (nullable = true)\n",
      " |-- international_reputation: integer (nullable = true)\n",
      " |-- work_rate: string (nullable = true)\n",
      " |-- body_type: string (nullable = true)\n",
      " |-- real_face: string (nullable = true)\n",
      " |-- release_clause_eur: float (nullable = true)\n",
      " |-- player_tags: string (nullable = true)\n",
      " |-- player_traits: string (nullable = true)\n",
      " |-- pace: integer (nullable = true)\n",
      " |-- shooting: integer (nullable = true)\n",
      " |-- passing: integer (nullable = true)\n",
      " |-- dribbling: integer (nullable = true)\n",
      " |-- defending: integer (nullable = true)\n",
      " |-- physic: integer (nullable = true)\n",
      " |-- attacking_crossing: integer (nullable = true)\n",
      " |-- attacking_finishing: integer (nullable = true)\n",
      " |-- attacking_heading_accuracy: integer (nullable = true)\n",
      " |-- attacking_short_passing: integer (nullable = true)\n",
      " |-- attacking_volleys: integer (nullable = true)\n",
      " |-- skill_dribbling: integer (nullable = true)\n",
      " |-- skill_curve: integer (nullable = true)\n",
      " |-- skill_fk_accuracy: integer (nullable = true)\n",
      " |-- skill_long_passing: integer (nullable = true)\n",
      " |-- skill_ball_control: integer (nullable = true)\n",
      " |-- movement_acceleration: integer (nullable = true)\n",
      " |-- movement_sprint_speed: integer (nullable = true)\n",
      " |-- movement_agility: integer (nullable = true)\n",
      " |-- movement_reactions: integer (nullable = true)\n",
      " |-- movement_balance: integer (nullable = true)\n",
      " |-- power_shot_power: integer (nullable = true)\n",
      " |-- power_jumping: integer (nullable = true)\n",
      " |-- power_stamina: integer (nullable = true)\n",
      " |-- power_strength: integer (nullable = true)\n",
      " |-- power_long_shots: integer (nullable = true)\n",
      " |-- mentality_aggression: integer (nullable = true)\n",
      " |-- mentality_interceptions: integer (nullable = true)\n",
      " |-- mentality_positioning: integer (nullable = true)\n",
      " |-- mentality_vision: integer (nullable = true)\n",
      " |-- mentality_penalties: integer (nullable = true)\n",
      " |-- mentality_composure: integer (nullable = true)\n",
      " |-- defending_marking_awareness: integer (nullable = true)\n",
      " |-- defending_standing_tackle: integer (nullable = true)\n",
      " |-- defending_sliding_tackle: integer (nullable = true)\n",
      " |-- goalkeeping_diving: integer (nullable = true)\n",
      " |-- goalkeeping_handling: integer (nullable = true)\n",
      " |-- goalkeeping_kicking: integer (nullable = true)\n",
      " |-- goalkeeping_positioning: integer (nullable = true)\n",
      " |-- goalkeeping_reflexes: integer (nullable = true)\n",
      " |-- goalkeeping_speed: integer (nullable = true)\n",
      " |-- ls: string (nullable = true)\n",
      " |-- st: string (nullable = true)\n",
      " |-- rs: string (nullable = true)\n",
      " |-- lw: string (nullable = true)\n",
      " |-- lf: string (nullable = true)\n",
      " |-- cf: string (nullable = true)\n",
      " |-- rf: string (nullable = true)\n",
      " |-- rw: string (nullable = true)\n",
      " |-- lam: string (nullable = true)\n",
      " |-- cam: string (nullable = true)\n",
      " |-- ram: string (nullable = true)\n",
      " |-- lm: string (nullable = true)\n",
      " |-- lcm: string (nullable = true)\n",
      " |-- cm: string (nullable = true)\n",
      " |-- rcm: string (nullable = true)\n",
      " |-- rm: string (nullable = true)\n",
      " |-- lwb: string (nullable = true)\n",
      " |-- ldm: string (nullable = true)\n",
      " |-- cdm: string (nullable = true)\n",
      " |-- rdm: string (nullable = true)\n",
      " |-- rwb: string (nullable = true)\n",
      " |-- lb: string (nullable = true)\n",
      " |-- lcb: string (nullable = true)\n",
      " |-- cb: string (nullable = true)\n",
      " |-- rcb: string (nullable = true)\n",
      " |-- rb: string (nullable = true)\n",
      " |-- gk: string (nullable = true)\n",
      " |-- player_face_url: string (nullable = true)\n",
      " |-- club_logo_url: string (nullable = true)\n",
      " |-- club_flag_url: string (nullable = true)\n",
      " |-- nation_logo_url: string (nullable = true)\n",
      " |-- nation_flag_url: string (nullable = true)\n",
      "\n"
     ]
    }
   ],
   "source": [
    "df.printSchema()"
   ]
  },
  {
   "cell_type": "code",
   "execution_count": 7,
   "id": "d9b00936",
   "metadata": {},
   "outputs": [],
   "source": [
    "# import datetime\n",
    "# schema = \"dob date\"\n",
    "# data = [ [datetime.datetime.strptime('2021-01-01', \"%Y-%m-%d\").date()],\n",
    "#         [datetime.datetime.strptime('2000-01-01', \"%Y-%m-%d\").date()]]\n",
    "\n",
    "# test_df = spark.createDataFrame(data, schema)"
   ]
  },
  {
   "cell_type": "code",
   "execution_count": 8,
   "id": "e32b19a5",
   "metadata": {},
   "outputs": [],
   "source": [
    "df=df.withColumn(\"year\",lit(2015))"
   ]
  },
  {
   "cell_type": "code",
   "execution_count": 9,
   "id": "02883e9a",
   "metadata": {},
   "outputs": [
    {
     "name": "stdout",
     "output_type": "stream",
     "text": [
      "-RECORD 0-------------------------------------------\n",
      " sofifa_id                   | 158023               \n",
      " player_url                  | https://sofifa.co... \n",
      " short_name                  | L. Messi             \n",
      " long_name                   | Lionel Andrés Mes... \n",
      " player_positions            | CF                   \n",
      " overall                     | 93                   \n",
      " potential                   | 95                   \n",
      " value_eur                   | 1.005E8              \n",
      " wage_eur                    | 550000.0             \n",
      " age                         | 27                   \n",
      " dob                         | 1987-06-24           \n",
      " height_cm                   | 169                  \n",
      " weight_kg                   | 67                   \n",
      " club_team_id                | 241.0                \n",
      " club_name                   | FC Barcelona         \n",
      " league_name                 | Spain Primera Div... \n",
      " league_level                | 1                    \n",
      " club_position               | CF                   \n",
      " club_jersey_number          | 10                   \n",
      " club_loaned_from            | null                 \n",
      " club_joined                 | 2004-07-01           \n",
      " club_contract_valid_until   | 2018                 \n",
      " nationality_id              | 52                   \n",
      " nationality_name            | Argentina            \n",
      " nation_team_id              | 1369.0               \n",
      " nation_position             | CF                   \n",
      " nation_jersey_number        | 10                   \n",
      " preferred_foot              | Left                 \n",
      " weak_foot                   | 3                    \n",
      " skill_moves                 | 4                    \n",
      " international_reputation    | 5                    \n",
      " work_rate                   | Medium/Low           \n",
      " body_type                   | Normal (170-)        \n",
      " real_face                   | Yes                  \n",
      " release_clause_eur          | null                 \n",
      " player_tags                 | #Speedster, #Drib... \n",
      " player_traits               | Finesse Shot, Spe... \n",
      " pace                        | 93                   \n",
      " shooting                    | 89                   \n",
      " passing                     | 86                   \n",
      " dribbling                   | 96                   \n",
      " defending                   | 27                   \n",
      " physic                      | 63                   \n",
      " attacking_crossing          | 84                   \n",
      " attacking_finishing         | 94                   \n",
      " attacking_heading_accuracy  | 71                   \n",
      " attacking_short_passing     | 89                   \n",
      " attacking_volleys           | 85                   \n",
      " skill_dribbling             | 96                   \n",
      " skill_curve                 | 89                   \n",
      " skill_fk_accuracy           | 90                   \n",
      " skill_long_passing          | 76                   \n",
      " skill_ball_control          | 96                   \n",
      " movement_acceleration       | 96                   \n",
      " movement_sprint_speed       | 90                   \n",
      " movement_agility            | 94                   \n",
      " movement_reactions          | 94                   \n",
      " movement_balance            | 95                   \n",
      " power_shot_power            | 80                   \n",
      " power_jumping               | 73                   \n",
      " power_stamina               | 77                   \n",
      " power_strength              | 60                   \n",
      " power_long_shots            | 88                   \n",
      " mentality_aggression        | 48                   \n",
      " mentality_interceptions     | 22                   \n",
      " mentality_positioning       | 92                   \n",
      " mentality_vision            | 90                   \n",
      " mentality_penalties         | 76                   \n",
      " mentality_composure         | null                 \n",
      " defending_marking_awareness | 25                   \n",
      " defending_standing_tackle   | 21                   \n",
      " defending_sliding_tackle    | 20                   \n",
      " goalkeeping_diving          | 6                    \n",
      " goalkeeping_handling        | 11                   \n",
      " goalkeeping_kicking         | 15                   \n",
      " goalkeeping_positioning     | 14                   \n",
      " goalkeeping_reflexes        | 8                    \n",
      " goalkeeping_speed           | null                 \n",
      " ls                          | 89+3                 \n",
      " st                          | 89+3                 \n",
      " rs                          | 89+3                 \n",
      " lw                          | 92+3                 \n",
      " lf                          | 90+3                 \n",
      " cf                          | 90+3                 \n",
      " rf                          | 90+3                 \n",
      " rw                          | 92+3                 \n",
      " lam                         | 92+3                 \n",
      " cam                         | 92+3                 \n",
      " ram                         | 92+3                 \n",
      " lm                          | 90+3                 \n",
      " lcm                         | 79+3                 \n",
      " cm                          | 79+3                 \n",
      " rcm                         | 79+3                 \n",
      " rm                          | 90+3                 \n",
      " lwb                         | 62+3                 \n",
      " ldm                         | 62+3                 \n",
      " cdm                         | 62+3                 \n",
      " rdm                         | 62+3                 \n",
      " rwb                         | 62+3                 \n",
      " lb                          | 54+3                 \n",
      " lcb                         | 45+3                 \n",
      " cb                          | 45+3                 \n",
      " rcb                         | 45+3                 \n",
      " rb                          | 54+3                 \n",
      " gk                          | 15+3                 \n",
      " player_face_url             | https://cdn.sofif... \n",
      " club_logo_url               | https://cdn.sofif... \n",
      " club_flag_url               | https://cdn.sofif... \n",
      " nation_logo_url             | https://cdn.sofif... \n",
      " nation_flag_url             | https://cdn.sofif... \n",
      " year                        | 2015                 \n",
      "only showing top 1 row\n",
      "\n"
     ]
    }
   ],
   "source": [
    "df.show(1,vertical=True)"
   ]
  },
  {
   "cell_type": "code",
   "execution_count": 10,
   "id": "77823013",
   "metadata": {},
   "outputs": [
    {
     "name": "stdout",
     "output_type": "stream",
     "text": [
      "root\n",
      " |-- sofifa_id: integer (nullable = true)\n",
      " |-- player_url: string (nullable = true)\n",
      " |-- short_name: string (nullable = true)\n",
      " |-- long_name: string (nullable = true)\n",
      " |-- player_positions: string (nullable = true)\n",
      " |-- overall: integer (nullable = true)\n",
      " |-- potential: integer (nullable = true)\n",
      " |-- value_eur: float (nullable = true)\n",
      " |-- wage_eur: float (nullable = true)\n",
      " |-- age: integer (nullable = true)\n",
      " |-- dob: date (nullable = true)\n",
      " |-- height_cm: integer (nullable = true)\n",
      " |-- weight_kg: integer (nullable = true)\n",
      " |-- club_team_id: float (nullable = true)\n",
      " |-- club_name: string (nullable = true)\n",
      " |-- league_name: string (nullable = true)\n",
      " |-- league_level: integer (nullable = true)\n",
      " |-- club_position: string (nullable = true)\n",
      " |-- club_jersey_number: integer (nullable = true)\n",
      " |-- club_loaned_from: string (nullable = true)\n",
      " |-- club_joined: date (nullable = true)\n",
      " |-- club_contract_valid_until: integer (nullable = true)\n",
      " |-- nationality_id: integer (nullable = true)\n",
      " |-- nationality_name: string (nullable = true)\n",
      " |-- nation_team_id: float (nullable = true)\n",
      " |-- nation_position: string (nullable = true)\n",
      " |-- nation_jersey_number: integer (nullable = true)\n",
      " |-- preferred_foot: string (nullable = true)\n",
      " |-- weak_foot: integer (nullable = true)\n",
      " |-- skill_moves: integer (nullable = true)\n",
      " |-- international_reputation: integer (nullable = true)\n",
      " |-- work_rate: string (nullable = true)\n",
      " |-- body_type: string (nullable = true)\n",
      " |-- real_face: string (nullable = true)\n",
      " |-- release_clause_eur: float (nullable = true)\n",
      " |-- player_tags: string (nullable = true)\n",
      " |-- player_traits: string (nullable = true)\n",
      " |-- pace: integer (nullable = true)\n",
      " |-- shooting: integer (nullable = true)\n",
      " |-- passing: integer (nullable = true)\n",
      " |-- dribbling: integer (nullable = true)\n",
      " |-- defending: integer (nullable = true)\n",
      " |-- physic: integer (nullable = true)\n",
      " |-- attacking_crossing: integer (nullable = true)\n",
      " |-- attacking_finishing: integer (nullable = true)\n",
      " |-- attacking_heading_accuracy: integer (nullable = true)\n",
      " |-- attacking_short_passing: integer (nullable = true)\n",
      " |-- attacking_volleys: integer (nullable = true)\n",
      " |-- skill_dribbling: integer (nullable = true)\n",
      " |-- skill_curve: integer (nullable = true)\n",
      " |-- skill_fk_accuracy: integer (nullable = true)\n",
      " |-- skill_long_passing: integer (nullable = true)\n",
      " |-- skill_ball_control: integer (nullable = true)\n",
      " |-- movement_acceleration: integer (nullable = true)\n",
      " |-- movement_sprint_speed: integer (nullable = true)\n",
      " |-- movement_agility: integer (nullable = true)\n",
      " |-- movement_reactions: integer (nullable = true)\n",
      " |-- movement_balance: integer (nullable = true)\n",
      " |-- power_shot_power: integer (nullable = true)\n",
      " |-- power_jumping: integer (nullable = true)\n",
      " |-- power_stamina: integer (nullable = true)\n",
      " |-- power_strength: integer (nullable = true)\n",
      " |-- power_long_shots: integer (nullable = true)\n",
      " |-- mentality_aggression: integer (nullable = true)\n",
      " |-- mentality_interceptions: integer (nullable = true)\n",
      " |-- mentality_positioning: integer (nullable = true)\n",
      " |-- mentality_vision: integer (nullable = true)\n",
      " |-- mentality_penalties: integer (nullable = true)\n",
      " |-- mentality_composure: integer (nullable = true)\n",
      " |-- defending_marking_awareness: integer (nullable = true)\n",
      " |-- defending_standing_tackle: integer (nullable = true)\n",
      " |-- defending_sliding_tackle: integer (nullable = true)\n",
      " |-- goalkeeping_diving: integer (nullable = true)\n",
      " |-- goalkeeping_handling: integer (nullable = true)\n",
      " |-- goalkeeping_kicking: integer (nullable = true)\n",
      " |-- goalkeeping_positioning: integer (nullable = true)\n",
      " |-- goalkeeping_reflexes: integer (nullable = true)\n",
      " |-- goalkeeping_speed: integer (nullable = true)\n",
      " |-- ls: string (nullable = true)\n",
      " |-- st: string (nullable = true)\n",
      " |-- rs: string (nullable = true)\n",
      " |-- lw: string (nullable = true)\n",
      " |-- lf: string (nullable = true)\n",
      " |-- cf: string (nullable = true)\n",
      " |-- rf: string (nullable = true)\n",
      " |-- rw: string (nullable = true)\n",
      " |-- lam: string (nullable = true)\n",
      " |-- cam: string (nullable = true)\n",
      " |-- ram: string (nullable = true)\n",
      " |-- lm: string (nullable = true)\n",
      " |-- lcm: string (nullable = true)\n",
      " |-- cm: string (nullable = true)\n",
      " |-- rcm: string (nullable = true)\n",
      " |-- rm: string (nullable = true)\n",
      " |-- lwb: string (nullable = true)\n",
      " |-- ldm: string (nullable = true)\n",
      " |-- cdm: string (nullable = true)\n",
      " |-- rdm: string (nullable = true)\n",
      " |-- rwb: string (nullable = true)\n",
      " |-- lb: string (nullable = true)\n",
      " |-- lcb: string (nullable = true)\n",
      " |-- cb: string (nullable = true)\n",
      " |-- rcb: string (nullable = true)\n",
      " |-- rb: string (nullable = true)\n",
      " |-- gk: string (nullable = true)\n",
      " |-- player_face_url: string (nullable = true)\n",
      " |-- club_logo_url: string (nullable = true)\n",
      " |-- club_flag_url: string (nullable = true)\n",
      " |-- nation_logo_url: string (nullable = true)\n",
      " |-- nation_flag_url: string (nullable = true)\n",
      " |-- year: integer (nullable = false)\n",
      "\n"
     ]
    }
   ],
   "source": [
    "df.printSchema()"
   ]
  },
  {
   "cell_type": "code",
   "execution_count": 11,
   "id": "edddd734",
   "metadata": {},
   "outputs": [
    {
     "data": {
      "text/plain": [
       "['players_16.csv',\n",
       " 'players_17.csv',\n",
       " 'players_18.csv',\n",
       " 'players_19.csv',\n",
       " 'players_20.csv',\n",
       " 'players_21.csv',\n",
       " 'players_22.csv']"
      ]
     },
     "execution_count": 11,
     "metadata": {},
     "output_type": "execute_result"
    }
   ],
   "source": [
    "#don't consider players_15,because we will use union\n",
    "players_list=os.listdir(\"./data\")[10:]\n",
    "players_list"
   ]
  },
  {
   "cell_type": "code",
   "execution_count": 12,
   "id": "1cce97be",
   "metadata": {},
   "outputs": [],
   "source": [
    "# print(os.path.join(\"./data/\",players_list[0]).split('_')[1][:2])\n",
    "# print(2000+int(os.path.join(\"./data/\",players_list[0]).split('_')[1][:2]))"
   ]
  },
  {
   "cell_type": "code",
   "execution_count": 13,
   "id": "581c1998",
   "metadata": {},
   "outputs": [],
   "source": [
    "for i in players_list:\n",
    "    path=os.path.join(\"./data/\",i)\n",
    "    temp_df=spark.read.csv(path,header=True,schema=fifa)\n",
    "    year=2000+int(path.split('_')[1][:2])\n",
    "    temp_df=temp_df.withColumn(\"year\",lit(year))\n",
    "    df = df.union(temp_df)"
   ]
  },
  {
   "cell_type": "code",
   "execution_count": 14,
   "id": "1002457d",
   "metadata": {},
   "outputs": [
    {
     "data": {
      "text/plain": [
       "142079"
      ]
     },
     "execution_count": 14,
     "metadata": {},
     "output_type": "execute_result"
    }
   ],
   "source": [
    "df.count()"
   ]
  },
  {
   "cell_type": "code",
   "execution_count": 15,
   "id": "602f186d",
   "metadata": {},
   "outputs": [
    {
     "name": "stdout",
     "output_type": "stream",
     "text": [
      "+----+\n",
      "|year|\n",
      "+----+\n",
      "|2015|\n",
      "|2016|\n",
      "|2017|\n",
      "|2018|\n",
      "|2019|\n",
      "|2020|\n",
      "|2021|\n",
      "|2022|\n",
      "+----+\n",
      "\n"
     ]
    }
   ],
   "source": [
    "df.select(\"year\").distinct().show()"
   ]
  },
  {
   "cell_type": "code",
   "execution_count": 16,
   "id": "504fbd1a",
   "metadata": {},
   "outputs": [
    {
     "data": {
      "text/plain": [
       "45629"
      ]
     },
     "execution_count": 16,
     "metadata": {},
     "output_type": "execute_result"
    }
   ],
   "source": [
    "#142079 !=45629,so sofifa_id can't be used as unique id\n",
    "df.select(\"sofifa_id\").distinct().count()"
   ]
  },
  {
   "cell_type": "code",
   "execution_count": 17,
   "id": "afb36f0c",
   "metadata": {},
   "outputs": [],
   "source": [
    "# df.write.mode(\"overwrite\").saveAsTable(\"fifa\")\n",
    "# spark.catalog.listTables()"
   ]
  },
  {
   "cell_type": "code",
   "execution_count": 18,
   "id": "e7300209",
   "metadata": {},
   "outputs": [],
   "source": [
    "# df=df.withColumn(\"id\",monotonically_increasing_id())\n",
    "# df.printSchema()"
   ]
  },
  {
   "cell_type": "code",
   "execution_count": 19,
   "id": "7cff0942",
   "metadata": {},
   "outputs": [],
   "source": [
    "# #cast club_team_id,nation_team_id into \"integer\"\n",
    "# df=df.withColumn(\"new_club_team_id\",df[\"club_team_id\"].cast(\"integer\")).drop(\"club_team_id\").withColumnRenamed(\"new_club_team_id\",\"club_team_id\")\n",
    "# df=df.withColumn(\"new_nation_team_id\",df[\"nation_team_id\"].cast(\"integer\")).drop(\"nation_team_id\").withColumnRenamed(\"new_nation_team_id\",\"nation_team_id\")"
   ]
  },
  {
   "cell_type": "code",
   "execution_count": 20,
   "id": "18121f83",
   "metadata": {},
   "outputs": [
    {
     "name": "stdout",
     "output_type": "stream",
     "text": [
      "-RECORD 0-----------------------------\n",
      " sofifa_id                   | 0      \n",
      " player_url                  | 0      \n",
      " short_name                  | 0      \n",
      " long_name                   | 0      \n",
      " player_positions            | 0      \n",
      " overall                     | 0      \n",
      " potential                   | 0      \n",
      " value_eur                   | 1897   \n",
      " wage_eur                    | 1622   \n",
      " age                         | 0      \n",
      " dob                         | 0      \n",
      " height_cm                   | 0      \n",
      " weight_kg                   | 0      \n",
      " club_team_id                | 1630   \n",
      " club_name                   | 1630   \n",
      " league_name                 | 1630   \n",
      " league_level                | 2015   \n",
      " club_position               | 1630   \n",
      " club_jersey_number          | 1630   \n",
      " club_loaned_from            | 133774 \n",
      " club_joined                 | 9935   \n",
      " club_contract_valid_until   | 1630   \n",
      " nationality_id              | 0      \n",
      " nationality_name            | 0      \n",
      " nation_team_id              | 133635 \n",
      " nation_position             | 133635 \n",
      " nation_jersey_number        | 133635 \n",
      " preferred_foot              | 0      \n",
      " weak_foot                   | 0      \n",
      " skill_moves                 | 0      \n",
      " international_reputation    | 0      \n",
      " work_rate                   | 0      \n",
      " body_type                   | 0      \n",
      " real_face                   | 0      \n",
      " release_clause_eur          | 55582  \n",
      " player_tags                 | 130765 \n",
      " player_traits               | 78771  \n",
      " pace                        | 15791  \n",
      " shooting                    | 15791  \n",
      " passing                     | 15791  \n",
      " dribbling                   | 15791  \n",
      " defending                   | 15791  \n",
      " physic                      | 15791  \n",
      " attacking_crossing          | 0      \n",
      " attacking_finishing         | 0      \n",
      " attacking_heading_accuracy  | 0      \n",
      " attacking_short_passing     | 0      \n",
      " attacking_volleys           | 0      \n",
      " skill_dribbling             | 0      \n",
      " skill_curve                 | 0      \n",
      " skill_fk_accuracy           | 0      \n",
      " skill_long_passing          | 0      \n",
      " skill_ball_control          | 0      \n",
      " movement_acceleration       | 0      \n",
      " movement_sprint_speed       | 0      \n",
      " movement_agility            | 0      \n",
      " movement_reactions          | 0      \n",
      " movement_balance            | 0      \n",
      " power_shot_power            | 0      \n",
      " power_jumping               | 0      \n",
      " power_stamina               | 0      \n",
      " power_strength              | 0      \n",
      " power_long_shots            | 0      \n",
      " mentality_aggression        | 0      \n",
      " mentality_interceptions     | 0      \n",
      " mentality_positioning       | 0      \n",
      " mentality_vision            | 0      \n",
      " mentality_penalties         | 0      \n",
      " mentality_composure         | 31778  \n",
      " defending_marking_awareness | 0      \n",
      " defending_standing_tackle   | 0      \n",
      " defending_sliding_tackle    | 0      \n",
      " goalkeeping_diving          | 0      \n",
      " goalkeeping_handling        | 0      \n",
      " goalkeeping_kicking         | 0      \n",
      " goalkeeping_positioning     | 0      \n",
      " goalkeeping_reflexes        | 0      \n",
      " goalkeeping_speed           | 126288 \n",
      " ls                          | 0      \n",
      " st                          | 0      \n",
      " rs                          | 0      \n",
      " lw                          | 0      \n",
      " lf                          | 0      \n",
      " cf                          | 0      \n",
      " rf                          | 0      \n",
      " rw                          | 0      \n",
      " lam                         | 0      \n",
      " cam                         | 0      \n",
      " ram                         | 0      \n",
      " lm                          | 0      \n",
      " lcm                         | 0      \n",
      " cm                          | 0      \n",
      " rcm                         | 0      \n",
      " rm                          | 0      \n",
      " lwb                         | 0      \n",
      " ldm                         | 0      \n",
      " cdm                         | 0      \n",
      " rdm                         | 0      \n",
      " rwb                         | 0      \n",
      " lb                          | 0      \n",
      " lcb                         | 0      \n",
      " cb                          | 0      \n",
      " rcb                         | 0      \n",
      " rb                          | 0      \n",
      " gk                          | 0      \n",
      " player_face_url             | 0      \n",
      " club_logo_url               | 1630   \n",
      " club_flag_url               | 1630   \n",
      " nation_logo_url             | 133635 \n",
      " nation_flag_url             | 0      \n",
      " year                        | 0      \n",
      "\n"
     ]
    }
   ],
   "source": [
    "#in order to check \"NOT NULL\"\n",
    "from pyspark.sql.functions import *\n",
    "\n",
    "null_counts_plays_df = df.select([count(when(col(c).isNull(),c)).alias(c) for c in df.columns])\n",
    "\n",
    "null_counts_plays_df.show(truncate=False, vertical=True)"
   ]
  },
  {
   "cell_type": "code",
   "execution_count": 21,
   "id": "07491fcb",
   "metadata": {},
   "outputs": [
    {
     "name": "stdout",
     "output_type": "stream",
     "text": [
      "Table fifa exist:True\n",
      "Successfully drop table fifa\n",
      "Table fifa created successfully.\n"
     ]
    }
   ],
   "source": [
    "#Before overwriting data, we had better create the table first\n",
    "#so that we can define table datatypes instead of automatic inference.\n",
    "#We have to know that there isn't a match between spark datatypes and postgresql datatypes\n",
    "\n",
    "#!pip install psycopg2\n",
    "import psycopg2\n",
    "from psycopg2 import sql\n",
    "\n",
    "conn = psycopg2.connect(\n",
    "    dbname=\"postgres\",\n",
    "    user=\"postgres\",\n",
    "    password=\"200042\",\n",
    "    host=\"localhost\",\n",
    "    port=\"5432\"\n",
    ")\n",
    "\n",
    "cur = conn.cursor()\n",
    "\n",
    "#check if we have already created the table first\n",
    "check_table_query = sql.SQL(\"\"\"\n",
    "    SELECT EXISTS (\n",
    "        SELECT 1\n",
    "        FROM information_schema.tables\n",
    "        WHERE table_name = 'fifa'\n",
    "    )\n",
    "\"\"\")\n",
    "cur.execute(check_table_query)\n",
    "table_exists = cur.fetchone()[0]\n",
    "\n",
    "try:\n",
    "    cur.execute(check_table_query)\n",
    "    table_exists = cur.fetchone()[0]\n",
    "    print(\"Table fifa exist:{}\".format(table_exists))\n",
    "    if table_exists:\n",
    "        drop_table_query=\"\"\"\n",
    "            drop table fifa;\n",
    "        \"\"\"\n",
    "        cur.execute(drop_table_query)\n",
    "        conn.commit()\n",
    "        print(\"Successfully drop table fifa\")\n",
    "        #postgresql schema\n",
    "        #use (year,sofifa_id) as our primary key\n",
    "    create_table_query = \"\"\"\n",
    "    CREATE TABLE fifa (\n",
    "        sofifa_id INT NOT NULL,\n",
    "        player_url VARCHAR(255) UNIQUE NOT NULL,\n",
    "        short_name VARCHAR(64) NOT NULL,\n",
    "        long_name VARCHAR(255) NOT NULL,\n",
    "        player_positions VARCHAR(64) NOT NULL,\n",
    "        overall INT NOT NULL,\n",
    "        potential INT NOT NULL,\n",
    "        value_eur FLOAT,\n",
    "        wage_eur FLOAT,\n",
    "        age INT NOT NULL,\n",
    "        dob DATE NOT NULL,\n",
    "        height_cm INT NOT NULL,\n",
    "        weight_kg INT NOT NULL,\n",
    "        club_team_id FLOAT, \n",
    "        club_name VARCHAR(255),\n",
    "        league_name VARCHAR(255),\n",
    "        league_level INT,\n",
    "        club_position VARCHAR(255),\n",
    "        club_jersey_number INT,\n",
    "        club_loaned_from VARCHAR(255),\n",
    "        club_joined DATE,\n",
    "        club_contract_valid_until INT,\n",
    "        nationality_id INT NOT NULL,\n",
    "        nationality_name VARCHAR(255) NOT NULL,\n",
    "        nation_team_id FLOAT,\n",
    "        nation_position VARCHAR(255),\n",
    "        nation_jersey_number INT,\n",
    "        preferred_foot VARCHAR(255) NOT NULL,\n",
    "        weak_foot INT NOT NULL,\n",
    "        skill_moves INT NOT NULL,\n",
    "        international_reputation INT NOT NULL,\n",
    "        work_rate VARCHAR(255) NOT NULL,\n",
    "        body_type VARCHAR(255) NOT NULL,\n",
    "        real_face VARCHAR(255) NOT NULL,\n",
    "        release_clause_eur VARCHAR(255),\n",
    "        player_tags VARCHAR(255),\n",
    "        player_traits VARCHAR(255),\n",
    "        pace INT,\n",
    "        shooting INT,\n",
    "        passing INT,\n",
    "        dribbling INT,\n",
    "        defending INT,\n",
    "        physic INT,\n",
    "        attacking_crossing INT NOT NULL,\n",
    "        attacking_finishing INT NOT NULL,\n",
    "        attacking_heading_accuracy INT NOT NULL,\n",
    "        attacking_short_passing INT NOT NULL,\n",
    "        attacking_volleys INT NOT NULL,\n",
    "        skill_dribbling INT NOT NULL,\n",
    "        skill_curve INT NOT NULL,\n",
    "        skill_fk_accuracy INT NOT NULL,\n",
    "        skill_long_passing INT NOT NULL,\n",
    "        skill_ball_control INT NOT NULL,\n",
    "        movement_acceleration INT NOT NULL,\n",
    "        movement_sprint_speed INT NOT NULL,\n",
    "        movement_agility INT NOT NULL,\n",
    "        movement_reactions INT NOT NULL,\n",
    "        movement_balance INT NOT NULL,\n",
    "        power_shot_power INT NOT NULL,\n",
    "        power_jumping INT NOT NULL,\n",
    "        power_stamina INT NOT NULL,\n",
    "        power_strength INT NOT NULL,\n",
    "        power_long_shots INT NOT NULL,\n",
    "        mentality_aggression INT NOT NULL,\n",
    "        mentality_interceptions INT NOT NULL,\n",
    "        mentality_positioning INT NOT NULL,\n",
    "        mentality_vision INT NOT NULL,\n",
    "        mentality_penalties INT NOT NULL,\n",
    "        mentality_composure VARCHAR(255),\n",
    "        defending_marking_awareness INT NOT NULL,\n",
    "        defending_standing_tackle INT NOT NULL,\n",
    "        defending_sliding_tackle INT NOT NULL,\n",
    "        goalkeeping_diving INT NOT NULL,\n",
    "        goalkeeping_handling INT NOT NULL,\n",
    "        goalkeeping_kicking INT NOT NULL,\n",
    "        goalkeeping_positioning INT NOT NULL,\n",
    "        goalkeeping_reflexes INT NOT NULL,\n",
    "        goalkeeping_speed INT,\n",
    "        ls VARCHAR(32) NOT NULL,\n",
    "        st VARCHAR(32) NOT NULL,\n",
    "        rs VARCHAR(32) NOT NULL,\n",
    "        lw VARCHAR(32) NOT NULL,\n",
    "        lf VARCHAR(32) NOT NULL,\n",
    "        cf VARCHAR(32) NOT NULL,\n",
    "        rf VARCHAR(32) NOT NULL,\n",
    "        rw VARCHAR(32) NOT NULL,\n",
    "        lam VARCHAR(32) NOT NULL,\n",
    "        cam VARCHAR(32) NOT NULL,\n",
    "        ram VARCHAR(32) NOT NULL,\n",
    "        lm VARCHAR(32) NOT NULL,\n",
    "        lcm VARCHAR(32) NOT NULL,\n",
    "        cm VARCHAR(32) NOT NULL,\n",
    "        rcm VARCHAR(32) NOT NULL,\n",
    "        rm VARCHAR(32) NOT NULL,\n",
    "        lwb VARCHAR(32) NOT NULL,\n",
    "        ldm VARCHAR(32) NOT NULL,\n",
    "        cdm VARCHAR(32) NOT NULL,\n",
    "        rdm VARCHAR(32) NOT NULL,\n",
    "        rwb VARCHAR(32) NOT NULL,\n",
    "        lb VARCHAR(32) NOT NULL,\n",
    "        lcb VARCHAR(32) NOT NULL,\n",
    "        cb VARCHAR(32) NOT NULL,\n",
    "        rcb VARCHAR(32) NOT NULL,\n",
    "        rb VARCHAR(32) NOT NULL,\n",
    "        gk VARCHAR(32) NOT NULL,\n",
    "        player_face_url VARCHAR(32) NOT NULL,\n",
    "        club_logo_url VARCHAR(255),\n",
    "        club_flag_url VARCHAR(255),\n",
    "        nation_logo_url VARCHAR(255),\n",
    "        nation_flag_url VARCHAR(32) NOT NULL,\n",
    "        year INT NOT NULL,\n",
    "        PRIMARY KEY (year,sofifa_id)\n",
    "    );\n",
    "    \"\"\"\n",
    "    # create table\n",
    "    cur.execute(create_table_query)\n",
    "    conn.commit()\n",
    "    print(f\"Table fifa created successfully.\")\n",
    "except psycopg2.Error as e:\n",
    "    print(f\"Error: {e}\")\n",
    "finally:\n",
    "    cur.close()\n",
    "    conn.close()"
   ]
  },
  {
   "cell_type": "code",
   "execution_count": 22,
   "id": "0fc825fc",
   "metadata": {},
   "outputs": [],
   "source": [
    "db_properties={}\n",
    "db_properties['username']=\"postgres\"\n",
    "db_properties['password']=\"200042\"\n",
    "db_properties['url']= \"jdbc:postgresql://localhost:5432/postgres\"\n",
    "db_properties['table']=\"fifa\"\n",
    "db_properties['driver']=\"org.postgresql.Driver\"\n",
    "\n",
    "df.write.format(\"jdbc\")\\\n",
    ".mode(\"overwrite\")\\\n",
    ".option(\"url\", db_properties['url'])\\\n",
    ".option(\"dbtable\", db_properties['table'])\\\n",
    ".option(\"user\", db_properties['username'])\\\n",
    ".option(\"password\", db_properties['password'])\\\n",
    ".option(\"Driver\", db_properties['driver'])\\\n",
    ".save()"
   ]
  },
  {
   "cell_type": "markdown",
   "id": "31810ab7",
   "metadata": {},
   "source": [
    "# Task II"
   ]
  },
  {
   "cell_type": "markdown",
   "id": "33b32cba",
   "metadata": {},
   "source": [
    "## Q1"
   ]
  },
  {
   "cell_type": "code",
   "execution_count": 23,
   "id": "d7fd36e3",
   "metadata": {},
   "outputs": [
    {
     "name": "stdout",
     "output_type": "stream",
     "text": [
      "-RECORD 0-------------------------------------------\n",
      " sofifa_id                   | 158023               \n",
      " player_url                  | https://sofifa.co... \n",
      " short_name                  | L. Messi             \n",
      " long_name                   | Lionel Andrés Mes... \n",
      " player_positions            | CF                   \n",
      " overall                     | 93                   \n",
      " potential                   | 95                   \n",
      " value_eur                   | 1.005E8              \n",
      " wage_eur                    | 550000.0             \n",
      " age                         | 27                   \n",
      " dob                         | 1987-06-24           \n",
      " height_cm                   | 169                  \n",
      " weight_kg                   | 67                   \n",
      " club_team_id                | 241.0                \n",
      " club_name                   | FC Barcelona         \n",
      " league_name                 | Spain Primera Div... \n",
      " league_level                | 1                    \n",
      " club_position               | CF                   \n",
      " club_jersey_number          | 10                   \n",
      " club_loaned_from            | null                 \n",
      " club_joined                 | 2004-07-01           \n",
      " club_contract_valid_until   | 2018                 \n",
      " nationality_id              | 52                   \n",
      " nationality_name            | Argentina            \n",
      " nation_team_id              | 1369.0               \n",
      " nation_position             | CF                   \n",
      " nation_jersey_number        | 10                   \n",
      " preferred_foot              | Left                 \n",
      " weak_foot                   | 3                    \n",
      " skill_moves                 | 4                    \n",
      " international_reputation    | 5                    \n",
      " work_rate                   | Medium/Low           \n",
      " body_type                   | Normal (170-)        \n",
      " real_face                   | Yes                  \n",
      " release_clause_eur          | null                 \n",
      " player_tags                 | #Speedster, #Drib... \n",
      " player_traits               | Finesse Shot, Spe... \n",
      " pace                        | 93                   \n",
      " shooting                    | 89                   \n",
      " passing                     | 86                   \n",
      " dribbling                   | 96                   \n",
      " defending                   | 27                   \n",
      " physic                      | 63                   \n",
      " attacking_crossing          | 84                   \n",
      " attacking_finishing         | 94                   \n",
      " attacking_heading_accuracy  | 71                   \n",
      " attacking_short_passing     | 89                   \n",
      " attacking_volleys           | 85                   \n",
      " skill_dribbling             | 96                   \n",
      " skill_curve                 | 89                   \n",
      " skill_fk_accuracy           | 90                   \n",
      " skill_long_passing          | 76                   \n",
      " skill_ball_control          | 96                   \n",
      " movement_acceleration       | 96                   \n",
      " movement_sprint_speed       | 90                   \n",
      " movement_agility            | 94                   \n",
      " movement_reactions          | 94                   \n",
      " movement_balance            | 95                   \n",
      " power_shot_power            | 80                   \n",
      " power_jumping               | 73                   \n",
      " power_stamina               | 77                   \n",
      " power_strength              | 60                   \n",
      " power_long_shots            | 88                   \n",
      " mentality_aggression        | 48                   \n",
      " mentality_interceptions     | 22                   \n",
      " mentality_positioning       | 92                   \n",
      " mentality_vision            | 90                   \n",
      " mentality_penalties         | 76                   \n",
      " mentality_composure         | null                 \n",
      " defending_marking_awareness | 25                   \n",
      " defending_standing_tackle   | 21                   \n",
      " defending_sliding_tackle    | 20                   \n",
      " goalkeeping_diving          | 6                    \n",
      " goalkeeping_handling        | 11                   \n",
      " goalkeeping_kicking         | 15                   \n",
      " goalkeeping_positioning     | 14                   \n",
      " goalkeeping_reflexes        | 8                    \n",
      " goalkeeping_speed           | null                 \n",
      " ls                          | 89+3                 \n",
      " st                          | 89+3                 \n",
      " rs                          | 89+3                 \n",
      " lw                          | 92+3                 \n",
      " lf                          | 90+3                 \n",
      " cf                          | 90+3                 \n",
      " rf                          | 90+3                 \n",
      " rw                          | 92+3                 \n",
      " lam                         | 92+3                 \n",
      " cam                         | 92+3                 \n",
      " ram                         | 92+3                 \n",
      " lm                          | 90+3                 \n",
      " lcm                         | 79+3                 \n",
      " cm                          | 79+3                 \n",
      " rcm                         | 79+3                 \n",
      " rm                          | 90+3                 \n",
      " lwb                         | 62+3                 \n",
      " ldm                         | 62+3                 \n",
      " cdm                         | 62+3                 \n",
      " rdm                         | 62+3                 \n",
      " rwb                         | 62+3                 \n",
      " lb                          | 54+3                 \n",
      " lcb                         | 45+3                 \n",
      " cb                          | 45+3                 \n",
      " rcb                         | 45+3                 \n",
      " rb                          | 54+3                 \n",
      " gk                          | 15+3                 \n",
      " player_face_url             | https://cdn.sofif... \n",
      " club_logo_url               | https://cdn.sofif... \n",
      " club_flag_url               | https://cdn.sofif... \n",
      " nation_logo_url             | https://cdn.sofif... \n",
      " nation_flag_url             | https://cdn.sofif... \n",
      " year                        | 2015                 \n",
      "only showing top 1 row\n",
      "\n",
      "root\n",
      " |-- sofifa_id: integer (nullable = true)\n",
      " |-- player_url: string (nullable = true)\n",
      " |-- short_name: string (nullable = true)\n",
      " |-- long_name: string (nullable = true)\n",
      " |-- player_positions: string (nullable = true)\n",
      " |-- overall: integer (nullable = true)\n",
      " |-- potential: integer (nullable = true)\n",
      " |-- value_eur: float (nullable = true)\n",
      " |-- wage_eur: float (nullable = true)\n",
      " |-- age: integer (nullable = true)\n",
      " |-- dob: date (nullable = true)\n",
      " |-- height_cm: integer (nullable = true)\n",
      " |-- weight_kg: integer (nullable = true)\n",
      " |-- club_team_id: float (nullable = true)\n",
      " |-- club_name: string (nullable = true)\n",
      " |-- league_name: string (nullable = true)\n",
      " |-- league_level: integer (nullable = true)\n",
      " |-- club_position: string (nullable = true)\n",
      " |-- club_jersey_number: integer (nullable = true)\n",
      " |-- club_loaned_from: string (nullable = true)\n",
      " |-- club_joined: date (nullable = true)\n",
      " |-- club_contract_valid_until: integer (nullable = true)\n",
      " |-- nationality_id: integer (nullable = true)\n",
      " |-- nationality_name: string (nullable = true)\n",
      " |-- nation_team_id: float (nullable = true)\n",
      " |-- nation_position: string (nullable = true)\n",
      " |-- nation_jersey_number: integer (nullable = true)\n",
      " |-- preferred_foot: string (nullable = true)\n",
      " |-- weak_foot: integer (nullable = true)\n",
      " |-- skill_moves: integer (nullable = true)\n",
      " |-- international_reputation: integer (nullable = true)\n",
      " |-- work_rate: string (nullable = true)\n",
      " |-- body_type: string (nullable = true)\n",
      " |-- real_face: string (nullable = true)\n",
      " |-- release_clause_eur: float (nullable = true)\n",
      " |-- player_tags: string (nullable = true)\n",
      " |-- player_traits: string (nullable = true)\n",
      " |-- pace: integer (nullable = true)\n",
      " |-- shooting: integer (nullable = true)\n",
      " |-- passing: integer (nullable = true)\n",
      " |-- dribbling: integer (nullable = true)\n",
      " |-- defending: integer (nullable = true)\n",
      " |-- physic: integer (nullable = true)\n",
      " |-- attacking_crossing: integer (nullable = true)\n",
      " |-- attacking_finishing: integer (nullable = true)\n",
      " |-- attacking_heading_accuracy: integer (nullable = true)\n",
      " |-- attacking_short_passing: integer (nullable = true)\n",
      " |-- attacking_volleys: integer (nullable = true)\n",
      " |-- skill_dribbling: integer (nullable = true)\n",
      " |-- skill_curve: integer (nullable = true)\n",
      " |-- skill_fk_accuracy: integer (nullable = true)\n",
      " |-- skill_long_passing: integer (nullable = true)\n",
      " |-- skill_ball_control: integer (nullable = true)\n",
      " |-- movement_acceleration: integer (nullable = true)\n",
      " |-- movement_sprint_speed: integer (nullable = true)\n",
      " |-- movement_agility: integer (nullable = true)\n",
      " |-- movement_reactions: integer (nullable = true)\n",
      " |-- movement_balance: integer (nullable = true)\n",
      " |-- power_shot_power: integer (nullable = true)\n",
      " |-- power_jumping: integer (nullable = true)\n",
      " |-- power_stamina: integer (nullable = true)\n",
      " |-- power_strength: integer (nullable = true)\n",
      " |-- power_long_shots: integer (nullable = true)\n",
      " |-- mentality_aggression: integer (nullable = true)\n",
      " |-- mentality_interceptions: integer (nullable = true)\n",
      " |-- mentality_positioning: integer (nullable = true)\n",
      " |-- mentality_vision: integer (nullable = true)\n",
      " |-- mentality_penalties: integer (nullable = true)\n",
      " |-- mentality_composure: integer (nullable = true)\n",
      " |-- defending_marking_awareness: integer (nullable = true)\n",
      " |-- defending_standing_tackle: integer (nullable = true)\n",
      " |-- defending_sliding_tackle: integer (nullable = true)\n",
      " |-- goalkeeping_diving: integer (nullable = true)\n",
      " |-- goalkeeping_handling: integer (nullable = true)\n",
      " |-- goalkeeping_kicking: integer (nullable = true)\n",
      " |-- goalkeeping_positioning: integer (nullable = true)\n",
      " |-- goalkeeping_reflexes: integer (nullable = true)\n",
      " |-- goalkeeping_speed: integer (nullable = true)\n",
      " |-- ls: string (nullable = true)\n",
      " |-- st: string (nullable = true)\n",
      " |-- rs: string (nullable = true)\n",
      " |-- lw: string (nullable = true)\n",
      " |-- lf: string (nullable = true)\n",
      " |-- cf: string (nullable = true)\n",
      " |-- rf: string (nullable = true)\n",
      " |-- rw: string (nullable = true)\n",
      " |-- lam: string (nullable = true)\n",
      " |-- cam: string (nullable = true)\n",
      " |-- ram: string (nullable = true)\n",
      " |-- lm: string (nullable = true)\n",
      " |-- lcm: string (nullable = true)\n",
      " |-- cm: string (nullable = true)\n",
      " |-- rcm: string (nullable = true)\n",
      " |-- rm: string (nullable = true)\n",
      " |-- lwb: string (nullable = true)\n",
      " |-- ldm: string (nullable = true)\n",
      " |-- cdm: string (nullable = true)\n",
      " |-- rdm: string (nullable = true)\n",
      " |-- rwb: string (nullable = true)\n",
      " |-- lb: string (nullable = true)\n",
      " |-- lcb: string (nullable = true)\n",
      " |-- cb: string (nullable = true)\n",
      " |-- rcb: string (nullable = true)\n",
      " |-- rb: string (nullable = true)\n",
      " |-- gk: string (nullable = true)\n",
      " |-- player_face_url: string (nullable = true)\n",
      " |-- club_logo_url: string (nullable = true)\n",
      " |-- club_flag_url: string (nullable = true)\n",
      " |-- nation_logo_url: string (nullable = true)\n",
      " |-- nation_flag_url: string (nullable = true)\n",
      " |-- year: integer (nullable = true)\n",
      "\n"
     ]
    }
   ],
   "source": [
    "#when we read data from postgresql, it will automatically transform postgresql datatype into pyspark datatype\n",
    "#besides, since before overwriting, we have already defined schema as fifa, we will get the same schema as fifa when we read \n",
    "#If we didn't define pyspark schema, when we read back, for example, we shall get double variable instead of float\n",
    "df_read = sqlContext.read.format(\"jdbc\")\\\n",
    "    .option(\"url\", db_properties['url'])\\\n",
    "    .option(\"dbtable\", db_properties['table'])\\\n",
    "    .option(\"user\", db_properties['username'])\\\n",
    "    .option(\"password\", db_properties['password'])\\\n",
    "    .option(\"Driver\", db_properties['driver'])\\\n",
    "    .load()\n",
    "\n",
    "df_read.show(1, vertical=True)\n",
    "df_read.printSchema()"
   ]
  },
  {
   "cell_type": "code",
   "execution_count": 24,
   "id": "92818fae",
   "metadata": {},
   "outputs": [],
   "source": [
    "df_read.createOrReplaceTempView(\"df_view\")"
   ]
  },
  {
   "cell_type": "code",
   "execution_count": 25,
   "id": "d1cde68a",
   "metadata": {},
   "outputs": [],
   "source": [
    "def contracts_ending_2023(x):\n",
    "    sqlWay = spark.sql(\"\"\"\n",
    "    select club_name,count(*) as player_with_contracts_ending_in_2023\n",
    "    from df_view\n",
    "    where year = 2022 and club_contract_valid_until=2023\n",
    "    group by club_name\n",
    "    having count(*) in\n",
    "    (\n",
    "    SELECT count(*) as cnt\n",
    "    FROM df_view\n",
    "    Where year = 2022 and club_contract_valid_until=2023\n",
    "    group by club_name  \n",
    "    order by cnt desc\n",
    "    limit {}\n",
    "    )\n",
    "    order by player_with_contracts_ending_in_2023 desc\n",
    "    \"\"\".format(x))\n",
    "    sqlWay.show()"
   ]
  },
  {
   "cell_type": "code",
   "execution_count": 26,
   "id": "4219f1fd",
   "metadata": {},
   "outputs": [
    {
     "name": "stdout",
     "output_type": "stream",
     "text": [
      "+--------------------+------------------------------------+\n",
      "|           club_name|player_with_contracts_ending_in_2023|\n",
      "+--------------------+------------------------------------+\n",
      "|En Avant de Guingamp|                                  19|\n",
      "| Club Atlético Lanús|                                  17|\n",
      "|       Lechia Gdańsk|                                  17|\n",
      "|            Barnsley|                                  16|\n",
      "|        Kasimpaşa SK|                                  16|\n",
      "|        Bengaluru FC|                                  16|\n",
      "+--------------------+------------------------------------+\n",
      "\n"
     ]
    }
   ],
   "source": [
    "contracts_ending_2023(5)"
   ]
  },
  {
   "cell_type": "markdown",
   "id": "fa41d971",
   "metadata": {},
   "source": [
    "## Q2"
   ]
  },
  {
   "cell_type": "code",
   "execution_count": 27,
   "id": "49ce5cba",
   "metadata": {},
   "outputs": [],
   "source": [
    "#method 1\n",
    "def number_of_players_over_27(x):\n",
    "    sqlWay = spark.sql(\"\"\"\n",
    "    select club_name,avg(number_players) as average_number_players_allyear from\n",
    "    (\n",
    "    SELECT club_name,count(*) as number_players\n",
    "    FROM df_view\n",
    "    Where age>27 and club_name is not null\n",
    "    group by club_name,year\n",
    "    ) as temp\n",
    "    group by club_name\n",
    "    having average_number_players_allyear in\n",
    "    (\n",
    "    select avg(number_players) as cnt from\n",
    "    (\n",
    "    SELECT club_name,count(*) as number_players\n",
    "    FROM df_view\n",
    "    Where age>27 and club_name is not null\n",
    "    group by club_name,year\n",
    "    ) as temp2\n",
    "    group by club_name\n",
    "    order by cnt desc\n",
    "    limit {}\n",
    "    )\n",
    "    order by average_number_players_allyear desc\n",
    "    \"\"\".format(x))\n",
    "    sqlWay.show()"
   ]
  },
  {
   "cell_type": "code",
   "execution_count": 28,
   "id": "9ed304af",
   "metadata": {},
   "outputs": [
    {
     "name": "stdout",
     "output_type": "stream",
     "text": [
      "+--------------------+------------------------------+\n",
      "|           club_name|average_number_players_allyear|\n",
      "+--------------------+------------------------------+\n",
      "|  Dorados de Sinaloa|                          19.0|\n",
      "| Matsumoto Yamaga FC|                          19.0|\n",
      "| Shanghai Shenhua FC|                          18.5|\n",
      "|          Qingdao FC|                          18.0|\n",
      "|Club Deportivo Jo...|                          17.5|\n",
      "|            Altay SK|                          17.0|\n",
      "|         Guaireña FC|                          17.0|\n",
      "|İstanbul Başakşeh...|                        16.625|\n",
      "|      BB Erzurumspor|                          16.5|\n",
      "|        Club Olimpia|                          16.5|\n",
      "|      Sport Huancayo|                          16.5|\n",
      "|    Beijing Renhe FC|                          16.0|\n",
      "|              Paraná|                          16.0|\n",
      "|  Sandecja Nowy Sącz|                          16.0|\n",
      "|            CFR Cluj|            15.666666666666666|\n",
      "|      Extremadura UD|                          15.5|\n",
      "|               Parma|            15.166666666666666|\n",
      "|      SKA Khabarovsk|                          15.0|\n",
      "|           Joinville|                          15.0|\n",
      "|            Criciúma|                          15.0|\n",
      "+--------------------+------------------------------+\n",
      "only showing top 20 rows\n",
      "\n"
     ]
    }
   ],
   "source": [
    "number_of_players_over_27(20)"
   ]
  },
  {
   "cell_type": "code",
   "execution_count": 29,
   "id": "2a4241f5",
   "metadata": {},
   "outputs": [],
   "source": [
    "#method 2\n",
    "#Although this method seems a litte bit more complicated, it can apply to circumstances where x>20\n",
    "#That's because pyspark show() has a limit of 20\n",
    "def number_of_players_over_27(x):\n",
    "    sqlWay = spark.sql(\"\"\"\n",
    "    select club_name,avg(number_players) as average_number_players_allyear from\n",
    "    (\n",
    "    SELECT club_name,count(*) as number_players\n",
    "    FROM df_view\n",
    "    Where age>27 and club_name is not null\n",
    "    group by club_name,year\n",
    "    ) as temp\n",
    "    group by club_name\n",
    "    order by average_number_players_allyear desc\n",
    "    \"\"\")\n",
    "    #find exactly how many rows(num) should be shown\n",
    "    sqlWay=sqlWay.withColumn(\"id\",monotonically_increasing_id()+1)\n",
    "    least=sqlWay.select('average_number_players_allyear').take(x)[x-1]['average_number_players_allyear']\n",
    "    rows_to_show=x\n",
    "    temp=sqlWay.filter(sqlWay.id==rows_to_show+1).take(1)[0]['average_number_players_allyear']\n",
    "    while temp==least:\n",
    "        rows_to_show=rows_to_show+1\n",
    "        temp=sqlWay.filter(sqlWay.id==rows_to_show+1).take(1)[0]['average_number_players_allyear']\n",
    "    sqlWay.show(rows_to_show)"
   ]
  },
  {
   "cell_type": "code",
   "execution_count": 30,
   "id": "6b0a2529",
   "metadata": {},
   "outputs": [
    {
     "name": "stdout",
     "output_type": "stream",
     "text": [
      "+--------------------+------------------------------+---+\n",
      "|           club_name|average_number_players_allyear| id|\n",
      "+--------------------+------------------------------+---+\n",
      "|  Dorados de Sinaloa|                          19.0|  1|\n",
      "| Matsumoto Yamaga FC|                          19.0|  2|\n",
      "| Shanghai Shenhua FC|                          18.5|  3|\n",
      "|          Qingdao FC|                          18.0|  4|\n",
      "|Club Deportivo Jo...|                          17.5|  5|\n",
      "|            Altay SK|                          17.0|  6|\n",
      "|         Guaireña FC|                          17.0|  7|\n",
      "|İstanbul Başakşeh...|                        16.625|  8|\n",
      "|      BB Erzurumspor|                          16.5|  9|\n",
      "|        Club Olimpia|                          16.5| 10|\n",
      "|      Sport Huancayo|                          16.5| 11|\n",
      "|    Beijing Renhe FC|                          16.0| 12|\n",
      "|              Paraná|                          16.0| 13|\n",
      "|  Sandecja Nowy Sącz|                          16.0| 14|\n",
      "|            CFR Cluj|            15.666666666666666| 15|\n",
      "|      Extremadura UD|                          15.5| 16|\n",
      "|               Parma|            15.166666666666666| 17|\n",
      "|      SKA Khabarovsk|                          15.0| 18|\n",
      "|           Joinville|                          15.0| 19|\n",
      "|            Criciúma|                          15.0| 20|\n",
      "|      Ventforet Kofu|                          15.0| 21|\n",
      "|              Padova|                          15.0| 22|\n",
      "|        US Cremonese|                          15.0| 23|\n",
      "+--------------------+------------------------------+---+\n",
      "only showing top 23 rows\n",
      "\n"
     ]
    }
   ],
   "source": [
    "number_of_players_over_27(20)"
   ]
  },
  {
   "cell_type": "markdown",
   "id": "fb8f1a46",
   "metadata": {},
   "source": [
    "## Q3"
   ]
  },
  {
   "cell_type": "code",
   "execution_count": 31,
   "id": "f8e7be07",
   "metadata": {},
   "outputs": [],
   "source": [
    "# sqlWay1=spark.sql('''\n",
    "# select nation_position,year,count(*) as cnt \n",
    "# from df_view\n",
    "# where nation_position is not null and nation_position<>'SUB'\n",
    "# group by nation_position,year\n",
    "# order by cnt desc\n",
    "# ''')\n",
    "# sqlWay1.show()"
   ]
  },
  {
   "cell_type": "code",
   "execution_count": 32,
   "id": "7fb32202",
   "metadata": {},
   "outputs": [],
   "source": [
    "# sqlWay1.createOrReplaceTempView(\"sqlWay1\")\n",
    "# spark.catalog.listTables()"
   ]
  },
  {
   "cell_type": "code",
   "execution_count": 33,
   "id": "a5c7fbab",
   "metadata": {},
   "outputs": [],
   "source": [
    "# sqlWay=spark.sql('''\n",
    "# select temp.year,nation_position,sqlWay1.cnt from\n",
    "# (\n",
    "# select year,max(cnt) as maxcnt\n",
    "# from sqlWay1\n",
    "# group by year\n",
    "# ) as temp\n",
    "# left join sqlWay1\n",
    "# on temp.maxcnt=sqlWay1.cnt and temp.year=sqlWay1.year\n",
    "# order by temp.year\n",
    "# ''')"
   ]
  },
  {
   "cell_type": "code",
   "execution_count": 34,
   "id": "33454073",
   "metadata": {},
   "outputs": [],
   "source": [
    "# sqlWay.show(30)"
   ]
  },
  {
   "cell_type": "code",
   "execution_count": 35,
   "id": "4301f92f",
   "metadata": {},
   "outputs": [],
   "source": [
    "def most_frequent_nation_position():\n",
    "    sqlWay1=spark.sql('''\n",
    "    select nation_position,year,count(*) as cnt \n",
    "    from df_view\n",
    "    where nation_position is not null and nation_position<>'SUB'\n",
    "    group by nation_position,year\n",
    "    order by cnt desc\n",
    "    ''')\n",
    "    sqlWay1.createOrReplaceTempView(\"sqlWay1\")\n",
    "    sqlWay2=spark.sql('''\n",
    "    select temp.year,nation_position,sqlWay1.cnt from\n",
    "    (\n",
    "    select year,max(cnt) as maxcnt\n",
    "    from sqlWay1\n",
    "    group by year\n",
    "    ) as temp\n",
    "    left join sqlWay1\n",
    "    on temp.maxcnt=sqlWay1.cnt and temp.year=sqlWay1.year\n",
    "    order by temp.year\n",
    "    ''')\n",
    "    sqlWay2.show(30)"
   ]
  },
  {
   "cell_type": "code",
   "execution_count": 36,
   "id": "60ac2191",
   "metadata": {},
   "outputs": [
    {
     "name": "stdout",
     "output_type": "stream",
     "text": [
      "+----+---------------+---+\n",
      "|year|nation_position|cnt|\n",
      "+----+---------------+---+\n",
      "|2015|             GK| 47|\n",
      "|2015|            RCB| 47|\n",
      "|2015|            LCB| 47|\n",
      "|2016|            RCB| 46|\n",
      "|2016|             GK| 46|\n",
      "|2017|             GK| 47|\n",
      "|2017|            LCB| 47|\n",
      "|2017|            RCB| 47|\n",
      "|2018|             GK| 50|\n",
      "|2018|            LCB| 50|\n",
      "|2018|            RCB| 50|\n",
      "|2019|            LCB| 48|\n",
      "|2019|             GK| 48|\n",
      "|2019|            RCB| 48|\n",
      "|2020|            RCB| 49|\n",
      "|2020|            LCB| 49|\n",
      "|2020|             GK| 49|\n",
      "|2021|            RCB| 49|\n",
      "|2021|             GK| 49|\n",
      "|2021|            LCB| 49|\n",
      "|2022|            LCB| 33|\n",
      "|2022|             GK| 33|\n",
      "|2022|            RCB| 33|\n",
      "+----+---------------+---+\n",
      "\n"
     ]
    }
   ],
   "source": [
    "most_frequent_nation_position()"
   ]
  },
  {
   "cell_type": "markdown",
   "id": "b382c4c8",
   "metadata": {},
   "source": [
    "# Task III"
   ]
  },
  {
   "cell_type": "markdown",
   "id": "99263f8a",
   "metadata": {},
   "source": [
    "## Data Engineering"
   ]
  },
  {
   "cell_type": "markdown",
   "id": "01bffd12",
   "metadata": {},
   "source": [
    "### Handling missing values"
   ]
  },
  {
   "cell_type": "code",
   "execution_count": 37,
   "id": "b7a9288e",
   "metadata": {},
   "outputs": [],
   "source": [
    "from pyspark.sql.functions import *"
   ]
  },
  {
   "cell_type": "code",
   "execution_count": 38,
   "id": "0c9ab982",
   "metadata": {},
   "outputs": [],
   "source": [
    "def get_null(df):\n",
    "    null_counts_df = df.select([count(when(isnan(c) | col(c).isNull(),c)).alias(c) for c in df.columns])\n",
    "\n",
    "    first_row_dict = null_counts_df.first().asDict()\n",
    "\n",
    "    filtered_data = {key: value for key, value in first_row_dict.items() if value != 0}\n",
    "    return filtered_data"
   ]
  },
  {
   "cell_type": "code",
   "execution_count": 39,
   "id": "2370547d",
   "metadata": {},
   "outputs": [],
   "source": [
    "df=df_read\n",
    "#drop Date Columns\n",
    "df=df.drop('dob','club_joined')\n",
    "#we don't actually need club_name and nationality_name, because we already have nationality_id\n",
    "df=df.drop('club_name','nationality_name')\n",
    "#It's obvious that url can't play a role in overall abiltiy\n",
    "df=df.drop('player_url','player_face_url','club_logo_url','club_flag_url','nation_logo_url','nation_flag_url')\n",
    "#'sofifa_id','short_name','long_name' should be dropped, because name should not be an index for predicting overall value\n",
    "df=df.drop('sofifa_id','short_name','long_name')\n",
    "#It's true that players with 'real_face' are generally more famous and have higher personal values\n",
    "#But I think this attribute is from EA instead of player himself. In this case, we drop it.\n",
    "df=df.drop('real_face')"
   ]
  },
  {
   "cell_type": "code",
   "execution_count": 40,
   "id": "0e031641",
   "metadata": {},
   "outputs": [],
   "source": [
    "# df.show(1,vertical=True)"
   ]
  },
  {
   "cell_type": "code",
   "execution_count": 41,
   "id": "e32f7f67",
   "metadata": {},
   "outputs": [
    {
     "data": {
      "text/plain": [
       "{'value_eur': 1897,\n",
       " 'wage_eur': 1622,\n",
       " 'club_team_id': 1630,\n",
       " 'league_name': 1630,\n",
       " 'league_level': 2015,\n",
       " 'club_position': 1630,\n",
       " 'club_jersey_number': 1630,\n",
       " 'club_loaned_from': 133774,\n",
       " 'club_contract_valid_until': 1630,\n",
       " 'nation_team_id': 133635,\n",
       " 'nation_position': 133635,\n",
       " 'nation_jersey_number': 133635,\n",
       " 'release_clause_eur': 55582,\n",
       " 'player_tags': 130765,\n",
       " 'player_traits': 78771,\n",
       " 'pace': 15791,\n",
       " 'shooting': 15791,\n",
       " 'passing': 15791,\n",
       " 'dribbling': 15791,\n",
       " 'defending': 15791,\n",
       " 'physic': 15791,\n",
       " 'mentality_composure': 31778,\n",
       " 'goalkeeping_speed': 126288}"
      ]
     },
     "execution_count": 41,
     "metadata": {},
     "output_type": "execute_result"
    }
   ],
   "source": [
    "# I don't know why if I don't import repeatedly, there will be an error occured\n",
    "from pyspark.sql.functions import *\n",
    "null_columns=get_null(df)\n",
    "null_columns"
   ]
  },
  {
   "cell_type": "code",
   "execution_count": 42,
   "id": "ee10282a",
   "metadata": {},
   "outputs": [
    {
     "data": {
      "text/plain": [
       "142079"
      ]
     },
     "execution_count": 42,
     "metadata": {},
     "output_type": "execute_result"
    }
   ],
   "source": [
    "df.count()"
   ]
  },
  {
   "cell_type": "code",
   "execution_count": 43,
   "id": "b10809f8",
   "metadata": {},
   "outputs": [],
   "source": [
    "#drop columns that have more than half null values\n",
    "#'release_clause_eur' also need to be dropped, although it has less than half null values\n",
    "#We can see from above that, all goalkeepers don't have 'pace','shooting','passing','dribbling','defending'\n",
    "#And all players who are not goalkeeper don't have 'goalkeeping_speed'\n",
    "#In this case, I believe we should not drop  'goalkeeping_speed' because it's a very important index for goalkeepers.\n",
    "df=df.drop('club_loaned_from','nation_team_id','nation_position','nation_jersey_number',\\\n",
    "       'release_clause_eur','player_tags','player_traits')"
   ]
  },
  {
   "cell_type": "code",
   "execution_count": 44,
   "id": "2ca8ba3c",
   "metadata": {},
   "outputs": [
    {
     "data": {
      "text/plain": [
       "{'value_eur': 1897,\n",
       " 'wage_eur': 1622,\n",
       " 'club_team_id': 1630,\n",
       " 'league_name': 1630,\n",
       " 'league_level': 2015,\n",
       " 'club_position': 1630,\n",
       " 'club_jersey_number': 1630,\n",
       " 'club_contract_valid_until': 1630,\n",
       " 'pace': 15791,\n",
       " 'shooting': 15791,\n",
       " 'passing': 15791,\n",
       " 'dribbling': 15791,\n",
       " 'defending': 15791,\n",
       " 'physic': 15791,\n",
       " 'mentality_composure': 31778,\n",
       " 'goalkeeping_speed': 126288}"
      ]
     },
     "execution_count": 44,
     "metadata": {},
     "output_type": "execute_result"
    }
   ],
   "source": [
    "from pyspark.sql.functions import *\n",
    "\n",
    "null_counts_df = df.select([count(when(isnan(c) | col(c).isNull(),c)).alias(c) for c in df.columns])\n",
    "\n",
    "first_row_dict = null_counts_df.first().asDict()\n",
    "\n",
    "filtered_data = {key: value for key, value in first_row_dict.items() if value != 0}\n",
    "filtered_data"
   ]
  },
  {
   "cell_type": "code",
   "execution_count": 45,
   "id": "58859308",
   "metadata": {},
   "outputs": [],
   "source": [
    "# These features are missing for those players who are not in a club\n",
    "# It's only a very small number, so we drop those rows.\n",
    "df=df.na.drop(subset=[\"value_eur\",'wage_eur','league_name','league_level',\\\n",
    "                     'club_position','club_jersey_number','club_contract_valid_until'])"
   ]
  },
  {
   "cell_type": "code",
   "execution_count": 46,
   "id": "6479ec8e",
   "metadata": {},
   "outputs": [
    {
     "data": {
      "text/plain": [
       "{'pace': 15502,\n",
       " 'shooting': 15502,\n",
       " 'passing': 15502,\n",
       " 'dribbling': 15502,\n",
       " 'defending': 15502,\n",
       " 'physic': 15502,\n",
       " 'mentality_composure': 31226,\n",
       " 'goalkeeping_speed': 124287}"
      ]
     },
     "execution_count": 46,
     "metadata": {},
     "output_type": "execute_result"
    }
   ],
   "source": [
    "from pyspark.sql.functions import *\n",
    "null_columns=get_null(df)\n",
    "null_columns"
   ]
  },
  {
   "cell_type": "code",
   "execution_count": 47,
   "id": "5172ad9b",
   "metadata": {},
   "outputs": [],
   "source": [
    "# imputation for 'pace','shooting','passing','dribbling','defending','physic','mentality_composure','goalkeeping_speed'\n",
    "# When it comes to numeric featurs，\n",
    "# we can transform numeric features that are None into median of that feature\n",
    "from pyspark.ml.feature import Imputer\n",
    "\n",
    "imputed_cols=['pace','shooting','passing','dribbling','defending','physic','mentality_composure','goalkeeping_speed']\n",
    "\n",
    "imputer = Imputer (\n",
    "            inputCols=imputed_cols,\n",
    "            outputCols=[\"{}_imputed\".format(c) for c in imputed_cols])\\\n",
    "            .setStrategy(\"median\").setMissingValue(None)\n",
    "\n",
    "df_imputed = imputer.fit(df).transform(df)\n",
    "\n",
    "# drop and rename new column as original column names\n",
    "for col in imputed_cols:\n",
    "    df_imputed = df_imputed.drop(col)\n",
    "    df_imputed = df_imputed.withColumnRenamed(\"{}_imputed\".format(col),col)\n",
    "df=df_imputed"
   ]
  },
  {
   "cell_type": "code",
   "execution_count": 48,
   "id": "402e1786",
   "metadata": {},
   "outputs": [
    {
     "data": {
      "text/plain": [
       "{}"
      ]
     },
     "execution_count": 48,
     "metadata": {},
     "output_type": "execute_result"
    }
   ],
   "source": [
    "from pyspark.sql.functions import *\n",
    "null_columns=get_null(df)\n",
    "null_columns"
   ]
  },
  {
   "cell_type": "code",
   "execution_count": 49,
   "id": "0fb73135",
   "metadata": {},
   "outputs": [
    {
     "data": {
      "text/plain": [
       "139789"
      ]
     },
     "execution_count": 49,
     "metadata": {},
     "output_type": "execute_result"
    }
   ],
   "source": [
    "df.count()"
   ]
  },
  {
   "cell_type": "markdown",
   "id": "f9b0135f",
   "metadata": {},
   "source": [
    "### Classify Features"
   ]
  },
  {
   "cell_type": "code",
   "execution_count": 50,
   "id": "6e0b3958",
   "metadata": {},
   "outputs": [],
   "source": [
    "#here comes a problem,['ls', 'st', 'rs', 'lw', 'lf', 'cf', 'rf', 'rw', 'lam', 'cam', 'ram', 'lm', 'lcm', \n",
    "#'cm', 'rcm', 'rm', 'lwb', 'ldm', 'cdm', 'rdm', 'rwb', 'lb', 'lcb', 'cb', 'rcb', 'rb', 'gk'] actually should not be category_features\n",
    "#We need to change each of this into two columns,which are 'potential' and 'original'\n",
    "columns_modify=['ls', 'st', 'rs', 'lw', 'lf', 'cf', 'rf', 'rw', 'lam', 'cam', 'ram', 'lm', 'lcm', 'cm', 'rcm', 'rm', 'lwb', 'ldm', 'cdm', 'rdm', 'rwb', 'lb', 'lcb', 'cb', 'rcb', 'rb', 'gk']"
   ]
  },
  {
   "cell_type": "code",
   "execution_count": 51,
   "id": "087ecf28",
   "metadata": {},
   "outputs": [],
   "source": [
    "def get_potential_udf(value):\n",
    "    operator_pos1 = value.find('+')\n",
    "    operator_pos2 = value.find('-')\n",
    "    \n",
    "    if operator_pos1 != -1:\n",
    "        result = int(value[:operator_pos1]) + int(value[operator_pos1+1:]) \n",
    "    elif operator_pos2 != -1:\n",
    "        result = int(value[:operator_pos2]) - int(value[operator_pos2+1:])\n",
    "    else:\n",
    "        result = int(value)  \n",
    "\n",
    "    return result\n",
    "\n",
    "def get_original_udf(value):\n",
    "    operator_pos1 = value.find('+')\n",
    "    operator_pos2 = value.find('-')\n",
    "    \n",
    "    if operator_pos1 != -1:\n",
    "        result = int(value[:operator_pos1])\n",
    "    elif operator_pos2 != -1:\n",
    "        result = int(value[:operator_pos2])\n",
    "    else:\n",
    "        result = int(value)  \n",
    "\n",
    "    return result"
   ]
  },
  {
   "cell_type": "code",
   "execution_count": 52,
   "id": "fb7d9a6e",
   "metadata": {},
   "outputs": [],
   "source": [
    "get_potential = udf(get_potential_udf, IntegerType())\n",
    "get_original = udf(get_original_udf,IntegerType())"
   ]
  },
  {
   "cell_type": "code",
   "execution_count": 53,
   "id": "af3e7ec7",
   "metadata": {},
   "outputs": [],
   "source": [
    "for column in columns_modify:\n",
    "    column_potential=f'{column}_potential'\n",
    "    column_original=f'{column}_original'\n",
    "    df = df.withColumn(column_potential, get_potential(col(column)))\n",
    "    df =df.withColumn(column_original,get_original(col(column))).drop(column)    "
   ]
  },
  {
   "cell_type": "code",
   "execution_count": 54,
   "id": "d7c2f3cc",
   "metadata": {},
   "outputs": [
    {
     "name": "stdout",
     "output_type": "stream",
     "text": [
      "-RECORD 0-------------------------------------------\n",
      " player_positions            | CF                   \n",
      " overall                     | 93                   \n",
      " potential                   | 95                   \n",
      " value_eur                   | 1.005E8              \n",
      " wage_eur                    | 550000.0             \n",
      " age                         | 27                   \n",
      " height_cm                   | 169                  \n",
      " weight_kg                   | 67                   \n",
      " club_team_id                | 241.0                \n",
      " league_name                 | Spain Primera Div... \n",
      " league_level                | 1                    \n",
      " club_position               | CF                   \n",
      " club_jersey_number          | 10                   \n",
      " club_contract_valid_until   | 2018                 \n",
      " nationality_id              | 52                   \n",
      " preferred_foot              | Left                 \n",
      " weak_foot                   | 3                    \n",
      " skill_moves                 | 4                    \n",
      " international_reputation    | 5                    \n",
      " work_rate                   | Medium/Low           \n",
      " body_type                   | Normal (170-)        \n",
      " attacking_crossing          | 84                   \n",
      " attacking_finishing         | 94                   \n",
      " attacking_heading_accuracy  | 71                   \n",
      " attacking_short_passing     | 89                   \n",
      " attacking_volleys           | 85                   \n",
      " skill_dribbling             | 96                   \n",
      " skill_curve                 | 89                   \n",
      " skill_fk_accuracy           | 90                   \n",
      " skill_long_passing          | 76                   \n",
      " skill_ball_control          | 96                   \n",
      " movement_acceleration       | 96                   \n",
      " movement_sprint_speed       | 90                   \n",
      " movement_agility            | 94                   \n",
      " movement_reactions          | 94                   \n",
      " movement_balance            | 95                   \n",
      " power_shot_power            | 80                   \n",
      " power_jumping               | 73                   \n",
      " power_stamina               | 77                   \n",
      " power_strength              | 60                   \n",
      " power_long_shots            | 88                   \n",
      " mentality_aggression        | 48                   \n",
      " mentality_interceptions     | 22                   \n",
      " mentality_positioning       | 92                   \n",
      " mentality_vision            | 90                   \n",
      " mentality_penalties         | 76                   \n",
      " defending_marking_awareness | 25                   \n",
      " defending_standing_tackle   | 21                   \n",
      " defending_sliding_tackle    | 20                   \n",
      " goalkeeping_diving          | 6                    \n",
      " goalkeeping_handling        | 11                   \n",
      " goalkeeping_kicking         | 15                   \n",
      " goalkeeping_positioning     | 14                   \n",
      " goalkeeping_reflexes        | 8                    \n",
      " year                        | 2015                 \n",
      " pace                        | 93                   \n",
      " shooting                    | 89                   \n",
      " passing                     | 86                   \n",
      " dribbling                   | 96                   \n",
      " defending                   | 27                   \n",
      " physic                      | 63                   \n",
      " mentality_composure         | 59                   \n",
      " goalkeeping_speed           | 41                   \n",
      " ls_potential                | 92                   \n",
      " ls_original                 | 89                   \n",
      " st_potential                | 92                   \n",
      " st_original                 | 89                   \n",
      " rs_potential                | 92                   \n",
      " rs_original                 | 89                   \n",
      " lw_potential                | 95                   \n",
      " lw_original                 | 92                   \n",
      " lf_potential                | 93                   \n",
      " lf_original                 | 90                   \n",
      " cf_potential                | 93                   \n",
      " cf_original                 | 90                   \n",
      " rf_potential                | 93                   \n",
      " rf_original                 | 90                   \n",
      " rw_potential                | 95                   \n",
      " rw_original                 | 92                   \n",
      " lam_potential               | 95                   \n",
      " lam_original                | 92                   \n",
      " cam_potential               | 95                   \n",
      " cam_original                | 92                   \n",
      " ram_potential               | 95                   \n",
      " ram_original                | 92                   \n",
      " lm_potential                | 93                   \n",
      " lm_original                 | 90                   \n",
      " lcm_potential               | 82                   \n",
      " lcm_original                | 79                   \n",
      " cm_potential                | 82                   \n",
      " cm_original                 | 79                   \n",
      " rcm_potential               | 82                   \n",
      " rcm_original                | 79                   \n",
      " rm_potential                | 93                   \n",
      " rm_original                 | 90                   \n",
      " lwb_potential               | 65                   \n",
      " lwb_original                | 62                   \n",
      " ldm_potential               | 65                   \n",
      " ldm_original                | 62                   \n",
      " cdm_potential               | 65                   \n",
      " cdm_original                | 62                   \n",
      " rdm_potential               | 65                   \n",
      " rdm_original                | 62                   \n",
      " rwb_potential               | 65                   \n",
      " rwb_original                | 62                   \n",
      " lb_potential                | 57                   \n",
      " lb_original                 | 54                   \n",
      " lcb_potential               | 48                   \n",
      " lcb_original                | 45                   \n",
      " cb_potential                | 48                   \n",
      " cb_original                 | 45                   \n",
      " rcb_potential               | 48                   \n",
      " rcb_original                | 45                   \n",
      " rb_potential                | 57                   \n",
      " rb_original                 | 54                   \n",
      " gk_potential                | 18                   \n",
      " gk_original                 | 15                   \n",
      "only showing top 1 row\n",
      "\n"
     ]
    }
   ],
   "source": [
    "df.show(1,vertical=True)"
   ]
  },
  {
   "cell_type": "code",
   "execution_count": 55,
   "id": "d4bd1e7d",
   "metadata": {},
   "outputs": [],
   "source": [
    "# from my perspective, club_contract_valid_until-year=club_contract_valid_last is better\n",
    "df=df.withColumn('club_contract_valid_last',col('club_contract_valid_until')-col('year')).drop('club_contract_valid_until').drop('year')"
   ]
  },
  {
   "cell_type": "code",
   "execution_count": 56,
   "id": "70bb32dc",
   "metadata": {},
   "outputs": [
    {
     "name": "stdout",
     "output_type": "stream",
     "text": [
      "['overall', 'potential', 'value_eur', 'wage_eur', 'age', 'height_cm', 'weight_kg', 'club_team_id', 'league_level', 'club_jersey_number', 'nationality_id', 'weak_foot', 'skill_moves', 'international_reputation', 'attacking_crossing', 'attacking_finishing', 'attacking_heading_accuracy', 'attacking_short_passing', 'attacking_volleys', 'skill_dribbling', 'skill_curve', 'skill_fk_accuracy', 'skill_long_passing', 'skill_ball_control', 'movement_acceleration', 'movement_sprint_speed', 'movement_agility', 'movement_reactions', 'movement_balance', 'power_shot_power', 'power_jumping', 'power_stamina', 'power_strength', 'power_long_shots', 'mentality_aggression', 'mentality_interceptions', 'mentality_positioning', 'mentality_vision', 'mentality_penalties', 'defending_marking_awareness', 'defending_standing_tackle', 'defending_sliding_tackle', 'goalkeeping_diving', 'goalkeeping_handling', 'goalkeeping_kicking', 'goalkeeping_positioning', 'goalkeeping_reflexes', 'pace', 'shooting', 'passing', 'dribbling', 'defending', 'physic', 'mentality_composure', 'goalkeeping_speed', 'ls_potential', 'ls_original', 'st_potential', 'st_original', 'rs_potential', 'rs_original', 'lw_potential', 'lw_original', 'lf_potential', 'lf_original', 'cf_potential', 'cf_original', 'rf_potential', 'rf_original', 'rw_potential', 'rw_original', 'lam_potential', 'lam_original', 'cam_potential', 'cam_original', 'ram_potential', 'ram_original', 'lm_potential', 'lm_original', 'lcm_potential', 'lcm_original', 'cm_potential', 'cm_original', 'rcm_potential', 'rcm_original', 'rm_potential', 'rm_original', 'lwb_potential', 'lwb_original', 'ldm_potential', 'ldm_original', 'cdm_potential', 'cdm_original', 'rdm_potential', 'rdm_original', 'rwb_potential', 'rwb_original', 'lb_potential', 'lb_original', 'lcb_potential', 'lcb_original', 'cb_potential', 'cb_original', 'rcb_potential', 'rcb_original', 'rb_potential', 'rb_original', 'gk_potential', 'gk_original', 'club_contract_valid_last']\n",
      "['player_positions', 'league_name', 'club_position', 'preferred_foot', 'work_rate', 'body_type']\n"
     ]
    }
   ],
   "source": [
    "numeric_features = [feature[0] for feature in df.dtypes if feature[1] in ('int','float')]\n",
    "print(numeric_features)\n",
    "category_features= [feature[0] for feature in df.dtypes if feature[1] not in ('int','float','timestamp')]\n",
    "print(category_features)"
   ]
  },
  {
   "cell_type": "markdown",
   "id": "e7651735",
   "metadata": {},
   "source": [
    "### Analyze Numerical Features"
   ]
  },
  {
   "cell_type": "code",
   "execution_count": 57,
   "id": "3d2a5684",
   "metadata": {},
   "outputs": [
    {
     "data": {
      "text/plain": [
       "110"
      ]
     },
     "execution_count": 57,
     "metadata": {},
     "output_type": "execute_result"
    }
   ],
   "source": [
    "len(numeric_features)"
   ]
  },
  {
   "cell_type": "code",
   "execution_count": 58,
   "id": "da68a5bd",
   "metadata": {},
   "outputs": [],
   "source": [
    "numeric_data=df.select(numeric_features).toPandas()"
   ]
  },
  {
   "cell_type": "code",
   "execution_count": 59,
   "id": "e4b5a00c",
   "metadata": {},
   "outputs": [
    {
     "data": {
      "image/png": "[encoded data removed]",
      "text/plain": [
       "<Figure size 640x480 with 1 Axes>"
      ]
     },
     "metadata": {},
     "output_type": "display_data"
    }
   ],
   "source": [
    "figure=plt.boxplot(numeric_data)"
   ]
  },
  {
   "cell_type": "markdown",
   "id": "d20c2250",
   "metadata": {},
   "source": [
    "### deal with outliers"
   ]
  },
  {
   "cell_type": "markdown",
   "id": "5c014b1f",
   "metadata": {},
   "source": [
    "### To do: deal with outliers"
   ]
  },
  {
   "cell_type": "code",
   "execution_count": 60,
   "id": "350cb384",
   "metadata": {},
   "outputs": [],
   "source": [
    "# #require a lot of time to run\n",
    "# #计算每一行的所有属性的总异常值数\n",
    "# from functools import reduce\n",
    "\n",
    "# def column_add(a,b):\n",
    "#      return  a.__add__(b)\n",
    "    \n",
    "# def find_outliers(df):\n",
    "#     # Identifying the numerical columns in a spark dataframe\n",
    "#     numeric_columns = [column[0] for column in df.dtypes if column[1]=='int' or column[1]=='float']\n",
    "\n",
    "#     # Using the `for` loop to create new columns by identifying the outliers for each feature\n",
    "#     for column in numeric_columns:\n",
    "\n",
    "#         less_Q1 = 'less_Q1_{}'.format(column)\n",
    "#         more_Q3 = 'more_Q3_{}'.format(column)\n",
    "#         Q1 = 'Q1_{}'.format(column)\n",
    "#         Q3 = 'Q3_{}'.format(column)\n",
    "\n",
    "#         # Q1 : First Quartile ., Q3 : Third Quartile\n",
    "#         Q1 = df.approxQuantile(column,[0.25],relativeError=0)\n",
    "#         Q3 = df.approxQuantile(column,[0.75],relativeError=0)\n",
    "        \n",
    "#         # IQR : Inter Quantile Range\n",
    "#         # We need to define the index [0], as Q1 & Q3 are a set of lists., to perform a mathematical operation\n",
    "#         # Q1 & Q3 are defined seperately so as to have a clear indication on First Quantile & 3rd Quantile\n",
    "#         IQR = Q3[0] - Q1[0]\n",
    "        \n",
    "#         #selecting the data, with -1.5*IQR to + 1.5*IQR., where param = 1.5 default value\n",
    "#         less_Q1 =  Q1[0] - 1.5*IQR\n",
    "#         more_Q3 =  Q3[0] + 1.5*IQR\n",
    "        \n",
    "#         isOutlierCol = 'is_outlier_{}'.format(column)\n",
    "        \n",
    "#         df = df.withColumn(isOutlierCol,when((df[column] > more_Q3) | (df[column] < less_Q1), 1).otherwise(0))\n",
    "    \n",
    "\n",
    "#     # Selecting the specific columns which we have added above, to check if there are any outliers\n",
    "#     selected_columns = [column for column in df.columns if column.startswith(\"is_outlier\")]\n",
    "#     # Adding all the outlier columns into a new colum \"total_outliers\", to see the total number of outliers\n",
    "#     #reduce是对列column_add做操作\n",
    "#     df = df.withColumn('total_outliers',reduce(column_add, ( df[col] for col in  selected_columns)))\n",
    "#     # Dropping the extra columns created above, just to create nice dataframe., without extra columns\n",
    "#     df = df.drop(*[column for column in df.columns if column.startswith(\"is_outlier\")])\n",
    "\n",
    "#     return df\n",
    "\n",
    "# df_with_outlier_handling = find_outliers(df)\n",
    "# df_with_outlier_handling.groupby(\"total_outliers\").count().orderBy('total_outliers').show()\n",
    "# df=df_with_outlier_handling"
   ]
  },
  {
   "cell_type": "code",
   "execution_count": 61,
   "id": "b137c8c6",
   "metadata": {},
   "outputs": [],
   "source": [
    "#todo：删除异常值>k 的行"
   ]
  },
  {
   "cell_type": "markdown",
   "id": "aca524fe",
   "metadata": {},
   "source": [
    "### Numeric Varibale Distribution"
   ]
  },
  {
   "cell_type": "code",
   "execution_count": 62,
   "id": "c5f1cdb2",
   "metadata": {},
   "outputs": [],
   "source": [
    "# sb.pairplot(df[numeric_features[:]].toPandas())"
   ]
  },
  {
   "cell_type": "markdown",
   "id": "ad308e17",
   "metadata": {},
   "source": [
    "### Analyze Correlation of Numerica Features"
   ]
  },
  {
   "cell_type": "code",
   "execution_count": 63,
   "id": "8293c00c",
   "metadata": {},
   "outputs": [
    {
     "data": {
      "image/png": "[encoded data removed]",
      "text/plain": [
       "<Figure size 1200x800 with 2 Axes>"
      ]
     },
     "metadata": {},
     "output_type": "display_data"
    }
   ],
   "source": [
    "correlation_matrix = df[numeric_features].toPandas().corr()\n",
    "plt.figure(figsize=(12, 8))\n",
    "sb.heatmap(correlation_matrix, cmap='coolwarm', linewidths=.5)\n",
    "plt.title(\"Correlation Heatmap\")\n",
    "plt.show()"
   ]
  },
  {
   "cell_type": "markdown",
   "id": "4e87a619",
   "metadata": {},
   "source": [
    "### To do: drop highly correlated columns"
   ]
  },
  {
   "cell_type": "code",
   "execution_count": 64,
   "id": "3fc46d90",
   "metadata": {},
   "outputs": [],
   "source": [
    "# todo:删除相关性很大的列，但是我感觉没必要删，有很多相关性很大的列感觉需要保留\n",
    "# numeric_features[-14:-9]"
   ]
  },
  {
   "cell_type": "markdown",
   "id": "2fcd9cff",
   "metadata": {},
   "source": [
    "['goalkeeping_diving','goalkeeping_handling','goalkeeping_kicking','goalkeeping_positioning','goalkeeping_reflexes']   \n",
    "Even though these 5 columns are highly related, I don't think it's a good idea to drop them."
   ]
  },
  {
   "cell_type": "markdown",
   "id": "dce851d0",
   "metadata": {},
   "source": [
    "## Spark Pipeline"
   ]
  },
  {
   "cell_type": "code",
   "execution_count": 65,
   "id": "dc9fb054",
   "metadata": {},
   "outputs": [
    {
     "name": "stdout",
     "output_type": "stream",
     "text": [
      "['player_positions', 'league_name', 'club_position', 'preferred_foot', 'work_rate', 'body_type']\n"
     ]
    }
   ],
   "source": [
    "print(category_features)"
   ]
  },
  {
   "cell_type": "code",
   "execution_count": 66,
   "id": "103674fb",
   "metadata": {},
   "outputs": [],
   "source": [
    "import pyspark\n",
    "from pyspark.sql import SparkSession, SQLContext\n",
    "from pyspark.ml import Pipeline,Transformer\n",
    "from pyspark.ml.feature import Imputer,StandardScaler,StringIndexer,OneHotEncoder, VectorAssembler\n",
    "\n",
    "from pyspark.sql.functions import *\n",
    "from pyspark.sql.types import *\n",
    "import numpy as np\n",
    "\n",
    "col_names = ['player_positions', 'overall', 'potential', 'value_eur', 'wage_eur', 'age', 'height_cm', 'weight_kg',\n",
    "             'club_team_id', 'league_name', 'league_level', 'club_position', 'club_jersey_number', 'nationality_id',\n",
    "             'preferred_foot', 'weak_foot', 'skill_moves', 'international_reputation', 'work_rate', 'body_type', 'attacking_crossing',\n",
    "             'attacking_finishing', 'attacking_heading_accuracy', 'attacking_short_passing', 'attacking_volleys', 'skill_dribbling',\n",
    "             'skill_curve', 'skill_fk_accuracy', 'skill_long_passing', 'skill_ball_control', 'movement_acceleration', 'movement_sprint_speed',\n",
    "             'movement_agility', 'movement_reactions', 'movement_balance', 'power_shot_power', 'power_jumping', 'power_stamina', \n",
    "             'power_strength', 'power_long_shots', 'mentality_aggression', 'mentality_interceptions', 'mentality_positioning',\n",
    "             'mentality_vision', 'mentality_penalties', 'defending_marking_awareness', 'defending_standing_tackle', \n",
    "             'defending_sliding_tackle', 'goalkeeping_diving', 'goalkeeping_handling', 'goalkeeping_kicking', 'goalkeeping_positioning',\n",
    "             'goalkeeping_reflexes', 'pace', 'shooting', 'passing', 'dribbling', 'defending', 'physic', 'mentality_composure', \n",
    "             'goalkeeping_speed', 'ls_potential', 'ls_original', 'st_potential', 'st_original', 'rs_potential', 'rs_original', \n",
    "             'lw_potential', 'lw_original', 'lf_potential', 'lf_original', 'cf_potential', 'cf_original', 'rf_potential', 'rf_original',\n",
    "             'rw_potential', 'rw_original', 'lam_potential', 'lam_original', 'cam_potential', 'cam_original', 'ram_potential',\n",
    "             'ram_original', 'lm_potential', 'lm_original', 'lcm_potential', 'lcm_original', 'cm_potential', 'cm_original', \n",
    "             'rcm_potential', 'rcm_original', 'rm_potential', 'rm_original', 'lwb_potential', 'lwb_original', 'ldm_potential', \n",
    "             'ldm_original', 'cdm_potential', 'cdm_original', 'rdm_potential', 'rdm_original', 'rwb_potential', 'rwb_original', \n",
    "             'lb_potential', 'lb_original', 'lcb_potential', 'lcb_original', 'cb_potential', 'cb_original', 'rcb_potential', 'rcb_original',\n",
    "             'rb_potential', 'rb_original', 'gk_potential', 'gk_original', 'club_contract_valid_last']\n",
    "\n",
    "#we don't have binary_cols here\n",
    "nominal_cols = ['player_positions', 'league_name', 'club_position', 'preferred_foot', 'work_rate', 'body_type']\n",
    "\n",
    "#'value_eur' should not be included, because it's outcome\n",
    "continuous_cols =['overall', 'potential', 'wage_eur', 'age', 'height_cm', 'weight_kg', 'club_team_id',\n",
    "                  'league_level', 'club_jersey_number', 'nationality_id', 'weak_foot', 'skill_moves', \n",
    "                  'international_reputation', 'attacking_crossing', 'attacking_finishing', 'attacking_heading_accuracy',\n",
    "                  'attacking_short_passing', 'attacking_volleys', 'skill_dribbling', 'skill_curve', 'skill_fk_accuracy',\n",
    "                  'skill_long_passing', 'skill_ball_control', 'movement_acceleration', 'movement_sprint_speed', 'movement_agility',\n",
    "                  'movement_reactions', 'movement_balance', 'power_shot_power', 'power_jumping', 'power_stamina', 'power_strength',\n",
    "                  'power_long_shots', 'mentality_aggression', 'mentality_interceptions', 'mentality_positioning', 'mentality_vision',\n",
    "                  'mentality_penalties', 'defending_marking_awareness', 'defending_standing_tackle', 'defending_sliding_tackle',\n",
    "                  'goalkeeping_diving', 'goalkeeping_handling', 'goalkeeping_kicking', 'goalkeeping_positioning', 'goalkeeping_reflexes',\n",
    "                  'pace', 'shooting', 'passing', 'dribbling', 'defending', 'physic', 'mentality_composure', 'goalkeeping_speed',\n",
    "                  'ls_potential', 'ls_original', 'st_potential', 'st_original', 'rs_potential', 'rs_original', 'lw_potential', \n",
    "                  'lw_original', 'lf_potential', 'lf_original', 'cf_potential', 'cf_original', 'rf_potential', 'rf_original',\n",
    "                  'rw_potential', 'rw_original', 'lam_potential', 'lam_original', 'cam_potential', 'cam_original', 'ram_potential',\n",
    "                  'ram_original', 'lm_potential', 'lm_original', 'lcm_potential', 'lcm_original', 'cm_potential', 'cm_original',\n",
    "                  'rcm_potential', 'rcm_original', 'rm_potential', 'rm_original', 'lwb_potential', 'lwb_original', 'ldm_potential',\n",
    "                  'ldm_original', 'cdm_potential', 'cdm_original', 'rdm_potential', 'rdm_original', 'rwb_potential', 'rwb_original',\n",
    "                  'lb_potential', 'lb_original', 'lcb_potential', 'lcb_original', 'cb_potential', 'cb_original', 'rcb_potential',\n",
    "                  'rcb_original', 'rb_potential', 'rb_original', 'gk_potential', 'gk_original', 'club_contract_valid_last']\n",
    "\n",
    "drop1_cols=['dob','club_joined','club_name','nationality_name','player_url','player_face_url','club_logo_url',\n",
    "            'club_flag_url','nation_logo_url','nation_flag_url','sofifa_id','short_name','long_name','real_face',\n",
    "            'club_loaned_from','nation_team_id','nation_position','nation_jersey_number',\n",
    "           'release_clause_eur','player_tags','player_traits']\n",
    "\n",
    "drop_na_cols=[\"value_eur\",'wage_eur','league_name','league_level',\\\n",
    "                     'club_position','club_jersey_number','club_contract_valid_until']\n",
    "\n",
    "imputed_cols=['pace','shooting','passing','dribbling','defending','physic','mentality_composure','goalkeeping_speed']\n",
    "\n",
    "modify_cols=['ls', 'st', 'rs', 'lw', 'lf', 'cf', 'rf', 'rw', 'lam', 'cam', 'ram', 'lm',\n",
    "                'lcm', 'cm', 'rcm', 'rm', 'lwb', 'ldm', 'cdm', 'rdm', 'rwb', 'lb', 'lcb','cb', 'rcb', 'rb', 'gk']\n",
    "\n",
    "\n",
    "class OutcomeCreater(Transformer): # this defines a transformer that creates the outcome column\n",
    "    \n",
    "    def __init__(self):\n",
    "        super().__init__()\n",
    "\n",
    "    def _transform(self, dataset):\n",
    "        output_df=dataset\n",
    "        output_df = output_df.withColumn('outcome', col('value_eur').cast(DoubleType())).drop('value_eur')\n",
    "        return output_df\n",
    "\n",
    "class FeatureTypeCaster(Transformer): # this transformer will cast the columns as appropriate types  \n",
    "    def __init__(self):\n",
    "        super().__init__()\n",
    "\n",
    "    def _transform(self, dataset):\n",
    "        output_df = dataset\n",
    "        for col_name in continuous_cols:\n",
    "            output_df = output_df.withColumn(col_name,col(col_name).cast(DoubleType()))\n",
    "\n",
    "        return output_df\n",
    "class ColumnDropper(Transformer): # this transformer drops unnecessary columns\n",
    "    def __init__(self, columns_to_drop = None):\n",
    "        super().__init__()\n",
    "        self.columns_to_drop=columns_to_drop\n",
    "    def _transform(self, dataset):\n",
    "        output_df = dataset\n",
    "        for col in self.columns_to_drop:\n",
    "            output_df = output_df.drop(col)\n",
    "        return output_df\n",
    "\n",
    "class NaDropper(Transformer):\n",
    "    def __init__(self, columns_to_dropna = None):\n",
    "        super().__init__()\n",
    "        self.columns_to_dropna=columns_to_dropna\n",
    "    def _transform(self, dataset):\n",
    "        output_df = dataset\n",
    "        output_df = output_df.na.drop(subset=self.columns_to_dropna)\n",
    "        return output_df\n",
    "\n",
    "class Imputation(Transformer):\n",
    "    def __init__(self, imputed_cols = None):\n",
    "        super().__init__()\n",
    "        self.imputed_cols=imputed_cols\n",
    "    def _transform(self, dataset):\n",
    "        imputer = Imputer (\n",
    "                    inputCols=self.imputed_cols,\n",
    "                    outputCols=[\"{}_imputed\".format(c) for c in self.imputed_cols])\\\n",
    "                    .setStrategy(\"median\").setMissingValue(None)\n",
    "        output_df = dataset\n",
    "        output_df = imputer.fit(output_df).transform(output_df)\n",
    "        for col in self.imputed_cols:\n",
    "            output_df = output_df.drop(col)\n",
    "            output_df = output_df.withColumnRenamed(\"{}_imputed\".format(col),col)\n",
    "        return output_df\n",
    "\n",
    "class Modifier(Transformer):\n",
    "    def __init__(self, modify_cols = None):\n",
    "        super().__init__()\n",
    "        self.modify_cols=modify_cols\n",
    "    def _transform(self, dataset):\n",
    "        output_df = dataset\n",
    "        for column in self.modify_cols:\n",
    "            column_potential=f'{column}_potential'\n",
    "            column_original=f'{column}_original'\n",
    "            output_df = output_df.withColumn(column_potential, get_potential(col(column)))\n",
    "            output_df =output_df.withColumn(column_original,get_original(col(column))).drop(column)   \n",
    "        return output_df\n",
    "\n",
    "\n",
    "\n",
    "class GetClubContractValidLast(Transformer):\n",
    "    def __init__(self, modify_cols = None):\n",
    "        super().__init__()\n",
    "    def _transform(self, dataset):\n",
    "        output_df = dataset\n",
    "        output_df=output_df.withColumn('club_contract_valid_last',col('club_contract_valid_until')-col('year')).drop('club_contract_valid_until').drop('year')\n",
    "        return output_df\n",
    "    \n",
    "def get_preprocess_pipeline():\n",
    "    \n",
    "    stage_column_dropper1 = ColumnDropper(columns_to_drop = drop1_cols)\n",
    "    \n",
    "    stage_column_dropper2=NaDropper(columns_to_dropna=drop_na_cols)\n",
    "    \n",
    "    stage_imputation=Imputation(imputed_cols)\n",
    "    \n",
    "    stage_column_modify1=Modifier(modify_cols)\n",
    "    \n",
    "    stage_column_modify2=GetClubContractValidLast()\n",
    "    \n",
    "    # Stage where columns are casted as appropriate types\n",
    "    stage_typecaster = FeatureTypeCaster()\n",
    "\n",
    "    # Stage where nominal columns are transformed to index columns using StringIndexer\n",
    "    nominal_id_cols = [x+\"_index\" for x in nominal_cols]\n",
    "    nominal_onehot_cols = [x+\"_encoded\" for x in nominal_cols]\n",
    "    \n",
    "    #We need to define handleInvalid\n",
    "    #Otherwise, after fitting train_df_raw, when we transform test_df_raw, \n",
    "    #there will be some labels which never occur in train_df_raw and will cause error\n",
    "    stage_nominal_indexer = StringIndexer(inputCols = nominal_cols, outputCols = nominal_id_cols,handleInvalid='keep' )\n",
    "\n",
    "    # Stage where the index columns are further transformed using OneHotEncoder\n",
    "    stage_nominal_onehot_encoder = OneHotEncoder(inputCols=nominal_id_cols, outputCols=nominal_onehot_cols)\n",
    "\n",
    "    # Stage where all relevant features are assembled into a vector (and dropping a few)\n",
    "    feature_cols = continuous_cols+nominal_onehot_cols\n",
    "    \n",
    "#     corelated_cols_to_remove = [\"dst_host_serror_rate\",\"srv_serror_rate\",\"dst_host_srv_serror_rate\",\n",
    "#                      \"srv_rerror_rate\",\"dst_host_rerror_rate\",\"dst_host_srv_rerror_rate\"]\n",
    "#     for col_name in corelated_cols_to_remove:\n",
    "#         feature_cols.remove(col_name)\n",
    "\n",
    "    stage_vector_assembler = VectorAssembler(inputCols=feature_cols, outputCol=\"vectorized_features\")\n",
    "\n",
    "    # Stage where we scale the columns\n",
    "    stage_scaler = StandardScaler(inputCol= 'vectorized_features', outputCol= 'features')\n",
    "    \n",
    "\n",
    "    # Stage for creating the outcome column representing whether there is attack \n",
    "    stage_outcome = OutcomeCreater()\n",
    "\n",
    "    # Removing all unnecessary columbs, only keeping the 'features' and 'outcome' columns\n",
    "    stage_column_dropper3 = ColumnDropper(columns_to_drop = nominal_cols+nominal_id_cols+\n",
    "        nominal_onehot_cols+  continuous_cols + ['vectorized_features'])\n",
    "    # Connect the columns into a pipeline\n",
    "    pipeline = Pipeline(stages=[stage_column_dropper1,stage_column_dropper2,stage_imputation,stage_column_modify1,stage_column_modify2,\\\n",
    "                                stage_typecaster,stage_nominal_indexer,stage_nominal_onehot_encoder,stage_vector_assembler,\n",
    "                                stage_scaler,stage_outcome,stage_column_dropper3])\n",
    "    return pipeline "
   ]
  },
  {
   "cell_type": "code",
   "execution_count": 67,
   "id": "8df83116",
   "metadata": {},
   "outputs": [
    {
     "data": {
      "text/plain": [
       "142079"
      ]
     },
     "execution_count": 67,
     "metadata": {},
     "output_type": "execute_result"
    }
   ],
   "source": [
    "df_raw=sqlContext.read.format(\"jdbc\")\\\n",
    "    .option(\"url\", db_properties['url'])\\\n",
    "    .option(\"dbtable\", db_properties['table'])\\\n",
    "    .option(\"user\", db_properties['username'])\\\n",
    "    .option(\"password\", db_properties['password'])\\\n",
    "    .option(\"Driver\", db_properties['driver'])\\\n",
    "    .load()\n",
    "df_raw.count()"
   ]
  },
  {
   "cell_type": "code",
   "execution_count": 68,
   "id": "3e8a047d",
   "metadata": {},
   "outputs": [
    {
     "name": "stdout",
     "output_type": "stream",
     "text": [
      "113663 28416\n"
     ]
    }
   ],
   "source": [
    "# split dataset into train,test dataset by order\n",
    "total_rows = df_raw.count()\n",
    "\n",
    "split_point = int(total_rows * 0.8)\n",
    "\n",
    "train_df_raw = df_raw.limit(split_point)\n",
    "test_df_raw = df_raw.subtract(train_df_raw)\n",
    "\n",
    "# # 使用randomSplit方法划分train dataset和test dataset\n",
    "# weights = [0.8,0.2]\n",
    "\n",
    "# train_df_raw, test_df_raw= train_df_raw.randomSplit(weights, seed=42)\n",
    "print(train_df_raw.count(),test_df_raw.count())"
   ]
  },
  {
   "cell_type": "code",
   "execution_count": 69,
   "id": "a0474b6a",
   "metadata": {},
   "outputs": [],
   "source": [
    "preprocess_pipeline = get_preprocess_pipeline()\n",
    "preprocess_pipeline_model = preprocess_pipeline.fit(train_df_raw)\n",
    "\n",
    "train_df = preprocess_pipeline_model.transform(train_df_raw)\n",
    "test_df = preprocess_pipeline_model.transform(test_df_raw)"
   ]
  },
  {
   "cell_type": "code",
   "execution_count": 70,
   "id": "35e52049",
   "metadata": {},
   "outputs": [
    {
     "data": {
      "text/html": [
       "<div>\n",
       "<style scoped>\n",
       "    .dataframe tbody tr th:only-of-type {\n",
       "        vertical-align: middle;\n",
       "    }\n",
       "\n",
       "    .dataframe tbody tr th {\n",
       "        vertical-align: top;\n",
       "    }\n",
       "\n",
       "    .dataframe thead th {\n",
       "        text-align: right;\n",
       "    }\n",
       "</style>\n",
       "<table border=\"1\" class=\"dataframe\">\n",
       "  <thead>\n",
       "    <tr style=\"text-align: right;\">\n",
       "      <th></th>\n",
       "      <th>features</th>\n",
       "      <th>outcome</th>\n",
       "    </tr>\n",
       "  </thead>\n",
       "  <tbody>\n",
       "    <tr>\n",
       "      <th>0</th>\n",
       "      <td>(13.10387599928444, 15.017210893685483, 23.484...</td>\n",
       "      <td>100500000.0</td>\n",
       "    </tr>\n",
       "    <tr>\n",
       "      <th>1</th>\n",
       "      <td>(12.962974106819017, 14.54298318125331, 16.011...</td>\n",
       "      <td>79000000.0</td>\n",
       "    </tr>\n",
       "    <tr>\n",
       "      <th>2</th>\n",
       "      <td>(12.681170321888168, 14.226831372965195, 11.74...</td>\n",
       "      <td>54500000.0</td>\n",
       "    </tr>\n",
       "    <tr>\n",
       "      <th>3</th>\n",
       "      <td>(12.681170321888168, 14.226831372965195, 11.74...</td>\n",
       "      <td>52500000.0</td>\n",
       "    </tr>\n",
       "    <tr>\n",
       "      <th>4</th>\n",
       "      <td>(12.681170321888168, 14.226831372965195, 12.80...</td>\n",
       "      <td>63500000.0</td>\n",
       "    </tr>\n",
       "    <tr>\n",
       "      <th>...</th>\n",
       "      <td>...</td>\n",
       "      <td>...</td>\n",
       "    </tr>\n",
       "    <tr>\n",
       "      <th>111497</th>\n",
       "      <td>(9.158623010252565, 10.749161481795925, 0.0426...</td>\n",
       "      <td>800000.0</td>\n",
       "    </tr>\n",
       "    <tr>\n",
       "      <th>111498</th>\n",
       "      <td>(9.158623010252565, 10.43300967350781, 0.08539...</td>\n",
       "      <td>825000.0</td>\n",
       "    </tr>\n",
       "    <tr>\n",
       "      <th>111499</th>\n",
       "      <td>(9.158623010252565, 10.43300967350781, 0.12809...</td>\n",
       "      <td>825000.0</td>\n",
       "    </tr>\n",
       "    <tr>\n",
       "      <th>111500</th>\n",
       "      <td>(9.158623010252565, 10.274933769363752, 0.2561...</td>\n",
       "      <td>725000.0</td>\n",
       "    </tr>\n",
       "    <tr>\n",
       "      <th>111501</th>\n",
       "      <td>(9.158623010252565, 10.274933769363752, 0.0853...</td>\n",
       "      <td>600000.0</td>\n",
       "    </tr>\n",
       "  </tbody>\n",
       "</table>\n",
       "<p>111502 rows × 2 columns</p>\n",
       "</div>"
      ],
      "text/plain": [
       "                                                 features      outcome\n",
       "0       (13.10387599928444, 15.017210893685483, 23.484...  100500000.0\n",
       "1       (12.962974106819017, 14.54298318125331, 16.011...   79000000.0\n",
       "2       (12.681170321888168, 14.226831372965195, 11.74...   54500000.0\n",
       "3       (12.681170321888168, 14.226831372965195, 11.74...   52500000.0\n",
       "4       (12.681170321888168, 14.226831372965195, 12.80...   63500000.0\n",
       "...                                                   ...          ...\n",
       "111497  (9.158623010252565, 10.749161481795925, 0.0426...     800000.0\n",
       "111498  (9.158623010252565, 10.43300967350781, 0.08539...     825000.0\n",
       "111499  (9.158623010252565, 10.43300967350781, 0.12809...     825000.0\n",
       "111500  (9.158623010252565, 10.274933769363752, 0.2561...     725000.0\n",
       "111501  (9.158623010252565, 10.274933769363752, 0.0853...     600000.0\n",
       "\n",
       "[111502 rows x 2 columns]"
      ]
     },
     "execution_count": 70,
     "metadata": {},
     "output_type": "execute_result"
    }
   ],
   "source": [
    "pdf=train_df.toPandas()\n",
    "pdf"
   ]
  },
  {
   "cell_type": "markdown",
   "id": "33c1779e",
   "metadata": {},
   "source": [
    "## Spark Models"
   ]
  },
  {
   "cell_type": "markdown",
   "id": "5d8fa782",
   "metadata": {},
   "source": [
    "### GBT"
   ]
  },
  {
   "cell_type": "code",
   "execution_count": 71,
   "id": "5fd4ec87",
   "metadata": {},
   "outputs": [],
   "source": [
    "from pyspark.ml.regression import GBTRegressor\n",
    "from pyspark.ml.evaluation import RegressionEvaluator\n",
    "from pyspark.ml.tuning import ParamGridBuilder, CrossValidator"
   ]
  },
  {
   "cell_type": "code",
   "execution_count": 72,
   "id": "21e7c316",
   "metadata": {},
   "outputs": [],
   "source": [
    "gbt = GBTRegressor(featuresCol=\"features\", labelCol=\"outcome\", maxIter=10)"
   ]
  },
  {
   "cell_type": "code",
   "execution_count": 73,
   "id": "3179dba2",
   "metadata": {},
   "outputs": [],
   "source": [
    "gbt_model = gbt.fit(train_df)"
   ]
  },
  {
   "cell_type": "code",
   "execution_count": 74,
   "id": "8c09762a",
   "metadata": {},
   "outputs": [],
   "source": [
    "predictions = gbt_model.transform(test_df)"
   ]
  },
  {
   "cell_type": "code",
   "execution_count": 75,
   "id": "ea94ccd0",
   "metadata": {},
   "outputs": [
    {
     "name": "stdout",
     "output_type": "stream",
     "text": [
      "-RECORD 0--------------------------\n",
      " features   | (2024,[0,1,2,3,4,... \n",
      " outcome    | 2600000.0            \n",
      " prediction | 3311982.336525168    \n",
      "-RECORD 1--------------------------\n",
      " features   | (2024,[0,1,2,3,4,... \n",
      " outcome    | 1000000.0            \n",
      " prediction | 773637.8919271943    \n",
      "-RECORD 2--------------------------\n",
      " features   | (2024,[0,1,2,3,4,... \n",
      " outcome    | 300000.0             \n",
      " prediction | 323941.9408034199    \n",
      "only showing top 3 rows\n",
      "\n"
     ]
    }
   ],
   "source": [
    "predictions.show(3,vertical=True)"
   ]
  },
  {
   "cell_type": "code",
   "execution_count": 76,
   "id": "8b303493",
   "metadata": {},
   "outputs": [
    {
     "data": {
      "text/plain": [
       "2037648.36391343"
      ]
     },
     "execution_count": 76,
     "metadata": {},
     "output_type": "execute_result"
    }
   ],
   "source": [
    "# 评估模型性能\n",
    "evaluator = RegressionEvaluator(labelCol=\"outcome\", predictionCol=\"prediction\", metricName=\"rmse\")\n",
    "rmse = evaluator.evaluate(predictions)\n",
    "rmse"
   ]
  },
  {
   "cell_type": "markdown",
   "id": "49f547ba",
   "metadata": {},
   "source": [
    "### To do: cross validation for GBT"
   ]
  },
  {
   "cell_type": "code",
   "execution_count": 77,
   "id": "b852d794",
   "metadata": {},
   "outputs": [],
   "source": [
    "# # It's too slow to do cross validation\n",
    "# gbt_paramGrid = (ParamGridBuilder()\n",
    "#              .addGrid(gbt.maxDepth, [5, 10])\n",
    "#              .addGrid(gbt.maxIter,[10, 20])\n",
    "#              .build())"
   ]
  },
  {
   "cell_type": "code",
   "execution_count": 78,
   "id": "aad5a619",
   "metadata": {},
   "outputs": [],
   "source": [
    "# gbt_cv = CrossValidator(estimator=gbt, estimatorParamMaps=gbt_paramGrid, \n",
    "#                     evaluator=evaluator, numFolds=5)\n",
    "# gbt_cv_model = gbt_cv.fit(train_df)"
   ]
  },
  {
   "cell_type": "code",
   "execution_count": 79,
   "id": "b55ed553",
   "metadata": {},
   "outputs": [],
   "source": [
    "# gbt_cv_prediction_train = gbt_cv_model.transform(train_df)\n",
    "# gbt_cv_prediction_test = gbt_cv_model.transform(test_df)"
   ]
  },
  {
   "cell_type": "code",
   "execution_count": 80,
   "id": "c56a92c1",
   "metadata": {},
   "outputs": [],
   "source": [
    "# gbt_cv_rmse_train = evaluator.evaluate(gbt_cv_prediction_train)\n",
    "# gbt_cv_rmse_test = evaluator.evaluate(gbt_cv_prediction_test)\n",
    "# print(f\"Train rmse = {gbt_cv_rmse_train}, test rmse = {gbt_cv_rmse_test}\")"
   ]
  },
  {
   "cell_type": "markdown",
   "id": "62722ca1",
   "metadata": {},
   "source": [
    "### Linear Regression"
   ]
  },
  {
   "cell_type": "code",
   "execution_count": 81,
   "id": "2c05202c",
   "metadata": {},
   "outputs": [],
   "source": [
    "from pyspark.ml.regression import LinearRegression\n",
    "\n",
    "lr = LinearRegression(featuresCol=\"features\", labelCol=\"outcome\")"
   ]
  },
  {
   "cell_type": "code",
   "execution_count": 82,
   "id": "e66c9bd4",
   "metadata": {},
   "outputs": [],
   "source": [
    "lr_paramGrid = ParamGridBuilder() \\\n",
    "             .addGrid(lr.regParam, [0,0.01, 0.1, 1.0])\\\n",
    "             .addGrid(lr.maxIter, [10, 50, 100])\\\n",
    "             .build()\n",
    "\n",
    "lr_cv = CrossValidator(estimator=lr, estimatorParamMaps=lr_paramGrid, \n",
    "                    evaluator=evaluator, numFolds=5)\n",
    "\n",
    "lr_cv_model = lr_cv.fit(train_df)"
   ]
  },
  {
   "cell_type": "code",
   "execution_count": 83,
   "id": "7b4aa7b7",
   "metadata": {},
   "outputs": [],
   "source": [
    "lr_cv_prediction_train = lr_cv_model.transform(train_df)\n",
    "lr_cv_prediction_test = lr_cv_model.transform(test_df)"
   ]
  },
  {
   "cell_type": "code",
   "execution_count": 84,
   "id": "77c75e9a",
   "metadata": {},
   "outputs": [
    {
     "name": "stdout",
     "output_type": "stream",
     "text": [
      "Train rmse = 2794851.2592616556, test rmse = 3492904.534217083\n"
     ]
    }
   ],
   "source": [
    "lr_cv_rmse_train = evaluator.evaluate(lr_cv_prediction_train)\n",
    "lr_cv_rmse_test = evaluator.evaluate(lr_cv_prediction_test)\n",
    "print(f\"Train rmse = {lr_cv_rmse_train}, test rmse = {lr_cv_rmse_test}\")"
   ]
  },
  {
   "cell_type": "code",
   "execution_count": 85,
   "id": "8a1e381f",
   "metadata": {},
   "outputs": [
    {
     "name": "stdout",
     "output_type": "stream",
     "text": [
      "+--------------------+---------+------------------+\n",
      "|            features|  outcome|        prediction|\n",
      "+--------------------+---------+------------------+\n",
      "|(2024,[0,1,2,3,4,...|2600000.0|  9445180.99921503|\n",
      "|(2024,[0,1,2,3,4,...|1000000.0|   2420681.3066796|\n",
      "|(2024,[0,1,2,3,4,...| 300000.0|415727.87788350414|\n",
      "+--------------------+---------+------------------+\n",
      "only showing top 3 rows\n",
      "\n"
     ]
    }
   ],
   "source": [
    "lr_cv_prediction_test.show(3)"
   ]
  },
  {
   "cell_type": "markdown",
   "id": "58c72ba2",
   "metadata": {},
   "source": [
    "## PyTorch Models"
   ]
  },
  {
   "cell_type": "code",
   "execution_count": 86,
   "id": "5bb5217b",
   "metadata": {},
   "outputs": [],
   "source": [
    "from torch.utils.data import Dataset,DataLoader\n",
    "import torch"
   ]
  },
  {
   "cell_type": "code",
   "execution_count": 87,
   "id": "9a07ec6c",
   "metadata": {},
   "outputs": [],
   "source": [
    "class MyDataset(Dataset):\n",
    "    def __init__(self,x,y):\n",
    "        self.x=x\n",
    "        self.y=y\n",
    "    def __len__(self):\n",
    "        return self.x.shape[0]\n",
    "    def __getitem__(self,idx):\n",
    "        return (self.x[idx],self.y[idx])"
   ]
  },
  {
   "cell_type": "markdown",
   "id": "97c7d26d",
   "metadata": {},
   "source": [
    "### To do"
   ]
  },
  {
   "cell_type": "code",
   "execution_count": 88,
   "id": "8cdb4cd3",
   "metadata": {},
   "outputs": [],
   "source": [
    "# x_train=torch.from_numpy(np.array(train_df.toPandas()['features'].values.tolist(),np.float32))\n",
    "# y_train=torch.from_numpy(np.array(train_df.toPandas()['outcome'].values.tolist(),np.int64))\n",
    "\n",
    "# x_test=torch.from_numpy(np.array(test_df.toPandas()['features'].values.tolist(),np.float32))\n",
    "# y_test=torch.from_numpy(np.array(test_df.toPandas()['outcome'].values.tolist(),np.int64))"
   ]
  },
  {
   "cell_type": "code",
   "execution_count": 89,
   "id": "be48c4da",
   "metadata": {},
   "outputs": [],
   "source": [
    "# train_dataset=MyDataset(x_train,y_train)\n",
    "# middle_dataset=MyDataset(x_test,y_test)\n",
    "\n",
    "# generator = torch.Generator().manual_seed(42)\n",
    "# val_dataset,test_dataset=torch.utils.data.random_split(middle_dataset,[0.5,0.5],generator=generator)"
   ]
  }
 ],
 "metadata": {
  "kernelspec": {
   "display_name": "Python 3 (ipykernel)",
   "language": "python",
   "name": "python3"
  },
  "language_info": {
   "codemirror_mode": {
    "name": "ipython",
    "version": 3
   },
   "file_extension": ".py",
   "mimetype": "text/x-python",
   "name": "python",
   "nbconvert_exporter": "python",
   "pygments_lexer": "ipython3",
   "version": "3.11.4"
  }
 },
 "nbformat": 4,
 "nbformat_minor": 5
}
